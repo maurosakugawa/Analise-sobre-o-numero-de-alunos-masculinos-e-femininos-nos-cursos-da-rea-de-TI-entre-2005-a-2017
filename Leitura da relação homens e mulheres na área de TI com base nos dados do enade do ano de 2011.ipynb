{
 "cells": [
  {
   "cell_type": "markdown",
   "metadata": {},
   "source": [
    "**Importando bibliotecas, lendo apenas as colunas necessárias e imprimindo apenas cinco linhas com a função .head()**"
   ]
  },
  {
   "cell_type": "code",
   "execution_count": 1,
   "metadata": {},
   "outputs": [
    {
     "data": {
      "text/html": [
       "<div>\n",
       "<style scoped>\n",
       "    .dataframe tbody tr th:only-of-type {\n",
       "        vertical-align: middle;\n",
       "    }\n",
       "\n",
       "    .dataframe tbody tr th {\n",
       "        vertical-align: top;\n",
       "    }\n",
       "\n",
       "    .dataframe thead th {\n",
       "        text-align: right;\n",
       "    }\n",
       "</style>\n",
       "<table border=\"1\" class=\"dataframe\">\n",
       "  <thead>\n",
       "    <tr style=\"text-align: right;\">\n",
       "      <th></th>\n",
       "      <th>NU_ANO</th>\n",
       "      <th>CO_GRUPO</th>\n",
       "      <th>TP_SEXO</th>\n",
       "    </tr>\n",
       "  </thead>\n",
       "  <tbody>\n",
       "    <tr>\n",
       "      <td>371965</td>\n",
       "      <td>2011</td>\n",
       "      <td>2001</td>\n",
       "      <td>F</td>\n",
       "    </tr>\n",
       "    <tr>\n",
       "      <td>159188</td>\n",
       "      <td>2011</td>\n",
       "      <td>5902</td>\n",
       "      <td>M</td>\n",
       "    </tr>\n",
       "    <tr>\n",
       "      <td>223785</td>\n",
       "      <td>2011</td>\n",
       "      <td>6307</td>\n",
       "      <td>F</td>\n",
       "    </tr>\n",
       "    <tr>\n",
       "      <td>113802</td>\n",
       "      <td>2011</td>\n",
       "      <td>902</td>\n",
       "      <td>F</td>\n",
       "    </tr>\n",
       "    <tr>\n",
       "      <td>359658</td>\n",
       "      <td>2011</td>\n",
       "      <td>1501</td>\n",
       "      <td>F</td>\n",
       "    </tr>\n",
       "  </tbody>\n",
       "</table>\n",
       "</div>"
      ],
      "text/plain": [
       "        NU_ANO  CO_GRUPO TP_SEXO\n",
       "371965    2011      2001       F\n",
       "159188    2011      5902       M\n",
       "223785    2011      6307       F\n",
       "113802    2011       902       F\n",
       "359658    2011      1501       F"
      ]
     },
     "execution_count": 1,
     "metadata": {},
     "output_type": "execute_result"
    }
   ],
   "source": [
    "import pandas as pd\n",
    "import matplotlib.pyplot as plt\n",
    "import numpy as np\n",
    "df = pd.read_csv(\"/home/mauro/Área de Trabalho/enade/microdados_enade_2011/3.DADOS/MICRODADOS_ENADE_2011.txt\", delimiter=';', encoding='iso-8859-1', usecols=['NU_ANO', 'CO_GRUPO', 'TP_SEXO'])\n",
    "df.sample(5)"
   ]
  },
  {
   "cell_type": "markdown",
   "metadata": {},
   "source": [
    "**Distribuição dos alunos por curso no enem em um universo de todos os cursos**"
   ]
  },
  {
   "cell_type": "code",
   "execution_count": 2,
   "metadata": {},
   "outputs": [
    {
     "data": {
      "text/plain": [
       "Text(0, 0.5, 'Alunos')"
      ]
     },
     "execution_count": 2,
     "metadata": {},
     "output_type": "execute_result"
    },
    {
     "data": {
      "image/png": "[encoded data removed]",
      "text/plain": [
       "<Figure size 1440x864 with 1 Axes>"
      ]
     },
     "metadata": {},
     "output_type": "display_data"
    }
   ],
   "source": [
    "plt.style.use(\"ggplot\")\n",
    "plt.figure(figsize = (20, 12))\n",
    "df[\"CO_GRUPO\"].hist(bins = 100, ec = \"k\", alpha = .6, color = \"royalblue\")\n",
    "plt.title(\"Distribuição dos alunos por cursos\")\n",
    "plt.xlabel(\"Código dos cursos\")\n",
    "plt.ylabel(\"Alunos\")"
   ]
  },
  {
   "cell_type": "markdown",
   "metadata": {},
   "source": [
    "**Usando a função loc para selecionar a coluna que contém os dados desejados e a função count para saber a quantidade de alunos nos cursos.**"
   ]
  },
  {
   "cell_type": "code",
   "execution_count": 3,
   "metadata": {},
   "outputs": [
    {
     "data": {
      "text/plain": [
       "NU_ANO      43075\n",
       "CO_GRUPO    43075\n",
       "TP_SEXO     43075\n",
       "dtype: int64"
      ]
     },
     "execution_count": 3,
     "metadata": {},
     "output_type": "execute_result"
    }
   ],
   "source": [
    "df = df.loc[(df['CO_GRUPO']==72) | (df['CO_GRUPO']==79) | (df['CO_GRUPO']==4004) | (df['CO_GRUPO']==4005) | (df['CO_GRUPO']==4006) | (df['CO_GRUPO']==4007) | (df['CO_GRUPO']==5809) | (df['CO_GRUPO']==5811)]\n",
    "df.count()"
   ]
  },
  {
   "cell_type": "markdown",
   "metadata": {},
   "source": [
    "**Usando a função loc para selecionar a coluna que contém os dados desejados e a função assign para criar uma nova coluna de nome curso.**"
   ]
  },
  {
   "cell_type": "code",
   "execution_count": 4,
   "metadata": {},
   "outputs": [
    {
     "data": {
      "text/html": [
       "<div>\n",
       "<style scoped>\n",
       "    .dataframe tbody tr th:only-of-type {\n",
       "        vertical-align: middle;\n",
       "    }\n",
       "\n",
       "    .dataframe tbody tr th {\n",
       "        vertical-align: top;\n",
       "    }\n",
       "\n",
       "    .dataframe thead th {\n",
       "        text-align: right;\n",
       "    }\n",
       "</style>\n",
       "<table border=\"1\" class=\"dataframe\">\n",
       "  <thead>\n",
       "    <tr style=\"text-align: right;\">\n",
       "      <th></th>\n",
       "      <th>NU_ANO</th>\n",
       "      <th>CO_GRUPO</th>\n",
       "      <th>TP_SEXO</th>\n",
       "      <th>curso</th>\n",
       "    </tr>\n",
       "  </thead>\n",
       "  <tbody>\n",
       "    <tr>\n",
       "      <td>199399</td>\n",
       "      <td>2011</td>\n",
       "      <td>4006</td>\n",
       "      <td>M</td>\n",
       "      <td>4006</td>\n",
       "    </tr>\n",
       "    <tr>\n",
       "      <td>174376</td>\n",
       "      <td>2011</td>\n",
       "      <td>5809</td>\n",
       "      <td>M</td>\n",
       "      <td>5809</td>\n",
       "    </tr>\n",
       "    <tr>\n",
       "      <td>334170</td>\n",
       "      <td>2011</td>\n",
       "      <td>4004</td>\n",
       "      <td>M</td>\n",
       "      <td>4004</td>\n",
       "    </tr>\n",
       "    <tr>\n",
       "      <td>176024</td>\n",
       "      <td>2011</td>\n",
       "      <td>4004</td>\n",
       "      <td>M</td>\n",
       "      <td>4004</td>\n",
       "    </tr>\n",
       "    <tr>\n",
       "      <td>80727</td>\n",
       "      <td>2011</td>\n",
       "      <td>4004</td>\n",
       "      <td>M</td>\n",
       "      <td>4004</td>\n",
       "    </tr>\n",
       "    <tr>\n",
       "      <td>202769</td>\n",
       "      <td>2011</td>\n",
       "      <td>4006</td>\n",
       "      <td>M</td>\n",
       "      <td>4006</td>\n",
       "    </tr>\n",
       "    <tr>\n",
       "      <td>142111</td>\n",
       "      <td>2011</td>\n",
       "      <td>4006</td>\n",
       "      <td>M</td>\n",
       "      <td>4006</td>\n",
       "    </tr>\n",
       "    <tr>\n",
       "      <td>368723</td>\n",
       "      <td>2011</td>\n",
       "      <td>4004</td>\n",
       "      <td>M</td>\n",
       "      <td>4004</td>\n",
       "    </tr>\n",
       "    <tr>\n",
       "      <td>187986</td>\n",
       "      <td>2011</td>\n",
       "      <td>72</td>\n",
       "      <td>F</td>\n",
       "      <td>72</td>\n",
       "    </tr>\n",
       "    <tr>\n",
       "      <td>342527</td>\n",
       "      <td>2011</td>\n",
       "      <td>79</td>\n",
       "      <td>M</td>\n",
       "      <td>79</td>\n",
       "    </tr>\n",
       "  </tbody>\n",
       "</table>\n",
       "</div>"
      ],
      "text/plain": [
       "        NU_ANO  CO_GRUPO TP_SEXO  curso\n",
       "199399    2011      4006       M   4006\n",
       "174376    2011      5809       M   5809\n",
       "334170    2011      4004       M   4004\n",
       "176024    2011      4004       M   4004\n",
       "80727     2011      4004       M   4004\n",
       "202769    2011      4006       M   4006\n",
       "142111    2011      4006       M   4006\n",
       "368723    2011      4004       M   4004\n",
       "187986    2011        72       F     72\n",
       "342527    2011        79       M     79"
      ]
     },
     "execution_count": 4,
     "metadata": {},
     "output_type": "execute_result"
    }
   ],
   "source": [
    "df = df.loc[(df['CO_GRUPO']==72) | (df['CO_GRUPO']==79) | (df['CO_GRUPO']==4004) | (df['CO_GRUPO']==4005) | (df['CO_GRUPO']==4006) | (df['CO_GRUPO']==4007) | (df['CO_GRUPO']==5809) | (df['CO_GRUPO']==5811)].assign(curso=df.CO_GRUPO) \n",
    "df.sample(10)"
   ]
  },
  {
   "cell_type": "markdown",
   "metadata": {},
   "source": [
    "**Criando a função define_nome para converter o código do curso em nome do curso.**"
   ]
  },
  {
   "cell_type": "code",
   "execution_count": 5,
   "metadata": {},
   "outputs": [
    {
     "data": {
      "text/html": [
       "<div>\n",
       "<style scoped>\n",
       "    .dataframe tbody tr th:only-of-type {\n",
       "        vertical-align: middle;\n",
       "    }\n",
       "\n",
       "    .dataframe tbody tr th {\n",
       "        vertical-align: top;\n",
       "    }\n",
       "\n",
       "    .dataframe thead th {\n",
       "        text-align: right;\n",
       "    }\n",
       "</style>\n",
       "<table border=\"1\" class=\"dataframe\">\n",
       "  <thead>\n",
       "    <tr style=\"text-align: right;\">\n",
       "      <th></th>\n",
       "      <th>NU_ANO</th>\n",
       "      <th>CO_GRUPO</th>\n",
       "      <th>TP_SEXO</th>\n",
       "      <th>curso</th>\n",
       "    </tr>\n",
       "  </thead>\n",
       "  <tbody>\n",
       "    <tr>\n",
       "      <td>942</td>\n",
       "      <td>2011</td>\n",
       "      <td>4004</td>\n",
       "      <td>M</td>\n",
       "      <td>COMPUTAÇÃO (BACHARELADO)</td>\n",
       "    </tr>\n",
       "    <tr>\n",
       "      <td>943</td>\n",
       "      <td>2011</td>\n",
       "      <td>4004</td>\n",
       "      <td>M</td>\n",
       "      <td>COMPUTAÇÃO (BACHARELADO)</td>\n",
       "    </tr>\n",
       "    <tr>\n",
       "      <td>944</td>\n",
       "      <td>2011</td>\n",
       "      <td>4004</td>\n",
       "      <td>M</td>\n",
       "      <td>COMPUTAÇÃO (BACHARELADO)</td>\n",
       "    </tr>\n",
       "    <tr>\n",
       "      <td>945</td>\n",
       "      <td>2011</td>\n",
       "      <td>4004</td>\n",
       "      <td>M</td>\n",
       "      <td>COMPUTAÇÃO (BACHARELADO)</td>\n",
       "    </tr>\n",
       "    <tr>\n",
       "      <td>946</td>\n",
       "      <td>2011</td>\n",
       "      <td>4004</td>\n",
       "      <td>M</td>\n",
       "      <td>COMPUTAÇÃO (BACHARELADO)</td>\n",
       "    </tr>\n",
       "  </tbody>\n",
       "</table>\n",
       "</div>"
      ],
      "text/plain": [
       "     NU_ANO  CO_GRUPO TP_SEXO                     curso\n",
       "942    2011      4004       M  COMPUTAÇÃO (BACHARELADO)\n",
       "943    2011      4004       M  COMPUTAÇÃO (BACHARELADO)\n",
       "944    2011      4004       M  COMPUTAÇÃO (BACHARELADO)\n",
       "945    2011      4004       M  COMPUTAÇÃO (BACHARELADO)\n",
       "946    2011      4004       M  COMPUTAÇÃO (BACHARELADO)"
      ]
     },
     "execution_count": 5,
     "metadata": {},
     "output_type": "execute_result"
    }
   ],
   "source": [
    "def define_nome(num):\n",
    "    if num == 72:\n",
    "        return 'TECNOLOGIA EM ANALISE E DESENVOLVIMENTO DE SISTEMAS'\n",
    "    elif num == 79:\n",
    "        return 'TECNOLOGIA EM REDES DE COMPUTADORES'\n",
    "    elif num == 4004:\n",
    "        return 'COMPUTAÇÃO (BACHARELADO)'\n",
    "    elif num == 4005:\n",
    "        return 'COMPUTAÇÃO (LICENCIATURA)'\n",
    "    elif num == 4006:\n",
    "        return 'COMPUTAÇÃO (SISTEMAS DE INFORMAÇÃO)'\n",
    "    elif num == 4007:\n",
    "        return 'COMPUTAÇÃO (BACHARELADO)'\n",
    "    elif num == 4005:\n",
    "        return 'COMPUTAÇÃO (ENGENHARIA DE COMPUTAÇÃO)'   \n",
    "    elif num == 5809:\n",
    "        return 'ENGENHARIA DA COMPUTAÇÃO'\n",
    "    elif num == 5811:\n",
    "        return 'ENGENHARIA DE REDES DE COMUNICAÇÃO' \n",
    "    \n",
    "df['curso'] = df['CO_GRUPO'].map(define_nome)\n",
    "df.head()"
   ]
  },
  {
   "cell_type": "markdown",
   "metadata": {},
   "source": [
    "**Imprimindo o número de alunos por curso da área de TI, a legenda dos códigos dos cursos está no rodapé.**"
   ]
  },
  {
   "cell_type": "code",
   "execution_count": 6,
   "metadata": {},
   "outputs": [
    {
     "data": {
      "text/plain": [
       "4006    12604\n",
       "4004    11804\n",
       "72      10750\n",
       "79       4736\n",
       "4007     2012\n",
       "4005      833\n",
       "5809      296\n",
       "5811       40\n",
       "Name: CO_GRUPO, dtype: int64"
      ]
     },
     "execution_count": 6,
     "metadata": {},
     "output_type": "execute_result"
    }
   ],
   "source": [
    "dfTotal = df.loc[(df['CO_GRUPO']==72) | (df['CO_GRUPO']==79) | (df['CO_GRUPO']==4004) | (df['CO_GRUPO']==4005) | (df['CO_GRUPO']==4006) | (df['CO_GRUPO']==4007) | (df['CO_GRUPO']==5809) | (df['CO_GRUPO']==5811)].assign(curso=df.CO_GRUPO) \n",
    "dfTotal['CO_GRUPO'].value_counts()"
   ]
  },
  {
   "cell_type": "markdown",
   "metadata": {},
   "source": [
    "**Contando o número total de alunos por gênero de sexo na área de TI.<br> São 36.542 alunos do sexo masculino, 6.532 do sexo feminino e 1 com gênero não informado.**"
   ]
  },
  {
   "cell_type": "code",
   "execution_count": 7,
   "metadata": {},
   "outputs": [
    {
     "data": {
      "text/plain": [
       "M    36542\n",
       "F     6532\n",
       "N        1\n",
       "Name: TP_SEXO, dtype: int64"
      ]
     },
     "execution_count": 7,
     "metadata": {},
     "output_type": "execute_result"
    }
   ],
   "source": [
    "dfAlunos = df.loc[(df['CO_GRUPO']==72) | (df['CO_GRUPO']==79) | (df['CO_GRUPO']==4004) | (df['CO_GRUPO']==4005) | (df['CO_GRUPO']==4006) | (df['CO_GRUPO']==4007) | (df['CO_GRUPO']==5809) | (df['CO_GRUPO']==5811) & df['TP_SEXO']==1]\n",
    "dfAlunos['TP_SEXO'].value_counts()"
   ]
  },
  {
   "cell_type": "markdown",
   "metadata": {},
   "source": [
    "**Gráfico pizza e barras com os gêneros informados, esse ano teve a inclusão da possibilidade de não informar seu gênero sexual.**"
   ]
  },
  {
   "cell_type": "code",
   "execution_count": 8,
   "metadata": {},
   "outputs": [
    {
     "data": {
      "text/plain": [
       "<matplotlib.legend.Legend at 0x7fb80b18de10>"
      ]
     },
     "execution_count": 8,
     "metadata": {},
     "output_type": "execute_result"
    },
    {
     "data": {
      "image/png": "[encoded data removed]",
      "text/plain": [
       "<Figure size 1728x576 with 2 Axes>"
      ]
     },
     "metadata": {},
     "output_type": "display_data"
    }
   ],
   "source": [
    "\n",
    "sexo = ['Masculino', 'Feminino', 'Não Informado']\n",
    "quant = [36542, 6532, 1]\n",
    "plt.figure(figsize = (24, 8))\n",
    "plt.subplot(1, 2, 1)\n",
    "plt.bar(sexo, quant, ec = \"k\", alpha = .6, color = \"royalblue\")\n",
    "plt.xlabel(\"Ano\")\n",
    "plt.title(\"Ano de início de graduação dos alunos que realizaram o ENADE em 2016\")\n",
    "plt.subplot(1, 2, 2)\n",
    "plt.pie(quant, \n",
    "        labels = list(sexo),  \n",
    "        colors = [\"#6ce2cb\", \"#6a8ee8\", \"#66bbe2\"],\n",
    "        labeldistance = 1.1,\n",
    "        explode = [0, 0, 0],\n",
    "        wedgeprops = {\"ec\": \"k\"}, \n",
    "        textprops = {\"fontsize\": 15}, \n",
    "        )\n",
    "plt.axis(\"equal\")\n",
    "plt.title(\"Ano de início de graduação dos alunos que realizaram o ENADE em 2016\")\n",
    "plt.legend(loc=0)"
   ]
  },
  {
   "cell_type": "markdown",
   "metadata": {},
   "source": [
    "# Legendas:\n",
    "### Coluna sexo\n",
    "**F** : Feminino<br>\n",
    "**M** : Masculino<br>\n",
    "**N** : Não Informado\n",
    "### Coluna Curso\n",
    "\n",
    "**72 -** TECNOLOGIA EM ANALISE E DESENVOLVIMENTO DE SISTEMAS<br>\n",
    "**79 -** TECNOLOGIA EM REDES DE COMPUTADORES<br>\n",
    "**4004 -** COMPUTAÇÃO (BACHARELADO)<br>\n",
    "**4005 -** COMPUTAÇÃO (LICENCIATURA)<br>\n",
    "**4006 -** COMPUTAÇÃO (SISTEMAS DE INFORMAÇÃO)<br>\n",
    "**4007 -** COMPUTAÇÃO (ENGENHARIA DE COMPUTAÇÃO) <br>\n",
    "**5809 -** ENGENHARIA DA COMPUTAÇÃO<br>\n",
    "**5811 -** ENGENHARIA DE REDES DE COMUNICAÇÃO\n",
    "\n",
    "## Observação \n",
    "#### O enade mudou o formato de seus dados, como mudanças eles trouxeram:\n",
    "**Formato do arquivo:** Mudou de csv para txt<br>\n",
    "**Nome das colunas:** Agora as colunas são nomeadas em CAIXA ALTA<br>\n",
    "**Sexo dos alunos:** Mudou-se do formato numérico (1, 2) para o formato alfabético (M, F, N). Foi incluído a possibilidade de não informar seu gênero sexual."
   ]
  }
 ],
 "metadata": {
  "kernelspec": {
   "display_name": "Python 3",
   "language": "python",
   "name": "python3"
  },
  "language_info": {
   "codemirror_mode": {
    "name": "ipython",
    "version": 3
   },
   "file_extension": ".py",
   "mimetype": "text/x-python",
   "name": "python",
   "nbconvert_exporter": "python",
   "pygments_lexer": "ipython3",
   "version": "3.7.3"
  }
 },
 "nbformat": 4,
 "nbformat_minor": 2
}
