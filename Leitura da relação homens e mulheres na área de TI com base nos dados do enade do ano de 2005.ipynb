{
 "cells": [
  {
   "cell_type": "markdown",
   "metadata": {},
   "source": [
    "# Importando bibliotecas, lendo apenas as colunas necessárias e imprimindo apenas cinco linhas com a função .head()"
   ]
  },
  {
   "cell_type": "code",
   "execution_count": 1,
   "metadata": {},
   "outputs": [
    {
     "data": {
      "text/html": [
       "<div>\n",
       "<style scoped>\n",
       "    .dataframe tbody tr th:only-of-type {\n",
       "        vertical-align: middle;\n",
       "    }\n",
       "\n",
       "    .dataframe tbody tr th {\n",
       "        vertical-align: top;\n",
       "    }\n",
       "\n",
       "    .dataframe thead th {\n",
       "        text-align: right;\n",
       "    }\n",
       "</style>\n",
       "<table border=\"1\" class=\"dataframe\">\n",
       "  <thead>\n",
       "    <tr style=\"text-align: right;\">\n",
       "      <th></th>\n",
       "      <th>nu_ano</th>\n",
       "      <th>co_grupo</th>\n",
       "      <th>tp_sexo</th>\n",
       "    </tr>\n",
       "  </thead>\n",
       "  <tbody>\n",
       "    <tr>\n",
       "      <td>0</td>\n",
       "      <td>2005</td>\n",
       "      <td>7</td>\n",
       "      <td>1</td>\n",
       "    </tr>\n",
       "    <tr>\n",
       "      <td>1</td>\n",
       "      <td>2005</td>\n",
       "      <td>7</td>\n",
       "      <td>1</td>\n",
       "    </tr>\n",
       "    <tr>\n",
       "      <td>2</td>\n",
       "      <td>2005</td>\n",
       "      <td>7</td>\n",
       "      <td>2</td>\n",
       "    </tr>\n",
       "    <tr>\n",
       "      <td>3</td>\n",
       "      <td>2005</td>\n",
       "      <td>7</td>\n",
       "      <td>1</td>\n",
       "    </tr>\n",
       "    <tr>\n",
       "      <td>4</td>\n",
       "      <td>2005</td>\n",
       "      <td>7</td>\n",
       "      <td>2</td>\n",
       "    </tr>\n",
       "  </tbody>\n",
       "</table>\n",
       "</div>"
      ],
      "text/plain": [
       "   nu_ano  co_grupo  tp_sexo\n",
       "0    2005         7        1\n",
       "1    2005         7        1\n",
       "2    2005         7        2\n",
       "3    2005         7        1\n",
       "4    2005         7        2"
      ]
     },
     "execution_count": 1,
     "metadata": {},
     "output_type": "execute_result"
    }
   ],
   "source": [
    "import pandas as pd\n",
    "import matplotlib.pyplot as plt\n",
    "import numpy as np\n",
    "df = pd.read_csv(\"/home/mauro/Área de Trabalho/enade/microdados_enade_2005/2.DADOS/microdados_enade_2005.csv\", delimiter=';', encoding='iso-8859-1', usecols=['nu_ano', 'co_grupo', 'tp_sexo'])\n",
    "df.head()"
   ]
  },
  {
   "cell_type": "markdown",
   "metadata": {},
   "source": [
    "**Distribuição dos alunos por curso no enem em um universo de todos os cursos**"
   ]
  },
  {
   "cell_type": "code",
   "execution_count": 2,
   "metadata": {},
   "outputs": [
    {
     "data": {
      "text/plain": [
       "Text(0, 0.5, 'Alunos')"
      ]
     },
     "execution_count": 2,
     "metadata": {},
     "output_type": "execute_result"
    },
    {
     "data": {
      "image/png": "[encoded data removed]",
      "text/plain": [
       "<Figure size 1440x864 with 1 Axes>"
      ]
     },
     "metadata": {},
     "output_type": "display_data"
    }
   ],
   "source": [
    "plt.style.use(\"ggplot\")\n",
    "plt.figure(figsize = (20, 12))\n",
    "df[\"co_grupo\"].hist(bins = 100, ec = \"k\", alpha = .6, color = \"royalblue\")\n",
    "plt.title(\"Distribuição dos alunos por cursos\")\n",
    "plt.xlabel(\"Código dos cursos\")\n",
    "plt.ylabel(\"Alunos\")"
   ]
  },
  {
   "cell_type": "markdown",
   "metadata": {},
   "source": [
    "**Usando a função loc para selecionar a coluna que contém os dados desejados e a função assign para criar uma nova coluna de nome curso.**"
   ]
  },
  {
   "cell_type": "code",
   "execution_count": 3,
   "metadata": {},
   "outputs": [
    {
     "data": {
      "text/html": [
       "<div>\n",
       "<style scoped>\n",
       "    .dataframe tbody tr th:only-of-type {\n",
       "        vertical-align: middle;\n",
       "    }\n",
       "\n",
       "    .dataframe tbody tr th {\n",
       "        vertical-align: top;\n",
       "    }\n",
       "\n",
       "    .dataframe thead th {\n",
       "        text-align: right;\n",
       "    }\n",
       "</style>\n",
       "<table border=\"1\" class=\"dataframe\">\n",
       "  <thead>\n",
       "    <tr style=\"text-align: right;\">\n",
       "      <th></th>\n",
       "      <th>nu_ano</th>\n",
       "      <th>co_grupo</th>\n",
       "      <th>tp_sexo</th>\n",
       "      <th>curso</th>\n",
       "    </tr>\n",
       "  </thead>\n",
       "  <tbody>\n",
       "    <tr>\n",
       "      <td>220589</td>\n",
       "      <td>2005</td>\n",
       "      <td>40</td>\n",
       "      <td>1</td>\n",
       "      <td>40</td>\n",
       "    </tr>\n",
       "    <tr>\n",
       "      <td>220590</td>\n",
       "      <td>2005</td>\n",
       "      <td>40</td>\n",
       "      <td>1</td>\n",
       "      <td>40</td>\n",
       "    </tr>\n",
       "    <tr>\n",
       "      <td>220591</td>\n",
       "      <td>2005</td>\n",
       "      <td>40</td>\n",
       "      <td>1</td>\n",
       "      <td>40</td>\n",
       "    </tr>\n",
       "    <tr>\n",
       "      <td>220592</td>\n",
       "      <td>2005</td>\n",
       "      <td>40</td>\n",
       "      <td>1</td>\n",
       "      <td>40</td>\n",
       "    </tr>\n",
       "    <tr>\n",
       "      <td>220593</td>\n",
       "      <td>2005</td>\n",
       "      <td>40</td>\n",
       "      <td>1</td>\n",
       "      <td>40</td>\n",
       "    </tr>\n",
       "  </tbody>\n",
       "</table>\n",
       "</div>"
      ],
      "text/plain": [
       "        nu_ano  co_grupo  tp_sexo  curso\n",
       "220589    2005        40        1     40\n",
       "220590    2005        40        1     40\n",
       "220591    2005        40        1     40\n",
       "220592    2005        40        1     40\n",
       "220593    2005        40        1     40"
      ]
     },
     "execution_count": 3,
     "metadata": {},
     "output_type": "execute_result"
    }
   ],
   "source": [
    "df = pd.read_csv(\"/home/mauro/Área de Trabalho/enade/microdados_enade_2005/2.DADOS/microdados_enade_2005.csv\", delimiter=';', encoding='iso-8859-1', usecols=['nu_ano','co_grupo','tp_sexo'])\n",
    "df = df.loc[(df['co_grupo']==40)].assign(curso=df.co_grupo)\n",
    "df.head()"
   ]
  },
  {
   "cell_type": "markdown",
   "metadata": {},
   "source": [
    "**Criando a função define_nome para converter o código do curso em nome do curso.**"
   ]
  },
  {
   "cell_type": "code",
   "execution_count": 4,
   "metadata": {},
   "outputs": [
    {
     "data": {
      "text/html": [
       "<div>\n",
       "<style scoped>\n",
       "    .dataframe tbody tr th:only-of-type {\n",
       "        vertical-align: middle;\n",
       "    }\n",
       "\n",
       "    .dataframe tbody tr th {\n",
       "        vertical-align: top;\n",
       "    }\n",
       "\n",
       "    .dataframe thead th {\n",
       "        text-align: right;\n",
       "    }\n",
       "</style>\n",
       "<table border=\"1\" class=\"dataframe\">\n",
       "  <thead>\n",
       "    <tr style=\"text-align: right;\">\n",
       "      <th></th>\n",
       "      <th>nu_ano</th>\n",
       "      <th>co_grupo</th>\n",
       "      <th>tp_sexo</th>\n",
       "      <th>curso</th>\n",
       "    </tr>\n",
       "  </thead>\n",
       "  <tbody>\n",
       "    <tr>\n",
       "      <td>220589</td>\n",
       "      <td>2005</td>\n",
       "      <td>40</td>\n",
       "      <td>1</td>\n",
       "      <td>Computação</td>\n",
       "    </tr>\n",
       "    <tr>\n",
       "      <td>220590</td>\n",
       "      <td>2005</td>\n",
       "      <td>40</td>\n",
       "      <td>1</td>\n",
       "      <td>Computação</td>\n",
       "    </tr>\n",
       "    <tr>\n",
       "      <td>220591</td>\n",
       "      <td>2005</td>\n",
       "      <td>40</td>\n",
       "      <td>1</td>\n",
       "      <td>Computação</td>\n",
       "    </tr>\n",
       "    <tr>\n",
       "      <td>220592</td>\n",
       "      <td>2005</td>\n",
       "      <td>40</td>\n",
       "      <td>1</td>\n",
       "      <td>Computação</td>\n",
       "    </tr>\n",
       "    <tr>\n",
       "      <td>220593</td>\n",
       "      <td>2005</td>\n",
       "      <td>40</td>\n",
       "      <td>1</td>\n",
       "      <td>Computação</td>\n",
       "    </tr>\n",
       "  </tbody>\n",
       "</table>\n",
       "</div>"
      ],
      "text/plain": [
       "        nu_ano  co_grupo  tp_sexo       curso\n",
       "220589    2005        40        1  Computação\n",
       "220590    2005        40        1  Computação\n",
       "220591    2005        40        1  Computação\n",
       "220592    2005        40        1  Computação\n",
       "220593    2005        40        1  Computação"
      ]
     },
     "execution_count": 4,
     "metadata": {},
     "output_type": "execute_result"
    }
   ],
   "source": [
    "def define_nome(num):\n",
    "    if num == 40:\n",
    "        return 'Computação'\n",
    "df['curso'] = df['co_grupo'].map(define_nome)\n",
    "df.head()"
   ]
  },
  {
   "cell_type": "markdown",
   "metadata": {},
   "source": [
    "**Usando loc para selecionar as linhas de interesse dentro da coluna de códigos dos cursos e value_counts para contar o número total de alunos.**"
   ]
  },
  {
   "cell_type": "code",
   "execution_count": 5,
   "metadata": {},
   "outputs": [
    {
     "data": {
      "text/plain": [
       "40    39374\n",
       "Name: co_grupo, dtype: int64"
      ]
     },
     "execution_count": 5,
     "metadata": {},
     "output_type": "execute_result"
    }
   ],
   "source": [
    "dfTotal = df.loc[(df['co_grupo']==40)]\n",
    "dfTotal['co_grupo'].value_counts()"
   ]
  },
  {
   "cell_type": "markdown",
   "metadata": {},
   "source": [
    "**Contando o número de alunos e alunas na coluna de gênero sexual. São 32.079 alunos e 7.295 alunas**"
   ]
  },
  {
   "cell_type": "code",
   "execution_count": 6,
   "metadata": {},
   "outputs": [
    {
     "data": {
      "text/plain": [
       "1    32079\n",
       "2     7295\n",
       "Name: tp_sexo, dtype: int64"
      ]
     },
     "execution_count": 6,
     "metadata": {},
     "output_type": "execute_result"
    }
   ],
   "source": [
    "dfAlunos = df.loc[(df['co_grupo']==40)]\n",
    "dfAlunos['tp_sexo'].value_counts()"
   ]
  },
  {
   "cell_type": "code",
   "execution_count": 7,
   "metadata": {},
   "outputs": [
    {
     "data": {
      "image/png": "[encoded data removed]",
      "text/plain": [
       "<Figure size 432x432 with 1 Axes>"
      ]
     },
     "metadata": {},
     "output_type": "display_data"
    }
   ],
   "source": [
    "# Aqui criamos a área que plotamos o gráfico e definimos seu tamanho\n",
    "fig, ax = plt.subplots(figsize=(6,6), subplot_kw=dict(aspect='equal'))\n",
    "# Criando nosso conjunto de dados\n",
    "sexo = ['Masculino', 'Feminino']\n",
    "quant = [32079, 7295] \n",
    "\n",
    "\n",
    "# Aqui serão colocados os alunos e as porcentagens no gráfico\n",
    "def func(pct, allvals):\n",
    "    # calc %\n",
    "    absolute = int(round(pct/100.*np.sum(allvals)))\n",
    "    # fazendo legenda do gráfico com % e Nº de Alunos\n",
    "    return \"{:.2f}%\\n({:d})\".format(pct, absolute)\n",
    "    \n",
    "# Criando o gráfico e colocando a função da legenda interna \n",
    "wedges, texts, autotexts = ax.pie(quant, autopct=lambda pct: func(pct, quant),\n",
    "                                  textprops=dict(color=\"w\"))\n",
    "\n",
    "# Definindo a caixa de legenda externa, título, localização e onde vai aparecer\n",
    "ax.legend(wedges, sexo,\n",
    "          title=\"Sexo\",\n",
    "          loc=\"center left\",\n",
    "          bbox_to_anchor=(1, 0, 0.5, 1))\n",
    "    \n",
    "# Aqui definimos o tamanho do texto de dentro do gráfico, e o peso da fonte como bold\n",
    "plt.setp(autotexts, size=12, weight=\"bold\")\n",
    "\n",
    "# Título do gráfico\n",
    "ax.set_title(\"Quantidade de alunos no curso de Computação no ano de 2005\")\n",
    "\n",
    "# Mostrando o gráfico\n",
    "plt.show()"
   ]
  },
  {
   "cell_type": "markdown",
   "metadata": {},
   "source": [
    "# Legendas:\n",
    "### Coluna sexo\n",
    "**1** : Masculino<br>\n",
    "**2** : Feminino\n",
    "### Coluna Curso\n",
    "**40** - Computação"
   ]
  }
 ],
 "metadata": {
  "kernelspec": {
   "display_name": "Python 3",
   "language": "python",
   "name": "python3"
  },
  "language_info": {
   "codemirror_mode": {
    "name": "ipython",
    "version": 3
   },
   "file_extension": ".py",
   "mimetype": "text/x-python",
   "name": "python",
   "nbconvert_exporter": "python",
   "pygments_lexer": "ipython3",
   "version": "3.7.3"
  }
 },
 "nbformat": 4,
 "nbformat_minor": 2
}
