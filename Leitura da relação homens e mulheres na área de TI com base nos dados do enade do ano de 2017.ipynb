{
 "cells": [
  {
   "cell_type": "markdown",
   "metadata": {},
   "source": [
    "# Importando bibliotecas, lendo apenas as colunas necessárias e imprimindo apenas cinco linhas com a função .head()"
   ]
  },
  {
   "cell_type": "code",
   "execution_count": 1,
   "metadata": {},
   "outputs": [
    {
     "data": {
      "text/html": [
       "<div>\n",
       "<style scoped>\n",
       "    .dataframe tbody tr th:only-of-type {\n",
       "        vertical-align: middle;\n",
       "    }\n",
       "\n",
       "    .dataframe tbody tr th {\n",
       "        vertical-align: top;\n",
       "    }\n",
       "\n",
       "    .dataframe thead th {\n",
       "        text-align: right;\n",
       "    }\n",
       "</style>\n",
       "<table border=\"1\" class=\"dataframe\">\n",
       "  <thead>\n",
       "    <tr style=\"text-align: right;\">\n",
       "      <th></th>\n",
       "      <th>NU_ANO</th>\n",
       "      <th>CO_GRUPO</th>\n",
       "      <th>TP_SEXO</th>\n",
       "    </tr>\n",
       "  </thead>\n",
       "  <tbody>\n",
       "    <tr>\n",
       "      <td>62487</td>\n",
       "      <td>2017</td>\n",
       "      <td>3201</td>\n",
       "      <td>M</td>\n",
       "    </tr>\n",
       "    <tr>\n",
       "      <td>420636</td>\n",
       "      <td>2017</td>\n",
       "      <td>6306</td>\n",
       "      <td>F</td>\n",
       "    </tr>\n",
       "    <tr>\n",
       "      <td>250960</td>\n",
       "      <td>2017</td>\n",
       "      <td>3502</td>\n",
       "      <td>F</td>\n",
       "    </tr>\n",
       "  </tbody>\n",
       "</table>\n",
       "</div>"
      ],
      "text/plain": [
       "        NU_ANO  CO_GRUPO TP_SEXO\n",
       "62487     2017      3201       M\n",
       "420636    2017      6306       F\n",
       "250960    2017      3502       F"
      ]
     },
     "execution_count": 1,
     "metadata": {},
     "output_type": "execute_result"
    }
   ],
   "source": [
    "import pandas as pd\n",
    "import matplotlib.pyplot as plt\n",
    "import numpy as np\n",
    "df = data = pd.read_csv(\"/home/mauro/Área de Trabalho/enade/microdados_Enade_2017_portal_2018.10.09/3.DADOS/MICRODADOS_ENADE_2017.txt\", delimiter=';', encoding='iso-8859-1',  usecols=['NU_ANO', 'CO_GRUPO', 'TP_SEXO'])\n",
    "df.sample(3)"
   ]
  },
  {
   "cell_type": "markdown",
   "metadata": {},
   "source": [
    "**Distribuição dos alunos por curso no enem em um universo de todos os cursos**"
   ]
  },
  {
   "cell_type": "code",
   "execution_count": 2,
   "metadata": {},
   "outputs": [
    {
     "data": {
      "text/plain": [
       "Text(0, 0.5, 'Alunos')"
      ]
     },
     "execution_count": 2,
     "metadata": {},
     "output_type": "execute_result"
    },
    {
     "data": {
      "image/png": "[encoded data removed]",
      "text/plain": [
       "<Figure size 1440x864 with 1 Axes>"
      ]
     },
     "metadata": {},
     "output_type": "display_data"
    }
   ],
   "source": [
    "plt.style.use(\"ggplot\")\n",
    "plt.figure(figsize = (20, 12))\n",
    "df[\"CO_GRUPO\"].hist(bins = 100, ec = \"k\", alpha = .6, color = \"royalblue\")\n",
    "plt.title(\"Distribuição dos alunos por cursos\")\n",
    "plt.xlabel(\"Código dos cursos\")\n",
    "plt.ylabel(\"Alunos\")"
   ]
  },
  {
   "cell_type": "markdown",
   "metadata": {},
   "source": [
    "**Usando a função loc para selecionar a coluna que contém os dados desejados e a função count para saber a quantidade de alunos nos cursos.**"
   ]
  },
  {
   "cell_type": "code",
   "execution_count": 3,
   "metadata": {},
   "outputs": [
    {
     "data": {
      "text/plain": [
       "NU_ANO      51012\n",
       "CO_GRUPO    51012\n",
       "TP_SEXO     51012\n",
       "dtype: int64"
      ]
     },
     "execution_count": 3,
     "metadata": {},
     "output_type": "execute_result"
    }
   ],
   "source": [
    "df = df.loc[(df['CO_GRUPO']==72) | (df['CO_GRUPO']==79) | (df['CO_GRUPO']==4003) | (df['CO_GRUPO']==4004) | (df['CO_GRUPO']==4005) | (df['CO_GRUPO']==4006) | (df['CO_GRUPO']==6409)]\n",
    "df.count()"
   ]
  },
  {
   "cell_type": "markdown",
   "metadata": {},
   "source": [
    "**Usando a função loc para selecionar a coluna que contém os dados desejados e a função assign para criar uma nova coluna de nome curso.**"
   ]
  },
  {
   "cell_type": "code",
   "execution_count": 4,
   "metadata": {},
   "outputs": [
    {
     "data": {
      "text/html": [
       "<div>\n",
       "<style scoped>\n",
       "    .dataframe tbody tr th:only-of-type {\n",
       "        vertical-align: middle;\n",
       "    }\n",
       "\n",
       "    .dataframe tbody tr th {\n",
       "        vertical-align: top;\n",
       "    }\n",
       "\n",
       "    .dataframe thead th {\n",
       "        text-align: right;\n",
       "    }\n",
       "</style>\n",
       "<table border=\"1\" class=\"dataframe\">\n",
       "  <thead>\n",
       "    <tr style=\"text-align: right;\">\n",
       "      <th></th>\n",
       "      <th>NU_ANO</th>\n",
       "      <th>CO_GRUPO</th>\n",
       "      <th>TP_SEXO</th>\n",
       "      <th>curso</th>\n",
       "    </tr>\n",
       "  </thead>\n",
       "  <tbody>\n",
       "    <tr>\n",
       "      <td>383</td>\n",
       "      <td>2017</td>\n",
       "      <td>4004</td>\n",
       "      <td>M</td>\n",
       "      <td>4004</td>\n",
       "    </tr>\n",
       "    <tr>\n",
       "      <td>384</td>\n",
       "      <td>2017</td>\n",
       "      <td>4004</td>\n",
       "      <td>M</td>\n",
       "      <td>4004</td>\n",
       "    </tr>\n",
       "  </tbody>\n",
       "</table>\n",
       "</div>"
      ],
      "text/plain": [
       "     NU_ANO  CO_GRUPO TP_SEXO  curso\n",
       "383    2017      4004       M   4004\n",
       "384    2017      4004       M   4004"
      ]
     },
     "execution_count": 4,
     "metadata": {},
     "output_type": "execute_result"
    }
   ],
   "source": [
    "df = df.loc[(df['CO_GRUPO']==72) | (df['CO_GRUPO']==79) | (df['CO_GRUPO']==4003) | (df['CO_GRUPO']==4004) | (df['CO_GRUPO']==4005) | (df['CO_GRUPO']==4006) | (df['CO_GRUPO']==6409)].assign(curso=df.CO_GRUPO) \n",
    "df.head(2)"
   ]
  },
  {
   "cell_type": "markdown",
   "metadata": {},
   "source": [
    "**Criando a função define_nome para converter o código do curso em nome do curso.**"
   ]
  },
  {
   "cell_type": "code",
   "execution_count": 5,
   "metadata": {},
   "outputs": [
    {
     "data": {
      "text/html": [
       "<div>\n",
       "<style scoped>\n",
       "    .dataframe tbody tr th:only-of-type {\n",
       "        vertical-align: middle;\n",
       "    }\n",
       "\n",
       "    .dataframe tbody tr th {\n",
       "        vertical-align: top;\n",
       "    }\n",
       "\n",
       "    .dataframe thead th {\n",
       "        text-align: right;\n",
       "    }\n",
       "</style>\n",
       "<table border=\"1\" class=\"dataframe\">\n",
       "  <thead>\n",
       "    <tr style=\"text-align: right;\">\n",
       "      <th></th>\n",
       "      <th>NU_ANO</th>\n",
       "      <th>CO_GRUPO</th>\n",
       "      <th>TP_SEXO</th>\n",
       "      <th>curso</th>\n",
       "    </tr>\n",
       "  </thead>\n",
       "  <tbody>\n",
       "    <tr>\n",
       "      <td>465658</td>\n",
       "      <td>2017</td>\n",
       "      <td>72</td>\n",
       "      <td>M</td>\n",
       "      <td>TECNOLOGIA EM ANALISE E DESENVOLVIMENTO DE SIS...</td>\n",
       "    </tr>\n",
       "    <tr>\n",
       "      <td>219301</td>\n",
       "      <td>2017</td>\n",
       "      <td>4005</td>\n",
       "      <td>M</td>\n",
       "      <td>CIENCIA DA COMPUTAÇÃO (LICENCIATURA)</td>\n",
       "    </tr>\n",
       "    <tr>\n",
       "      <td>445943</td>\n",
       "      <td>2017</td>\n",
       "      <td>4006</td>\n",
       "      <td>F</td>\n",
       "      <td>SISTEMAS DE INFORMAÇÃO</td>\n",
       "    </tr>\n",
       "    <tr>\n",
       "      <td>290814</td>\n",
       "      <td>2017</td>\n",
       "      <td>72</td>\n",
       "      <td>M</td>\n",
       "      <td>TECNOLOGIA EM ANALISE E DESENVOLVIMENTO DE SIS...</td>\n",
       "    </tr>\n",
       "    <tr>\n",
       "      <td>105399</td>\n",
       "      <td>2017</td>\n",
       "      <td>4004</td>\n",
       "      <td>M</td>\n",
       "      <td>CIENCIA DA COMPUTAÇÃO (BACHARELADO)</td>\n",
       "    </tr>\n",
       "    <tr>\n",
       "      <td>183365</td>\n",
       "      <td>2017</td>\n",
       "      <td>4006</td>\n",
       "      <td>M</td>\n",
       "      <td>SISTEMAS DE INFORMAÇÃO</td>\n",
       "    </tr>\n",
       "    <tr>\n",
       "      <td>507600</td>\n",
       "      <td>2017</td>\n",
       "      <td>6409</td>\n",
       "      <td>M</td>\n",
       "      <td>TECNOLOGIA EM GESTÃO DA TECNOLOGIA DA INFORMAÇÃO</td>\n",
       "    </tr>\n",
       "    <tr>\n",
       "      <td>25874</td>\n",
       "      <td>2017</td>\n",
       "      <td>4004</td>\n",
       "      <td>M</td>\n",
       "      <td>CIENCIA DA COMPUTAÇÃO (BACHARELADO)</td>\n",
       "    </tr>\n",
       "    <tr>\n",
       "      <td>233006</td>\n",
       "      <td>2017</td>\n",
       "      <td>72</td>\n",
       "      <td>M</td>\n",
       "      <td>TECNOLOGIA EM ANALISE E DESENVOLVIMENTO DE SIS...</td>\n",
       "    </tr>\n",
       "    <tr>\n",
       "      <td>497329</td>\n",
       "      <td>2017</td>\n",
       "      <td>72</td>\n",
       "      <td>M</td>\n",
       "      <td>TECNOLOGIA EM ANALISE E DESENVOLVIMENTO DE SIS...</td>\n",
       "    </tr>\n",
       "    <tr>\n",
       "      <td>514227</td>\n",
       "      <td>2017</td>\n",
       "      <td>6409</td>\n",
       "      <td>M</td>\n",
       "      <td>TECNOLOGIA EM GESTÃO DA TECNOLOGIA DA INFORMAÇÃO</td>\n",
       "    </tr>\n",
       "    <tr>\n",
       "      <td>105724</td>\n",
       "      <td>2017</td>\n",
       "      <td>4004</td>\n",
       "      <td>M</td>\n",
       "      <td>CIENCIA DA COMPUTAÇÃO (BACHARELADO)</td>\n",
       "    </tr>\n",
       "    <tr>\n",
       "      <td>252135</td>\n",
       "      <td>2017</td>\n",
       "      <td>79</td>\n",
       "      <td>M</td>\n",
       "      <td>TECNOLOGIA EM REDES DE COMPUTADORES</td>\n",
       "    </tr>\n",
       "    <tr>\n",
       "      <td>461534</td>\n",
       "      <td>2017</td>\n",
       "      <td>4005</td>\n",
       "      <td>M</td>\n",
       "      <td>CIENCIA DA COMPUTAÇÃO (LICENCIATURA)</td>\n",
       "    </tr>\n",
       "    <tr>\n",
       "      <td>506040</td>\n",
       "      <td>2017</td>\n",
       "      <td>72</td>\n",
       "      <td>M</td>\n",
       "      <td>TECNOLOGIA EM ANALISE E DESENVOLVIMENTO DE SIS...</td>\n",
       "    </tr>\n",
       "  </tbody>\n",
       "</table>\n",
       "</div>"
      ],
      "text/plain": [
       "        NU_ANO  CO_GRUPO TP_SEXO  \\\n",
       "465658    2017        72       M   \n",
       "219301    2017      4005       M   \n",
       "445943    2017      4006       F   \n",
       "290814    2017        72       M   \n",
       "105399    2017      4004       M   \n",
       "183365    2017      4006       M   \n",
       "507600    2017      6409       M   \n",
       "25874     2017      4004       M   \n",
       "233006    2017        72       M   \n",
       "497329    2017        72       M   \n",
       "514227    2017      6409       M   \n",
       "105724    2017      4004       M   \n",
       "252135    2017        79       M   \n",
       "461534    2017      4005       M   \n",
       "506040    2017        72       M   \n",
       "\n",
       "                                                    curso  \n",
       "465658  TECNOLOGIA EM ANALISE E DESENVOLVIMENTO DE SIS...  \n",
       "219301               CIENCIA DA COMPUTAÇÃO (LICENCIATURA)  \n",
       "445943                             SISTEMAS DE INFORMAÇÃO  \n",
       "290814  TECNOLOGIA EM ANALISE E DESENVOLVIMENTO DE SIS...  \n",
       "105399                CIENCIA DA COMPUTAÇÃO (BACHARELADO)  \n",
       "183365                             SISTEMAS DE INFORMAÇÃO  \n",
       "507600   TECNOLOGIA EM GESTÃO DA TECNOLOGIA DA INFORMAÇÃO  \n",
       "25874                 CIENCIA DA COMPUTAÇÃO (BACHARELADO)  \n",
       "233006  TECNOLOGIA EM ANALISE E DESENVOLVIMENTO DE SIS...  \n",
       "497329  TECNOLOGIA EM ANALISE E DESENVOLVIMENTO DE SIS...  \n",
       "514227   TECNOLOGIA EM GESTÃO DA TECNOLOGIA DA INFORMAÇÃO  \n",
       "105724                CIENCIA DA COMPUTAÇÃO (BACHARELADO)  \n",
       "252135                TECNOLOGIA EM REDES DE COMPUTADORES  \n",
       "461534               CIENCIA DA COMPUTAÇÃO (LICENCIATURA)  \n",
       "506040  TECNOLOGIA EM ANALISE E DESENVOLVIMENTO DE SIS...  "
      ]
     },
     "execution_count": 5,
     "metadata": {},
     "output_type": "execute_result"
    }
   ],
   "source": [
    "def define_nome(num):\n",
    "    if num == 72:\n",
    "        return 'TECNOLOGIA EM ANALISE E DESENVOLVIMENTO DE SISTEMAS'\n",
    "    elif num == 79:\n",
    "        return 'TECNOLOGIA EM REDES DE COMPUTADORES'\n",
    "    elif num == 4003:\n",
    "        return 'ENGENHARIA DA COMPUTAÇÃO'\n",
    "    elif num == 4004:\n",
    "        return 'CIENCIA DA COMPUTAÇÃO (BACHARELADO)'\n",
    "    elif num == 4005:\n",
    "        return 'CIENCIA DA COMPUTAÇÃO (LICENCIATURA)'\n",
    "    elif num == 4006:\n",
    "        return 'SISTEMAS DE INFORMAÇÃO'\n",
    "    elif num == 6409:\n",
    "        return 'TECNOLOGIA EM GESTÃO DA TECNOLOGIA DA INFORMAÇÃO'   \n",
    "    \n",
    "df['curso'] = df['CO_GRUPO'].map(define_nome)\n",
    "df.sample(15)"
   ]
  },
  {
   "cell_type": "markdown",
   "metadata": {},
   "source": [
    "**Imprimindo o número de alunos por curso da área de TI, a legenda dos códigos dos cursos está no rodapé.**"
   ]
  },
  {
   "cell_type": "code",
   "execution_count": 6,
   "metadata": {},
   "outputs": [
    {
     "data": {
      "text/plain": [
       "4006    14990\n",
       "72      12538\n",
       "4004    10186\n",
       "6409     4566\n",
       "4003     3913\n",
       "79       3342\n",
       "4005     1477\n",
       "Name: CO_GRUPO, dtype: int64"
      ]
     },
     "execution_count": 6,
     "metadata": {},
     "output_type": "execute_result"
    }
   ],
   "source": [
    "dfTotal = df.loc[(df['CO_GRUPO']==72) | (df['CO_GRUPO']==79) | (df['CO_GRUPO']==4003) | (df['CO_GRUPO']==4004) | (df['CO_GRUPO']==4005) | (df['CO_GRUPO']==4006) | (df['CO_GRUPO']==6409)] \n",
    "dfTotal['CO_GRUPO'].value_counts()"
   ]
  },
  {
   "cell_type": "markdown",
   "metadata": {},
   "source": [
    "**Contando o número total de alunos por gênero de sexo na área de TI.<br> São 43.840 alunos do sexo masculino, 7.172 do sexo feminino.**"
   ]
  },
  {
   "cell_type": "code",
   "execution_count": 7,
   "metadata": {},
   "outputs": [
    {
     "data": {
      "text/plain": [
       "M    43840\n",
       "F     7172\n",
       "Name: TP_SEXO, dtype: int64"
      ]
     },
     "execution_count": 7,
     "metadata": {},
     "output_type": "execute_result"
    }
   ],
   "source": [
    "dfAlunos = df.loc[(df['CO_GRUPO']==72) | (df['CO_GRUPO']==79) | (df['CO_GRUPO']==4003) | (df['CO_GRUPO']==4004) | (df['CO_GRUPO']==4005) | (df['CO_GRUPO']==4006) | (df['CO_GRUPO']==6409) & df['TP_SEXO']==1] \n",
    "dfAlunos['TP_SEXO'].value_counts()"
   ]
  },
  {
   "cell_type": "markdown",
   "metadata": {},
   "source": [
    "**Gráfico pizza com os gêneros informados, esse ano não houve alunos sem informação de gênero.**\n"
   ]
  },
  {
   "cell_type": "code",
   "execution_count": 8,
   "metadata": {},
   "outputs": [
    {
     "data": {
      "image/png": "[encoded data removed]",
      "text/plain": [
       "<Figure size 432x432 with 1 Axes>"
      ]
     },
     "metadata": {},
     "output_type": "display_data"
    }
   ],
   "source": [
    "# Aqui criamos a área que plotamos o gráfico e definimos seu tamanho\n",
    "fig, ax = plt.subplots(figsize=(6,6), subplot_kw=dict(aspect='equal'))\n",
    "# Criando nosso conjunto de dados\n",
    "sexo = ['Masculino', 'Feminino']\n",
    "quant = [43840, 7172] \n",
    "\n",
    "\n",
    "# Aqui serão colocados os alunos e as porcentagens no gráfico\n",
    "def func(pct, allvals):\n",
    "    # calc %\n",
    "    absolute = int(round(pct/100.*np.sum(allvals)))\n",
    "    # fazendo legenda do gráfico com % e Nº de Alunos\n",
    "    return \"{:.2f}%\\n({:d})\".format(pct, absolute)\n",
    "    \n",
    "# Criando o gráfico e colocando a função da legenda interna \n",
    "wedges, texts, autotexts = ax.pie(quant, autopct=lambda pct: func(pct, quant),\n",
    "                                  textprops=dict(color=\"w\"))\n",
    "\n",
    "# Definindo a caixa de legenda externa, título, localização e onde vai aparecer\n",
    "ax.legend(wedges, sexo,\n",
    "          title=\"Sexo\",\n",
    "          loc=\"center left\",\n",
    "          bbox_to_anchor=(1, 0, 0.5, 1))\n",
    "    \n",
    "# Aqui definimos o tamanho do texto de dentro do gráfico, e o peso da fonte como bold\n",
    "plt.setp(autotexts, size=12, weight=\"bold\")\n",
    "\n",
    "# Título do gráfico\n",
    "ax.set_title(\"Quantidade de alunos na área de TI no ano de 2017\")\n",
    "\n",
    "# Mostrando o gráfico\n",
    "plt.show()"
   ]
  },
  {
   "cell_type": "code",
   "execution_count": 9,
   "metadata": {},
   "outputs": [
    {
     "data": {
      "image/png": "[encoded data removed]",
      "text/plain": [
       "<Figure size 432x288 with 1 Axes>"
      ]
     },
     "metadata": {},
     "output_type": "display_data"
    }
   ],
   "source": [
    "# Um gráfico com a relação entre alunos do sexo masculino e feminino\n",
    "sexo = ['Masculino', 'Feminino']\n",
    "quant = [43840, 7172] \n",
    "\n",
    "\"\"\"\n",
    "    Chamamos o método bar que criará o gráfico de barra \n",
    "    passamos os argumentos que são: \n",
    "        - sexo como eixo x \n",
    "        - quant como eixo y\n",
    "        - color para as cores das barras como green ( verde )\n",
    "\"\"\"\n",
    "plt.bar(sexo, quant, color='green')\n",
    "\n",
    "# Aqui definimos as legendas de cada barra no eixo X\n",
    "plt.xticks(sexo)\n",
    "\n",
    "# A label para o eixo Y\n",
    "plt.ylabel('Nº Alunos')\n",
    "\n",
    "# A label para o eixo X\n",
    "plt.xlabel('Gênero')\n",
    "\n",
    "\n",
    "# O título do gráfico\n",
    "plt.title('Quantidade de alunos nos cursos da área de TI no ano de 2017')\n",
    " \n",
    "# Chamamos o método show() para mostrar o gráfico na tela\n",
    "plt.show()"
   ]
  },
  {
   "cell_type": "markdown",
   "metadata": {},
   "source": [
    "# Legendas:\n",
    "### Coluna sexo\n",
    "**F** : Feminino<br>\n",
    "**M** : Masculino<br>\n",
    "**N** : Não Informado\n",
    "### Coluna Curso\n",
    "\n",
    "**72 -** TECNOLOGIA EM ANALISE E DESENVOLVIMENTO DE SISTEMAS<br>\n",
    "**79 -** TECNOLOGIA EM REDES DE COMPUTADORES<br>\n",
    "**4003 -** ENGENHARIA DA COMPUTAÇÃO <br>\n",
    "**4004 -** CIÊNCIA DA COMPUTAÇÃO (BACHARELADO)<br>\n",
    "**4005 -** CIÊNCIA DA COMPUTAÇÃO (LICENCIATURA)<br>\n",
    "**4006 -** SISTEMAS DE INFORMAÇÃO<br>\n",
    "**6409 -** TECNOLOGIA EM GESTÃO DA TECNOLOGIA DA INFORMAÇÃO\n",
    "\n",
    "## Observação \n",
    "#### O enade mudou o formato de seus dados, como mudanças eles trouxeram:\n",
    "**Formato do arquivo:** Mudou de csv para txt<br>\n",
    "**Nome das colunas:** Agora as colunas são nomeadas em CAIXA ALTA<br>\n",
    "**Sexo dos alunos:** Mudou-se do formato numérico (1, 2) para o formato alfabético (M, F, N). Foi incluído a possibilidade de não informar seu gênero sexual."
   ]
  }
 ],
 "metadata": {
  "kernelspec": {
   "display_name": "Python 3",
   "language": "python",
   "name": "python3"
  },
  "language_info": {
   "codemirror_mode": {
    "name": "ipython",
    "version": 3
   },
   "file_extension": ".py",
   "mimetype": "text/x-python",
   "name": "python",
   "nbconvert_exporter": "python",
   "pygments_lexer": "ipython3",
   "version": "3.7.3"
  }
 },
 "nbformat": 4,
 "nbformat_minor": 2
}
