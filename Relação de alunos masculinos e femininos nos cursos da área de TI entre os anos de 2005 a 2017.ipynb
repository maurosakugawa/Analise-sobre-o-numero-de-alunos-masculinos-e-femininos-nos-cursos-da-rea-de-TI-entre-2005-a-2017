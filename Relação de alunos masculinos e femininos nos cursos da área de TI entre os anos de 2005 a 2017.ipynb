{
 "cells": [
  {
   "cell_type": "markdown",
   "metadata": {},
   "source": [
    # Importando bibliotecas, lendo apenas as colunas necessárias e imprimindo apenas cinco linhas com a função .head()
    ## Ano 2005
   ]
  },
  {
   "cell_type": "code",
   "execution_count": 1,
   "metadata": {},
   "outputs": [
    {
     "data": {
      "text/html": [
       "<div>\n",
       "<style scoped>\n",
       "    .dataframe tbody tr th:only-of-type {\n",
       "        vertical-align: middle;\n",
       "    }\n",
       "\n",
       "    .dataframe tbody tr th {\n",
       "        vertical-align: top;\n",
       "    }\n",
       "\n",
       "    .dataframe thead th {\n",
       "        text-align: right;\n",
       "    }\n",
       "</style>\n",
       "<table border=\"1\" class=\"dataframe\">\n",
       "  <thead>\n",
       "    <tr style=\"text-align: right;\">\n",
       "      <th></th>\n",
       "      <th>nu_ano</th>\n",
       "      <th>co_grupo</th>\n",
       "      <th>tp_sexo</th>\n",
       "    </tr>\n",
       "  </thead>\n",
       "  <tbody>\n",
       "    <tr>\n",
       "      <td>0</td>\n",
       "      <td>2005</td>\n",
       "      <td>7</td>\n",
       "      <td>1</td>\n",
       "    </tr>\n",
       "    <tr>\n",
       "      <td>1</td>\n",
       "      <td>2005</td>\n",
       "      <td>7</td>\n",
       "      <td>1</td>\n",
       "    </tr>\n",
       "    <tr>\n",
       "      <td>2</td>\n",
       "      <td>2005</td>\n",
       "      <td>7</td>\n",
       "      <td>2</td>\n",
       "    </tr>\n",
       "    <tr>\n",
       "      <td>3</td>\n",
       "      <td>2005</td>\n",
       "      <td>7</td>\n",
       "      <td>1</td>\n",
       "    </tr>\n",
       "    <tr>\n",
       "      <td>4</td>\n",
       "      <td>2005</td>\n",
       "      <td>7</td>\n",
       "      <td>2</td>\n",
       "    </tr>\n",
       "  </tbody>\n",
       "</table>\n",
       "</div>"
      ],
      "text/plain": [
       "   nu_ano  co_grupo  tp_sexo\n",
       "0    2005         7        1\n",
       "1    2005         7        1\n",
       "2    2005         7        2\n",
       "3    2005         7        1\n",
       "4    2005         7        2"
      ]
     },
     "execution_count": 1,
     "metadata": {},
     "output_type": "execute_result"
    }
   ],
   "source": [
    "import pandas as pd\n",
    "import matplotlib.pyplot as plt\n",
    "import numpy as np\n",
    "df1 = pd.read_csv(\"/home/mauro/Área de Trabalho/enade/microdados_enade_2005/2.DADOS/microdados_enade_2005.csv\", delimiter=';', encoding='iso-8859-1', usecols=['nu_ano', 'co_grupo', 'tp_sexo'])\n",
    "df1.head()"
   ]
  },
  {
   "cell_type": "markdown",
   "metadata": {},
   "source": [
    "<font color=black>**Usando a função loc para selecionar a coluna que contém os dados desejados e a função assign para criar uma nova coluna de nome curso.**</font>"
   ]
  },
  {
   "cell_type": "code",
   "execution_count": 2,
   "metadata": {},
   "outputs": [
    {
     "data": {
      "text/html": [
       "<div>\n",
       "<style scoped>\n",
       "    .dataframe tbody tr th:only-of-type {\n",
       "        vertical-align: middle;\n",
       "    }\n",
       "\n",
       "    .dataframe tbody tr th {\n",
       "        vertical-align: top;\n",
       "    }\n",
       "\n",
       "    .dataframe thead th {\n",
       "        text-align: right;\n",
       "    }\n",
       "</style>\n",
       "<table border=\"1\" class=\"dataframe\">\n",
       "  <thead>\n",
       "    <tr style=\"text-align: right;\">\n",
       "      <th></th>\n",
       "      <th>nu_ano</th>\n",
       "      <th>co_grupo</th>\n",
       "      <th>tp_sexo</th>\n",
       "      <th>curso</th>\n",
       "    </tr>\n",
       "  </thead>\n",
       "  <tbody>\n",
       "    <tr>\n",
       "      <td>220589</td>\n",
       "      <td>2005</td>\n",
       "      <td>40</td>\n",
       "      <td>1</td>\n",
       "      <td>40</td>\n",
       "    </tr>\n",
       "    <tr>\n",
       "      <td>220590</td>\n",
       "      <td>2005</td>\n",
       "      <td>40</td>\n",
       "      <td>1</td>\n",
       "      <td>40</td>\n",
       "    </tr>\n",
       "    <tr>\n",
       "      <td>220591</td>\n",
       "      <td>2005</td>\n",
       "      <td>40</td>\n",
       "      <td>1</td>\n",
       "      <td>40</td>\n",
       "    </tr>\n",
       "    <tr>\n",
       "      <td>220592</td>\n",
       "      <td>2005</td>\n",
       "      <td>40</td>\n",
       "      <td>1</td>\n",
       "      <td>40</td>\n",
       "    </tr>\n",
       "    <tr>\n",
       "      <td>220593</td>\n",
       "      <td>2005</td>\n",
       "      <td>40</td>\n",
       "      <td>1</td>\n",
       "      <td>40</td>\n",
       "    </tr>\n",
       "  </tbody>\n",
       "</table>\n",
       "</div>"
      ],
      "text/plain": [
       "        nu_ano  co_grupo  tp_sexo  curso\n",
       "220589    2005        40        1     40\n",
       "220590    2005        40        1     40\n",
       "220591    2005        40        1     40\n",
       "220592    2005        40        1     40\n",
       "220593    2005        40        1     40"
      ]
     },
     "execution_count": 2,
     "metadata": {},
     "output_type": "execute_result"
    }
   ],
   "source": [
    "df1 = pd.read_csv(\"/home/mauro/Área de Trabalho/enade/microdados_enade_2005/2.DADOS/microdados_enade_2005.csv\", delimiter=';', encoding='iso-8859-1', usecols=['nu_ano','co_grupo','tp_sexo'])\n",
    "df1 = df1.loc[(df1['co_grupo']==40)].assign(curso=df1.co_grupo)\n",
    "df1.head()"
   ]
  },
  {
   "cell_type": "markdown",
   "metadata": {},
   "source": [
    "<font color=black>**Criando a função define_nome para converter o código do curso em nome do curso.**</font>"
   ]
  },
  {
   "cell_type": "code",
   "execution_count": 3,
   "metadata": {},
   "outputs": [
    {
     "data": {
      "text/html": [
       "<div>\n",
       "<style scoped>\n",
       "    .dataframe tbody tr th:only-of-type {\n",
       "        vertical-align: middle;\n",
       "    }\n",
       "\n",
       "    .dataframe tbody tr th {\n",
       "        vertical-align: top;\n",
       "    }\n",
       "\n",
       "    .dataframe thead th {\n",
       "        text-align: right;\n",
       "    }\n",
       "</style>\n",
       "<table border=\"1\" class=\"dataframe\">\n",
       "  <thead>\n",
       "    <tr style=\"text-align: right;\">\n",
       "      <th></th>\n",
       "      <th>nu_ano</th>\n",
       "      <th>co_grupo</th>\n",
       "      <th>tp_sexo</th>\n",
       "      <th>curso</th>\n",
       "    </tr>\n",
       "  </thead>\n",
       "  <tbody>\n",
       "    <tr>\n",
       "      <td>220589</td>\n",
       "      <td>2005</td>\n",
       "      <td>40</td>\n",
       "      <td>1</td>\n",
       "      <td>Computação</td>\n",
       "    </tr>\n",
       "    <tr>\n",
       "      <td>220590</td>\n",
       "      <td>2005</td>\n",
       "      <td>40</td>\n",
       "      <td>1</td>\n",
       "      <td>Computação</td>\n",
       "    </tr>\n",
       "    <tr>\n",
       "      <td>220591</td>\n",
       "      <td>2005</td>\n",
       "      <td>40</td>\n",
       "      <td>1</td>\n",
       "      <td>Computação</td>\n",
       "    </tr>\n",
       "    <tr>\n",
       "      <td>220592</td>\n",
       "      <td>2005</td>\n",
       "      <td>40</td>\n",
       "      <td>1</td>\n",
       "      <td>Computação</td>\n",
       "    </tr>\n",
       "    <tr>\n",
       "      <td>220593</td>\n",
       "      <td>2005</td>\n",
       "      <td>40</td>\n",
       "      <td>1</td>\n",
       "      <td>Computação</td>\n",
       "    </tr>\n",
       "  </tbody>\n",
       "</table>\n",
       "</div>"
      ],
      "text/plain": [
       "        nu_ano  co_grupo  tp_sexo       curso\n",
       "220589    2005        40        1  Computação\n",
       "220590    2005        40        1  Computação\n",
       "220591    2005        40        1  Computação\n",
       "220592    2005        40        1  Computação\n",
       "220593    2005        40        1  Computação"
      ]
     },
     "execution_count": 3,
     "metadata": {},
     "output_type": "execute_result"
    }
   ],
   "source": [
    "def define_nome(num):\n",
    "    if num == 40:\n",
    "        return 'Computação'\n",
    "df1['curso'] = df1['co_grupo'].map(define_nome)\n",
    "df1.head()"
   ]
  },
  {
   "cell_type": "markdown",
   "metadata": {},
   "source": [
    "<font color=black>**Usando loc para selecionar as linhas de interesse dentro da coluna de códigos dos cursos e value_counts para contar o número total de alunos.**</font>"
   ]
  },
  {
   "cell_type": "code",
   "execution_count": 4,
   "metadata": {},
   "outputs": [
    {
     "data": {
      "text/plain": [
       "40    39374\n",
       "Name: co_grupo, dtype: int64"
      ]
     },
     "execution_count": 4,
     "metadata": {},
     "output_type": "execute_result"
    }
   ],
   "source": [
    "df1Total = df1.loc[(df1['co_grupo']==40)]\n",
    "df1Total['co_grupo'].value_counts()"
   ]
  },
  {
   "cell_type": "markdown",
   "metadata": {},
   "source": [
    "<font color=black>**Contando o número de alunos e alunas na coluna de gênero sexual, são 32.079 alunos e 7.295 alunas.**</font>"
   ]
  },
  {
   "cell_type": "code",
   "execution_count": 5,
   "metadata": {},
   "outputs": [
    {
     "data": {
      "text/plain": [
       "1    32079\n",
       "2     7295\n",
       "Name: tp_sexo, dtype: int64"
      ]
     },
     "execution_count": 5,
     "metadata": {},
     "output_type": "execute_result"
    }
   ],
   "source": [
    "df1Alunos = df1.loc[(df1['co_grupo']==40)]\n",
    "df1Alunos['tp_sexo'].value_counts()"
   ]
  },
  {
   "cell_type": "markdown",
   "metadata": {},
   "source": [
    "<font color=black>**Plotando o gráfico.**</font>"
   ]
  },
  {
   "cell_type": "code",
   "execution_count": 6,
   "metadata": {},
   "outputs": [
    {
     "data": {
      "image/png": "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\n",
      "text/plain": [
       "<Figure size 432x432 with 1 Axes>"
      ]
     },
     "metadata": {},
     "output_type": "display_data"
    }
   ],
   "source": [
    "# Aqui criamos a área que plotamos o gráfico e definimos seu tamanho\n",
    "fig, ax = plt.subplots(figsize=(6,6), subplot_kw=dict(aspect='equal'))\n",
    "# Criando nosso conjunto de dados\n",
    "sexo = ['Masculino', 'Feminino']\n",
    "quant = [32079, 7295] \n",
    "\n",
    "\n",
    "# Aqui serão colocados os alunos e as porcentagens no gráfico\n",
    "def func(pct, allvals):\n",
    "    # calc %\n",
    "    absolute = int(round(pct/100.*np.sum(allvals)))\n",
    "    # fazendo legenda do gráfico com % e nº de alunos\n",
    "    return \"{:.2f}%\\n({:d})\".format(pct, absolute)\n",
    "    \n",
    "# Criando o gráfico e colocando a função da legenda interna \n",
    "wedges, texts, autotexts = ax.pie(quant, autopct=lambda pct: func(pct, quant),\n",
    "                                  textprops=dict(color=\"w\"))\n",
    "\n",
    "# Definindo a caixa de legenda externa, título, localização e onde vai aparecer\n",
    "ax.legend(wedges, sexo,\n",
    "          title=\"Sexo\",\n",
    "          loc=\"center left\",\n",
    "          bbox_to_anchor=(1, 0, 0.5, 1))\n",
    "    \n",
    "# Aqui definimos o tamanho do texto de dentro do gráfico, e o peso da fonte como bold\n",
    "plt.setp(autotexts, size=12, weight=\"bold\")\n",
    "\n",
    "# Título do gráfico\n",
    "ax.set_title(\"Representação masculina e feminina em porcentagem e valores, no enade na área de TI no ano de 2005\")\n",
    "\n",
    "# Mostrando o gráfico\n",
    "plt.show()"
   ]
  },
  {
   "cell_type": "markdown",
   "metadata": {},
   "source": [
    "<font color=blue>**Imprimindo apenas cinco linhas com a função .head()<br>Ano 2008**</font>"
   ]
  },
  {
   "cell_type": "code",
   "execution_count": 7,
   "metadata": {},
   "outputs": [
    {
     "data": {
      "text/html": [
       "<div>\n",
       "<style scoped>\n",
       "    .dataframe tbody tr th:only-of-type {\n",
       "        vertical-align: middle;\n",
       "    }\n",
       "\n",
       "    .dataframe tbody tr th {\n",
       "        vertical-align: top;\n",
       "    }\n",
       "\n",
       "    .dataframe thead th {\n",
       "        text-align: right;\n",
       "    }\n",
       "</style>\n",
       "<table border=\"1\" class=\"dataframe\">\n",
       "  <thead>\n",
       "    <tr style=\"text-align: right;\">\n",
       "      <th></th>\n",
       "      <th>nu_ano</th>\n",
       "      <th>co_grupo</th>\n",
       "      <th>tp_sexo</th>\n",
       "    </tr>\n",
       "  </thead>\n",
       "  <tbody>\n",
       "    <tr>\n",
       "      <td>0</td>\n",
       "      <td>2008</td>\n",
       "      <td>7</td>\n",
       "      <td>2</td>\n",
       "    </tr>\n",
       "    <tr>\n",
       "      <td>1</td>\n",
       "      <td>2008</td>\n",
       "      <td>7</td>\n",
       "      <td>1</td>\n",
       "    </tr>\n",
       "    <tr>\n",
       "      <td>2</td>\n",
       "      <td>2008</td>\n",
       "      <td>7</td>\n",
       "      <td>1</td>\n",
       "    </tr>\n",
       "    <tr>\n",
       "      <td>3</td>\n",
       "      <td>2008</td>\n",
       "      <td>7</td>\n",
       "      <td>1</td>\n",
       "    </tr>\n",
       "    <tr>\n",
       "      <td>4</td>\n",
       "      <td>2008</td>\n",
       "      <td>7</td>\n",
       "      <td>1</td>\n",
       "    </tr>\n",
       "  </tbody>\n",
       "</table>\n",
       "</div>"
      ],
      "text/plain": [
       "   nu_ano  co_grupo  tp_sexo\n",
       "0    2008         7        2\n",
       "1    2008         7        1\n",
       "2    2008         7        1\n",
       "3    2008         7        1\n",
       "4    2008         7        1"
      ]
     },
     "execution_count": 7,
     "metadata": {},
     "output_type": "execute_result"
    }
   ],
   "source": [
    "df2 = pd.read_csv(\"/home/mauro/Área de Trabalho/enade/microdados_enade_2008/2.DADOS/microdados_enade_2008.csv\", delimiter=';', encoding='iso-8859-1', usecols=['nu_ano', 'co_grupo', 'tp_sexo'])\n",
    "df2.head()"
   ]
  },
  {
   "cell_type": "code",
   "execution_count": 8,
   "metadata": {},
   "outputs": [
    {
     "data": {
      "text/plain": [
       "nu_ano      70769\n",
       "co_grupo    70769\n",
       "tp_sexo     70769\n",
       "dtype: int64"
      ]
     },
     "execution_count": 8,
     "metadata": {},
     "output_type": "execute_result"
    }
   ],
   "source": [
    "df2 = df2.loc[(df2['co_grupo']==40) | (df2['co_grupo']==72) | (df2['co_grupo']==79)]\n",
    "df2.count()"
   ]
  },
  {
   "cell_type": "code",
   "execution_count": 9,
   "metadata": {},
   "outputs": [
    {
     "data": {
      "text/html": [
       "<div>\n",
       "<style scoped>\n",
       "    .dataframe tbody tr th:only-of-type {\n",
       "        vertical-align: middle;\n",
       "    }\n",
       "\n",
       "    .dataframe tbody tr th {\n",
       "        vertical-align: top;\n",
       "    }\n",
       "\n",
       "    .dataframe thead th {\n",
       "        text-align: right;\n",
       "    }\n",
       "</style>\n",
       "<table border=\"1\" class=\"dataframe\">\n",
       "  <thead>\n",
       "    <tr style=\"text-align: right;\">\n",
       "      <th></th>\n",
       "      <th>nu_ano</th>\n",
       "      <th>co_grupo</th>\n",
       "      <th>tp_sexo</th>\n",
       "      <th>curso</th>\n",
       "    </tr>\n",
       "  </thead>\n",
       "  <tbody>\n",
       "    <tr>\n",
       "      <td>284307</td>\n",
       "      <td>2008</td>\n",
       "      <td>40</td>\n",
       "      <td>1</td>\n",
       "      <td>40</td>\n",
       "    </tr>\n",
       "    <tr>\n",
       "      <td>284308</td>\n",
       "      <td>2008</td>\n",
       "      <td>40</td>\n",
       "      <td>1</td>\n",
       "      <td>40</td>\n",
       "    </tr>\n",
       "    <tr>\n",
       "      <td>284309</td>\n",
       "      <td>2008</td>\n",
       "      <td>40</td>\n",
       "      <td>1</td>\n",
       "      <td>40</td>\n",
       "    </tr>\n",
       "    <tr>\n",
       "      <td>284310</td>\n",
       "      <td>2008</td>\n",
       "      <td>40</td>\n",
       "      <td>2</td>\n",
       "      <td>40</td>\n",
       "    </tr>\n",
       "    <tr>\n",
       "      <td>284311</td>\n",
       "      <td>2008</td>\n",
       "      <td>40</td>\n",
       "      <td>1</td>\n",
       "      <td>40</td>\n",
       "    </tr>\n",
       "  </tbody>\n",
       "</table>\n",
       "</div>"
      ],
      "text/plain": [
       "        nu_ano  co_grupo  tp_sexo  curso\n",
       "284307    2008        40        1     40\n",
       "284308    2008        40        1     40\n",
       "284309    2008        40        1     40\n",
       "284310    2008        40        2     40\n",
       "284311    2008        40        1     40"
      ]
     },
     "execution_count": 9,
     "metadata": {},
     "output_type": "execute_result"
    }
   ],
   "source": [
    "df2 = df2.loc[(df2['co_grupo']==40) | (df2['co_grupo']==72) | (df2['co_grupo']==79)].assign(curso=df2.co_grupo) \n",
    "df2.head()"
   ]
  },
  {
   "cell_type": "code",
   "execution_count": 10,
   "metadata": {},
   "outputs": [
    {
     "data": {
      "text/html": [
       "<div>\n",
       "<style scoped>\n",
       "    .dataframe tbody tr th:only-of-type {\n",
       "        vertical-align: middle;\n",
       "    }\n",
       "\n",
       "    .dataframe tbody tr th {\n",
       "        vertical-align: top;\n",
       "    }\n",
       "\n",
       "    .dataframe thead th {\n",
       "        text-align: right;\n",
       "    }\n",
       "</style>\n",
       "<table border=\"1\" class=\"dataframe\">\n",
       "  <thead>\n",
       "    <tr style=\"text-align: right;\">\n",
       "      <th></th>\n",
       "      <th>nu_ano</th>\n",
       "      <th>co_grupo</th>\n",
       "      <th>tp_sexo</th>\n",
       "      <th>curso</th>\n",
       "    </tr>\n",
       "  </thead>\n",
       "  <tbody>\n",
       "    <tr>\n",
       "      <td>284307</td>\n",
       "      <td>2008</td>\n",
       "      <td>40</td>\n",
       "      <td>1</td>\n",
       "      <td>COMPUTAÇÃO</td>\n",
       "    </tr>\n",
       "    <tr>\n",
       "      <td>284308</td>\n",
       "      <td>2008</td>\n",
       "      <td>40</td>\n",
       "      <td>1</td>\n",
       "      <td>COMPUTAÇÃO</td>\n",
       "    </tr>\n",
       "    <tr>\n",
       "      <td>284309</td>\n",
       "      <td>2008</td>\n",
       "      <td>40</td>\n",
       "      <td>1</td>\n",
       "      <td>COMPUTAÇÃO</td>\n",
       "    </tr>\n",
       "    <tr>\n",
       "      <td>284310</td>\n",
       "      <td>2008</td>\n",
       "      <td>40</td>\n",
       "      <td>2</td>\n",
       "      <td>COMPUTAÇÃO</td>\n",
       "    </tr>\n",
       "    <tr>\n",
       "      <td>284311</td>\n",
       "      <td>2008</td>\n",
       "      <td>40</td>\n",
       "      <td>1</td>\n",
       "      <td>COMPUTAÇÃO</td>\n",
       "    </tr>\n",
       "  </tbody>\n",
       "</table>\n",
       "</div>"
      ],
      "text/plain": [
       "        nu_ano  co_grupo  tp_sexo        curso\n",
       "284307    2008        40        1   COMPUTAÇÃO\n",
       "284308    2008        40        1   COMPUTAÇÃO\n",
       "284309    2008        40        1   COMPUTAÇÃO\n",
       "284310    2008        40        2   COMPUTAÇÃO\n",
       "284311    2008        40        1   COMPUTAÇÃO"
      ]
     },
     "execution_count": 10,
     "metadata": {},
     "output_type": "execute_result"
    }
   ],
   "source": [
    "def define_nome(num):\n",
    "    if num == 40:\n",
    "        return ' COMPUTAÇÃO'\n",
    "    elif num == 72:\n",
    "        return 'TECNOLOGIA EM ANALISE E DESENVOLVIMENTO DE SISTEMAS'\n",
    "    elif num == 79:\n",
    "        return 'TECNOLOGIA EM REDES DE COMPUTADORES'\n",
    "    \n",
    "df2['curso'] = df2['co_grupo'].map(define_nome)\n",
    "df2.head()"
   ]
  },
  {
   "cell_type": "code",
   "execution_count": 11,
   "metadata": {},
   "outputs": [
    {
     "data": {
      "text/plain": [
       "40    47459\n",
       "72    14730\n",
       "79     8580\n",
       "Name: co_grupo, dtype: int64"
      ]
     },
     "execution_count": 11,
     "metadata": {},
     "output_type": "execute_result"
    }
   ],
   "source": [
    "df2Total = df2.loc[(df2['co_grupo']==40) | (df2['co_grupo']==72) | (df2['co_grupo']==79)]\n",
    "df2Total['co_grupo'].value_counts()"
   ]
  },
  {
   "cell_type": "code",
   "execution_count": 12,
   "metadata": {},
   "outputs": [
    {
     "data": {
      "text/plain": [
       "1    59709\n",
       "2    11060\n",
       "Name: tp_sexo, dtype: int64"
      ]
     },
     "execution_count": 12,
     "metadata": {},
     "output_type": "execute_result"
    }
   ],
   "source": [
    "df2Alunos = df2.loc[(df2['co_grupo']==40) | (df2['co_grupo']==72) | (df2['co_grupo']==79)]\n",
    "df2Alunos['tp_sexo'].value_counts()"
   ]
  },
  {
   "cell_type": "code",
   "execution_count": 13,
   "metadata": {},
   "outputs": [
    {
     "data": {
      "image/png": "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\n",
      "text/plain": [
       "<Figure size 432x432 with 1 Axes>"
      ]
     },
     "metadata": {},
     "output_type": "display_data"
    }
   ],
   "source": [
    "# Aqui criamos a área que plotamos o gráfico e definimos seu tamanho\n",
    "fig, ax = plt.subplots(figsize=(6,6), subplot_kw=dict(aspect='equal'))\n",
    "# Criando nosso conjunto de dados\n",
    "sexo = ['Masculino', 'Feminino']\n",
    "quant = [59709, 11060] \n",
    "\n",
    "\n",
    "# Aqui serão colocados os alunos e as porcentagens no gráfico\n",
    "def func(pct, allvals):\n",
    "    # calc %\n",
    "    absolute = int(round(pct/100.*np.sum(allvals)))\n",
    "    # fazendo legenda do gráfico com % e nº de alunos\n",
    "    return \"{:.2f}%\\n({:d})\".format(pct, absolute)\n",
    "    \n",
    "# Criando o gráfico e colocando a função da legenda interna \n",
    "wedges, texts, autotexts = ax.pie(quant, autopct=lambda pct: func(pct, quant),\n",
    "                                  textprops=dict(color=\"w\"))\n",
    "\n",
    "# Definindo a caixa de legenda externa, título, localização e onde vai aparecer\n",
    "ax.legend(wedges, sexo,\n",
    "          title=\"Sexo\",\n",
    "          loc=\"center left\",\n",
    "          bbox_to_anchor=(1, 0, 0.5, 1))\n",
    "    \n",
    "# Aqui definimos o tamanho do texto de dentro do gráfico, e o peso da fonte como bold\n",
    "plt.setp(autotexts, size=12, weight=\"bold\")\n",
    "\n",
    "# Título do gráfico\n",
    "ax.set_title(\"Representação masculina e feminina em porcentagem e valores, no enade na área de TI no ano de 2008\")\n",
    "\n",
    "# Mostrando o gráfico\n",
    "plt.show()"
   ]
  },
  {
   "cell_type": "markdown",
   "metadata": {},
   "source": [
    "<font color=blue>**Imprimindo apenas cinco linhas com a função .head()<br>Ano 2011**</font>"
   ]
  },
  {
   "cell_type": "code",
   "execution_count": 14,
   "metadata": {},
   "outputs": [
    {
     "data": {
      "text/html": [
       "<div>\n",
       "<style scoped>\n",
       "    .dataframe tbody tr th:only-of-type {\n",
       "        vertical-align: middle;\n",
       "    }\n",
       "\n",
       "    .dataframe tbody tr th {\n",
       "        vertical-align: top;\n",
       "    }\n",
       "\n",
       "    .dataframe thead th {\n",
       "        text-align: right;\n",
       "    }\n",
       "</style>\n",
       "<table border=\"1\" class=\"dataframe\">\n",
       "  <thead>\n",
       "    <tr style=\"text-align: right;\">\n",
       "      <th></th>\n",
       "      <th>NU_ANO</th>\n",
       "      <th>CO_GRUPO</th>\n",
       "      <th>TP_SEXO</th>\n",
       "    </tr>\n",
       "  </thead>\n",
       "  <tbody>\n",
       "    <tr>\n",
       "      <td>0</td>\n",
       "      <td>2011</td>\n",
       "      <td>5710</td>\n",
       "      <td>M</td>\n",
       "    </tr>\n",
       "    <tr>\n",
       "      <td>1</td>\n",
       "      <td>2011</td>\n",
       "      <td>5710</td>\n",
       "      <td>M</td>\n",
       "    </tr>\n",
       "    <tr>\n",
       "      <td>2</td>\n",
       "      <td>2011</td>\n",
       "      <td>5710</td>\n",
       "      <td>M</td>\n",
       "    </tr>\n",
       "    <tr>\n",
       "      <td>3</td>\n",
       "      <td>2011</td>\n",
       "      <td>5710</td>\n",
       "      <td>F</td>\n",
       "    </tr>\n",
       "    <tr>\n",
       "      <td>4</td>\n",
       "      <td>2011</td>\n",
       "      <td>5710</td>\n",
       "      <td>M</td>\n",
       "    </tr>\n",
       "  </tbody>\n",
       "</table>\n",
       "</div>"
      ],
      "text/plain": [
       "   NU_ANO  CO_GRUPO TP_SEXO\n",
       "0    2011      5710       M\n",
       "1    2011      5710       M\n",
       "2    2011      5710       M\n",
       "3    2011      5710       F\n",
       "4    2011      5710       M"
      ]
     },
     "execution_count": 14,
     "metadata": {},
     "output_type": "execute_result"
    }
   ],
   "source": [
    "df3 = pd.read_csv(\"/home/mauro/Área de Trabalho/enade/microdados_enade_2011/3.DADOS/MICRODADOS_ENADE_2011.txt\", delimiter=';', encoding='iso-8859-1', usecols=['NU_ANO', 'CO_GRUPO', 'TP_SEXO'])\n",
    "df3.head()"
   ]
  },
  {
   "cell_type": "code",
   "execution_count": 15,
   "metadata": {},
   "outputs": [
    {
     "data": {
      "text/plain": [
       "NU_ANO      43075\n",
       "CO_GRUPO    43075\n",
       "TP_SEXO     43075\n",
       "dtype: int64"
      ]
     },
     "execution_count": 15,
     "metadata": {},
     "output_type": "execute_result"
    }
   ],
   "source": [
    "df3 = df3.loc[(df3['CO_GRUPO']==72) | (df3['CO_GRUPO']==79) | (df3['CO_GRUPO']==4004) | (df3['CO_GRUPO']==4005) | (df3['CO_GRUPO']==4006) | (df3['CO_GRUPO']==4007) | (df3['CO_GRUPO']==5809) | (df3['CO_GRUPO']==5811)]\n",
    "df3.count()"
   ]
  },
  {
   "cell_type": "code",
   "execution_count": 16,
   "metadata": {},
   "outputs": [
    {
     "data": {
      "text/html": [
       "<div>\n",
       "<style scoped>\n",
       "    .dataframe tbody tr th:only-of-type {\n",
       "        vertical-align: middle;\n",
       "    }\n",
       "\n",
       "    .dataframe tbody tr th {\n",
       "        vertical-align: top;\n",
       "    }\n",
       "\n",
       "    .dataframe thead th {\n",
       "        text-align: right;\n",
       "    }\n",
       "</style>\n",
       "<table border=\"1\" class=\"dataframe\">\n",
       "  <thead>\n",
       "    <tr style=\"text-align: right;\">\n",
       "      <th></th>\n",
       "      <th>NU_ANO</th>\n",
       "      <th>CO_GRUPO</th>\n",
       "      <th>TP_SEXO</th>\n",
       "      <th>curso</th>\n",
       "    </tr>\n",
       "  </thead>\n",
       "  <tbody>\n",
       "    <tr>\n",
       "      <td>942</td>\n",
       "      <td>2011</td>\n",
       "      <td>4004</td>\n",
       "      <td>M</td>\n",
       "      <td>4004</td>\n",
       "    </tr>\n",
       "    <tr>\n",
       "      <td>943</td>\n",
       "      <td>2011</td>\n",
       "      <td>4004</td>\n",
       "      <td>M</td>\n",
       "      <td>4004</td>\n",
       "    </tr>\n",
       "    <tr>\n",
       "      <td>944</td>\n",
       "      <td>2011</td>\n",
       "      <td>4004</td>\n",
       "      <td>M</td>\n",
       "      <td>4004</td>\n",
       "    </tr>\n",
       "    <tr>\n",
       "      <td>945</td>\n",
       "      <td>2011</td>\n",
       "      <td>4004</td>\n",
       "      <td>M</td>\n",
       "      <td>4004</td>\n",
       "    </tr>\n",
       "    <tr>\n",
       "      <td>946</td>\n",
       "      <td>2011</td>\n",
       "      <td>4004</td>\n",
       "      <td>M</td>\n",
       "      <td>4004</td>\n",
       "    </tr>\n",
       "  </tbody>\n",
       "</table>\n",
       "</div>"
      ],
      "text/plain": [
       "     NU_ANO  CO_GRUPO TP_SEXO  curso\n",
       "942    2011      4004       M   4004\n",
       "943    2011      4004       M   4004\n",
       "944    2011      4004       M   4004\n",
       "945    2011      4004       M   4004\n",
       "946    2011      4004       M   4004"
      ]
     },
     "execution_count": 16,
     "metadata": {},
     "output_type": "execute_result"
    }
   ],
   "source": [
    "df3 = df3.loc[(df3['CO_GRUPO']==72) | (df3['CO_GRUPO']==79) | (df3['CO_GRUPO']==4004) | (df3['CO_GRUPO']==4005) | (df3['CO_GRUPO']==4006) | (df3['CO_GRUPO']==4007) | (df3['CO_GRUPO']==5809) | (df3['CO_GRUPO']==5811)].assign(curso=df3.CO_GRUPO) \n",
    "df3.head()"
   ]
  },
  {
   "cell_type": "code",
   "execution_count": 17,
   "metadata": {},
   "outputs": [
    {
     "data": {
      "text/html": [
       "<div>\n",
       "<style scoped>\n",
       "    .dataframe tbody tr th:only-of-type {\n",
       "        vertical-align: middle;\n",
       "    }\n",
       "\n",
       "    .dataframe tbody tr th {\n",
       "        vertical-align: top;\n",
       "    }\n",
       "\n",
       "    .dataframe thead th {\n",
       "        text-align: right;\n",
       "    }\n",
       "</style>\n",
       "<table border=\"1\" class=\"dataframe\">\n",
       "  <thead>\n",
       "    <tr style=\"text-align: right;\">\n",
       "      <th></th>\n",
       "      <th>NU_ANO</th>\n",
       "      <th>CO_GRUPO</th>\n",
       "      <th>TP_SEXO</th>\n",
       "      <th>curso</th>\n",
       "    </tr>\n",
       "  </thead>\n",
       "  <tbody>\n",
       "    <tr>\n",
       "      <td>942</td>\n",
       "      <td>2011</td>\n",
       "      <td>4004</td>\n",
       "      <td>M</td>\n",
       "      <td>COMPUTAÇÃO (BACHARELADO)</td>\n",
       "    </tr>\n",
       "    <tr>\n",
       "      <td>943</td>\n",
       "      <td>2011</td>\n",
       "      <td>4004</td>\n",
       "      <td>M</td>\n",
       "      <td>COMPUTAÇÃO (BACHARELADO)</td>\n",
       "    </tr>\n",
       "    <tr>\n",
       "      <td>944</td>\n",
       "      <td>2011</td>\n",
       "      <td>4004</td>\n",
       "      <td>M</td>\n",
       "      <td>COMPUTAÇÃO (BACHARELADO)</td>\n",
       "    </tr>\n",
       "    <tr>\n",
       "      <td>945</td>\n",
       "      <td>2011</td>\n",
       "      <td>4004</td>\n",
       "      <td>M</td>\n",
       "      <td>COMPUTAÇÃO (BACHARELADO)</td>\n",
       "    </tr>\n",
       "    <tr>\n",
       "      <td>946</td>\n",
       "      <td>2011</td>\n",
       "      <td>4004</td>\n",
       "      <td>M</td>\n",
       "      <td>COMPUTAÇÃO (BACHARELADO)</td>\n",
       "    </tr>\n",
       "  </tbody>\n",
       "</table>\n",
       "</div>"
      ],
      "text/plain": [
       "     NU_ANO  CO_GRUPO TP_SEXO                     curso\n",
       "942    2011      4004       M  COMPUTAÇÃO (BACHARELADO)\n",
       "943    2011      4004       M  COMPUTAÇÃO (BACHARELADO)\n",
       "944    2011      4004       M  COMPUTAÇÃO (BACHARELADO)\n",
       "945    2011      4004       M  COMPUTAÇÃO (BACHARELADO)\n",
       "946    2011      4004       M  COMPUTAÇÃO (BACHARELADO)"
      ]
     },
     "execution_count": 17,
     "metadata": {},
     "output_type": "execute_result"
    }
   ],
   "source": [
    "def define_nome(num):\n",
    "    if num == 72:\n",
    "        return 'TECNOLOGIA EM ANALISE E DESENVOLVIMENTO DE SISTEMAS'\n",
    "    elif num == 79:\n",
    "        return 'TECNOLOGIA EM REDES DE COMPUTADORES'\n",
    "    elif num == 4004:\n",
    "        return 'COMPUTAÇÃO (BACHARELADO)'\n",
    "    elif num == 4005:\n",
    "        return 'COMPUTAÇÃO (LICENCIATURA)'\n",
    "    elif num == 4006:\n",
    "        return 'COMPUTAÇÃO (SISTEMAS DE INFORMAÇÃO)'\n",
    "    elif num == 4007:\n",
    "        return 'COMPUTAÇÃO (BACHARELADO)'\n",
    "    elif num == 4005:\n",
    "        return 'COMPUTAÇÃO (ENGENHARIA DE COMPUTAÇÃO)'   \n",
    "    elif num == 5809:\n",
    "        return 'ENGENHARIA DA COMPUTAÇÃO'\n",
    "    elif num == 5811:\n",
    "        return 'ENGENHARIA DE REDES DE COMUNICAÇÃO' \n",
    "    \n",
    "df3['curso'] = df3['CO_GRUPO'].map(define_nome)\n",
    "df3.head()"
   ]
  },
  {
   "cell_type": "code",
   "execution_count": 18,
   "metadata": {},
   "outputs": [
    {
     "data": {
      "text/plain": [
       "4006    12604\n",
       "4004    11804\n",
       "72      10750\n",
       "79       4736\n",
       "4007     2012\n",
       "4005      833\n",
       "5809      296\n",
       "5811       40\n",
       "Name: CO_GRUPO, dtype: int64"
      ]
     },
     "execution_count": 18,
     "metadata": {},
     "output_type": "execute_result"
    }
   ],
   "source": [
    "df3Total = df3.loc[(df3['CO_GRUPO']==72) | (df3['CO_GRUPO']==79) | (df3['CO_GRUPO']==4004) | (df3['CO_GRUPO']==4005) | (df3['CO_GRUPO']==4006) | (df3['CO_GRUPO']==4007) | (df3['CO_GRUPO']==5809) | (df3['CO_GRUPO']==5811)]\n",
    "df3Total['CO_GRUPO'].value_counts()"
   ]
  },
  {
   "cell_type": "code",
   "execution_count": 19,
   "metadata": {},
   "outputs": [
    {
     "data": {
      "text/plain": [
       "M    36542\n",
       "F     6532\n",
       "N        1\n",
       "Name: TP_SEXO, dtype: int64"
      ]
     },
     "execution_count": 19,
     "metadata": {},
     "output_type": "execute_result"
    }
   ],
   "source": [
    "df3Alunos = df3.loc[(df3['CO_GRUPO']==72) | (df3['CO_GRUPO']==79) | (df3['CO_GRUPO']==4004) | (df3['CO_GRUPO']==4005) | (df3['CO_GRUPO']==4006) | (df3['CO_GRUPO']==4007) | (df3['CO_GRUPO']==5809) | (df3['CO_GRUPO']==5811)]\n",
    "df3Alunos['TP_SEXO'].value_counts()"
   ]
  },
  {
   "cell_type": "code",
   "execution_count": 20,
   "metadata": {},
   "outputs": [
    {
     "data": {
      "image/png": "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\n",
      "text/plain": [
       "<Figure size 432x432 with 1 Axes>"
      ]
     },
     "metadata": {},
     "output_type": "display_data"
    }
   ],
   "source": [
    "# Aqui criamos a área que plotamos o gráfico e definimos seu tamanho\n",
    "fig, ax = plt.subplots(figsize=(6,6), subplot_kw=dict(aspect='equal'))\n",
    "# Criando nosso conjunto de dados\n",
    "sexo = ['Masculino', 'Feminino']\n",
    "quant = [36542, 6532] \n",
    "\n",
    "\n",
    "# Aqui serão colocados os alunos e as porcentagens no gráfico\n",
    "def func(pct, allvals):\n",
    "    # calc %\n",
    "    absolute = int(round(pct/100.*np.sum(allvals)))\n",
    "    # fazendo legenda do gráfico com % e nº de alunos\n",
    "    return \"{:.2f}%\\n({:d})\".format(pct, absolute)\n",
    "    \n",
    "# Criando o gráfico e colocando a função da legenda interna \n",
    "wedges, texts, autotexts = ax.pie(quant, autopct=lambda pct: func(pct, quant),\n",
    "                                  textprops=dict(color=\"w\"))\n",
    "\n",
    "# Definindo a caixa de legenda externa, título, localização e onde vai aparecer\n",
    "ax.legend(wedges, sexo,\n",
    "          title=\"Sexo\",\n",
    "          loc=\"center left\",\n",
    "          bbox_to_anchor=(1, 0, 0.5, 1))\n",
    "    \n",
    "# Aqui definimos o tamanho do texto de dentro do gráfico, e o peso da fonte como bold\n",
    "plt.setp(autotexts, size=12, weight=\"bold\")\n",
    "\n",
    "# Título do gráfico\n",
    "ax.set_title(\"Representação masculina e feminina em porcentagem e valores, no enade na área de TI no ano de 2011\")\n",
    "\n",
    "# Mostrando o gráfico\n",
    "plt.show()"
   ]
  },
  {
   "cell_type": "code",
   "execution_count": 21,
   "metadata": {},
   "outputs": [
    {
     "data": {
      "image/png": "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\n",
      "text/plain": [
       "<Figure size 432x288 with 1 Axes>"
      ]
     },
     "metadata": {
      "needs_background": "light"
     },
     "output_type": "display_data"
    }
   ],
   "source": [
    "# Um gráfico com a relação entre alunos do sexo masculino e feminino\n",
    "sexo = ['Masculino', 'Feminino', 'Não Informado']\n",
    "quant = [36542, 6532, 1]\n",
    "\n",
    "\"\"\"\n",
    "    Chamamos o método bar que criará o gráfico de barra \n",
    "    passamos os argumentos que são: \n",
    "        - sexo como eixo x \n",
    "        - quant como eixo y\n",
    "        - color para as cores das barras como green ( verde )\n",
    "\"\"\"\n",
    "plt.bar(sexo, quant, color='green')\n",
    "\n",
    "# Aqui definimos as legendas de cada barra no eixo X\n",
    "plt.xticks(sexo)\n",
    "\n",
    "# A label para o eixo Y\n",
    "plt.ylabel('Alunos')\n",
    "\n",
    "# A label para o eixo X\n",
    "plt.xlabel('Gênero')\n",
    "\n",
    "ax.annotate(\"Maior valor\", \n",
    "            xy=(10, 12),\n",
    "            xycoords='data',\n",
    "            xytext=(11, 10),\n",
    "            textcoords='data',\n",
    "            arrowprops=dict(arrowstyle=\"->\",connectionstyle=\"arc3\"))\n",
    "\n",
    "# O título do gráfico\n",
    "plt.title('Representação masculina e feminina em valores absolutos, no enade na área de TI no ano de 2011')\n",
    " \n",
    "# Chamamos o método show() para mostrar o gráfico na tela\n",
    "plt.show()"
   ]
  },
  {
   "cell_type": "markdown",
   "metadata": {},
   "source": [
    "<font color=blue>**Imprimindo apenas cinco linhas com a função .head()<br>Ano 2014**</font>"
   ]
  },
  {
   "cell_type": "code",
   "execution_count": 22,
   "metadata": {},
   "outputs": [
    {
     "data": {
      "text/html": [
       "<div>\n",
       "<style scoped>\n",
       "    .dataframe tbody tr th:only-of-type {\n",
       "        vertical-align: middle;\n",
       "    }\n",
       "\n",
       "    .dataframe tbody tr th {\n",
       "        vertical-align: top;\n",
       "    }\n",
       "\n",
       "    .dataframe thead th {\n",
       "        text-align: right;\n",
       "    }\n",
       "</style>\n",
       "<table border=\"1\" class=\"dataframe\">\n",
       "  <thead>\n",
       "    <tr style=\"text-align: right;\">\n",
       "      <th></th>\n",
       "      <th>NU_ANO</th>\n",
       "      <th>CO_GRUPO</th>\n",
       "      <th>TP_SEXO</th>\n",
       "    </tr>\n",
       "  </thead>\n",
       "  <tbody>\n",
       "    <tr>\n",
       "      <td>0</td>\n",
       "      <td>2014</td>\n",
       "      <td>5710</td>\n",
       "      <td>M</td>\n",
       "    </tr>\n",
       "    <tr>\n",
       "      <td>1</td>\n",
       "      <td>2014</td>\n",
       "      <td>5710</td>\n",
       "      <td>F</td>\n",
       "    </tr>\n",
       "    <tr>\n",
       "      <td>2</td>\n",
       "      <td>2014</td>\n",
       "      <td>5710</td>\n",
       "      <td>F</td>\n",
       "    </tr>\n",
       "    <tr>\n",
       "      <td>3</td>\n",
       "      <td>2014</td>\n",
       "      <td>5710</td>\n",
       "      <td>M</td>\n",
       "    </tr>\n",
       "    <tr>\n",
       "      <td>4</td>\n",
       "      <td>2014</td>\n",
       "      <td>5710</td>\n",
       "      <td>M</td>\n",
       "    </tr>\n",
       "  </tbody>\n",
       "</table>\n",
       "</div>"
      ],
      "text/plain": [
       "   NU_ANO  CO_GRUPO TP_SEXO\n",
       "0    2014      5710       M\n",
       "1    2014      5710       F\n",
       "2    2014      5710       F\n",
       "3    2014      5710       M\n",
       "4    2014      5710       M"
      ]
     },
     "execution_count": 22,
     "metadata": {},
     "output_type": "execute_result"
    }
   ],
   "source": [
    "df4 = pd.read_csv(\"/home/mauro/Área de Trabalho/enade/microdados_enade_2014/3.DADOS/MICRODADOS_ENADE_2014.txt\", delimiter=';', encoding='iso-8859-1',  usecols=['NU_ANO', 'CO_GRUPO', 'TP_SEXO'])\n",
    "df4.head()"
   ]
  },
  {
   "cell_type": "code",
   "execution_count": 23,
   "metadata": {},
   "outputs": [
    {
     "data": {
      "text/plain": [
       "NU_ANO      51776\n",
       "CO_GRUPO    51776\n",
       "TP_SEXO     51776\n",
       "dtype: int64"
      ]
     },
     "execution_count": 23,
     "metadata": {},
     "output_type": "execute_result"
    }
   ],
   "source": [
    "df4 = df4.loc[(df4['CO_GRUPO']==72) | (df4['CO_GRUPO']==79) | (df4['CO_GRUPO']==4004) | (df4['CO_GRUPO']==4005) | (df4['CO_GRUPO']==4006) | (df4['CO_GRUPO']==5809) | (df4['CO_GRUPO']==5811)]\n",
    "df4.count()"
   ]
  },
  {
   "cell_type": "code",
   "execution_count": 24,
   "metadata": {},
   "outputs": [
    {
     "data": {
      "text/html": [
       "<div>\n",
       "<style scoped>\n",
       "    .dataframe tbody tr th:only-of-type {\n",
       "        vertical-align: middle;\n",
       "    }\n",
       "\n",
       "    .dataframe tbody tr th {\n",
       "        vertical-align: top;\n",
       "    }\n",
       "\n",
       "    .dataframe thead th {\n",
       "        text-align: right;\n",
       "    }\n",
       "</style>\n",
       "<table border=\"1\" class=\"dataframe\">\n",
       "  <thead>\n",
       "    <tr style=\"text-align: right;\">\n",
       "      <th></th>\n",
       "      <th>NU_ANO</th>\n",
       "      <th>CO_GRUPO</th>\n",
       "      <th>TP_SEXO</th>\n",
       "      <th>curso</th>\n",
       "    </tr>\n",
       "  </thead>\n",
       "  <tbody>\n",
       "    <tr>\n",
       "      <td>595</td>\n",
       "      <td>2014</td>\n",
       "      <td>4004</td>\n",
       "      <td>M</td>\n",
       "      <td>4004</td>\n",
       "    </tr>\n",
       "    <tr>\n",
       "      <td>596</td>\n",
       "      <td>2014</td>\n",
       "      <td>4004</td>\n",
       "      <td>M</td>\n",
       "      <td>4004</td>\n",
       "    </tr>\n",
       "    <tr>\n",
       "      <td>597</td>\n",
       "      <td>2014</td>\n",
       "      <td>4004</td>\n",
       "      <td>M</td>\n",
       "      <td>4004</td>\n",
       "    </tr>\n",
       "    <tr>\n",
       "      <td>598</td>\n",
       "      <td>2014</td>\n",
       "      <td>4004</td>\n",
       "      <td>M</td>\n",
       "      <td>4004</td>\n",
       "    </tr>\n",
       "    <tr>\n",
       "      <td>599</td>\n",
       "      <td>2014</td>\n",
       "      <td>4004</td>\n",
       "      <td>M</td>\n",
       "      <td>4004</td>\n",
       "    </tr>\n",
       "  </tbody>\n",
       "</table>\n",
       "</div>"
      ],
      "text/plain": [
       "     NU_ANO  CO_GRUPO TP_SEXO  curso\n",
       "595    2014      4004       M   4004\n",
       "596    2014      4004       M   4004\n",
       "597    2014      4004       M   4004\n",
       "598    2014      4004       M   4004\n",
       "599    2014      4004       M   4004"
      ]
     },
     "execution_count": 24,
     "metadata": {},
     "output_type": "execute_result"
    }
   ],
   "source": [
    "df4 = df4.loc[(df4['CO_GRUPO']==72) | (df4['CO_GRUPO']==79) | (df4['CO_GRUPO']==4004) | (df4['CO_GRUPO']==4005) | (df4['CO_GRUPO']==4006) | (df4['CO_GRUPO']==5809) | (df4['CO_GRUPO']==5811)].assign(curso=df4.CO_GRUPO) \n",
    "df4.head()"
   ]
  },
  {
   "cell_type": "code",
   "execution_count": 25,
   "metadata": {},
   "outputs": [
    {
     "data": {
      "text/html": [
       "<div>\n",
       "<style scoped>\n",
       "    .dataframe tbody tr th:only-of-type {\n",
       "        vertical-align: middle;\n",
       "    }\n",
       "\n",
       "    .dataframe tbody tr th {\n",
       "        vertical-align: top;\n",
       "    }\n",
       "\n",
       "    .dataframe thead th {\n",
       "        text-align: right;\n",
       "    }\n",
       "</style>\n",
       "<table border=\"1\" class=\"dataframe\">\n",
       "  <thead>\n",
       "    <tr style=\"text-align: right;\">\n",
       "      <th></th>\n",
       "      <th>NU_ANO</th>\n",
       "      <th>CO_GRUPO</th>\n",
       "      <th>TP_SEXO</th>\n",
       "      <th>curso</th>\n",
       "    </tr>\n",
       "  </thead>\n",
       "  <tbody>\n",
       "    <tr>\n",
       "      <td>595</td>\n",
       "      <td>2014</td>\n",
       "      <td>4004</td>\n",
       "      <td>M</td>\n",
       "      <td>COMPUTAÇÃO (BACHARELADO)</td>\n",
       "    </tr>\n",
       "    <tr>\n",
       "      <td>596</td>\n",
       "      <td>2014</td>\n",
       "      <td>4004</td>\n",
       "      <td>M</td>\n",
       "      <td>COMPUTAÇÃO (BACHARELADO)</td>\n",
       "    </tr>\n",
       "    <tr>\n",
       "      <td>597</td>\n",
       "      <td>2014</td>\n",
       "      <td>4004</td>\n",
       "      <td>M</td>\n",
       "      <td>COMPUTAÇÃO (BACHARELADO)</td>\n",
       "    </tr>\n",
       "    <tr>\n",
       "      <td>598</td>\n",
       "      <td>2014</td>\n",
       "      <td>4004</td>\n",
       "      <td>M</td>\n",
       "      <td>COMPUTAÇÃO (BACHARELADO)</td>\n",
       "    </tr>\n",
       "    <tr>\n",
       "      <td>599</td>\n",
       "      <td>2014</td>\n",
       "      <td>4004</td>\n",
       "      <td>M</td>\n",
       "      <td>COMPUTAÇÃO (BACHARELADO)</td>\n",
       "    </tr>\n",
       "  </tbody>\n",
       "</table>\n",
       "</div>"
      ],
      "text/plain": [
       "     NU_ANO  CO_GRUPO TP_SEXO                     curso\n",
       "595    2014      4004       M  COMPUTAÇÃO (BACHARELADO)\n",
       "596    2014      4004       M  COMPUTAÇÃO (BACHARELADO)\n",
       "597    2014      4004       M  COMPUTAÇÃO (BACHARELADO)\n",
       "598    2014      4004       M  COMPUTAÇÃO (BACHARELADO)\n",
       "599    2014      4004       M  COMPUTAÇÃO (BACHARELADO)"
      ]
     },
     "execution_count": 25,
     "metadata": {},
     "output_type": "execute_result"
    }
   ],
   "source": [
    "def define_nome(num):\n",
    "    if num == 72:\n",
    "        return 'TECNOLOGIA EM ANALISE E DESENVOLVIMENTO DE SISTEMAS'\n",
    "    elif num == 79:\n",
    "        return 'TECNOLOGIA EM REDES DE COMPUTADORES'\n",
    "    elif num == 4004:\n",
    "        return 'COMPUTAÇÃO (BACHARELADO)'\n",
    "    elif num == 4005:\n",
    "        return 'COMPUTAÇÃO (LICENCIATURA)'\n",
    "    elif num == 4006:\n",
    "        return 'COMPUTAÇÃO (SISTEMAS DE INFORMAÇÃO)'\n",
    "    elif num == 4007:\n",
    "        return 'COMPUTAÇÃO (BACHARELADO)'\n",
    "    elif num == 4005:\n",
    "        return 'COMPUTAÇÃO (ENGENHARIA DE COMPUTAÇÃO)'   \n",
    "    elif num == 5809:\n",
    "        return 'ENGENHARIA DA COMPUTAÇÃO'\n",
    "    elif num == 5811:\n",
    "        return 'ENGENHARIA DE REDES DE COMUNICAÇÃO' \n",
    "    \n",
    "df4['curso'] = df4['CO_GRUPO'].map(define_nome)\n",
    "df4.head()"
   ]
  },
  {
   "cell_type": "code",
   "execution_count": 26,
   "metadata": {},
   "outputs": [
    {
     "data": {
      "text/plain": [
       "4006    16288\n",
       "72      15208\n",
       "4004     9822\n",
       "79       5260\n",
       "5809     2972\n",
       "4005     2226\n",
       "Name: CO_GRUPO, dtype: int64"
      ]
     },
     "execution_count": 26,
     "metadata": {},
     "output_type": "execute_result"
    }
   ],
   "source": [
    "df4Total = df4 = df4.loc[(df4['CO_GRUPO']==72) | (df4['CO_GRUPO']==79) | (df4['CO_GRUPO']==4004) | (df4['CO_GRUPO']==4005) | (df4['CO_GRUPO']==4006) | (df4['CO_GRUPO']==5809) | (df4['CO_GRUPO']==5811)]\n",
    "df4Total['CO_GRUPO'].value_counts()"
   ]
  },
  {
   "cell_type": "code",
   "execution_count": 27,
   "metadata": {},
   "outputs": [
    {
     "data": {
      "text/plain": [
       "M    43933\n",
       "F     7840\n",
       "N        3\n",
       "Name: TP_SEXO, dtype: int64"
      ]
     },
     "execution_count": 27,
     "metadata": {},
     "output_type": "execute_result"
    }
   ],
   "source": [
    "df4Alunos = df4 = df4.loc[(df4['CO_GRUPO']==72) | (df4['CO_GRUPO']==79) | (df4['CO_GRUPO']==4004) | (df4['CO_GRUPO']==4005) | (df4['CO_GRUPO']==4006) | (df4['CO_GRUPO']==5809) | (df4['CO_GRUPO']==5811)]\n",
    "df4Alunos['TP_SEXO'].value_counts()"
   ]
  },
  {
   "cell_type": "code",
   "execution_count": 28,
   "metadata": {},
   "outputs": [
    {
     "data": {
      "image/png": "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\n",
      "text/plain": [
       "<Figure size 432x432 with 1 Axes>"
      ]
     },
     "metadata": {},
     "output_type": "display_data"
    }
   ],
   "source": [
    "# Aqui criamos a área que plotamos o gráfico e definimos seu tamanho\n",
    "fig, ax = plt.subplots(figsize=(6,6), subplot_kw=dict(aspect='equal'))\n",
    "# Criando nosso conjunto de dados\n",
    "sexo = ['Masculino', 'Feminino']\n",
    "quant = [43933, 7840] \n",
    "\n",
    "\n",
    "# Aqui serão colocados os alunos e as porcentagens no gráfico\n",
    "def func(pct, allvals):\n",
    "    # calc %\n",
    "    absolute = int(round(pct/100.*np.sum(allvals)))\n",
    "    # fazendo legenda do gráfico com % e nº de alunos\n",
    "    return \"{:.2f}%\\n({:d})\".format(pct, absolute)\n",
    "    \n",
    "# Criando o gráfico e colocando a função da legenda interna \n",
    "wedges, texts, autotexts = ax.pie(quant, autopct=lambda pct: func(pct, quant),\n",
    "                                  textprops=dict(color=\"w\"))\n",
    "\n",
    "# Definindo a caixa de legenda externa, título, localização e onde vai aparecer\n",
    "ax.legend(wedges, sexo,\n",
    "          title=\"Sexo\",\n",
    "          loc=\"center left\",\n",
    "          bbox_to_anchor=(1, 0, 0.5, 1))\n",
    "    \n",
    "# Aqui definimos o tamanho do texto de dentro do gráfico, e o peso da fonte como bold\n",
    "plt.setp(autotexts, size=12, weight=\"bold\")\n",
    "\n",
    "# Título do gráfico\n",
    "ax.set_title(\"Representação masculina e feminina em porcentagem e valores, no enade na área de TI no ano de 2014\")\n",
    "\n",
    "# Mostrando o gráfico\n",
    "plt.show()"
   ]
  },
  {
   "cell_type": "code",
   "execution_count": 29,
   "metadata": {},
   "outputs": [
    {
     "data": {
      "image/png": "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\n",
      "text/plain": [
       "<Figure size 432x288 with 1 Axes>"
      ]
     },
     "metadata": {
      "needs_background": "light"
     },
     "output_type": "display_data"
    }
   ],
   "source": [
    "# Um gráfico com a relação entre alunos do sexo masculino e feminino\n",
    "sexo = ['Masculino', 'Feminino', 'Não Informado']\n",
    "quant = [43933, 7840, 3] \n",
    "\n",
    "\"\"\"\n",
    "    Chamamos o método bar que criará o gráfico de barra \n",
    "    passamos os argumentos que são: \n",
    "        - sexo como eixo x \n",
    "        - quant como eixo y\n",
    "        - color para as cores das barras como green ( verde )\n",
    "\"\"\"\n",
    "plt.bar(sexo, quant, color='green')\n",
    "\n",
    "# Aqui definimos as legendas de cada barra no eixo X\n",
    "plt.xticks(sexo)\n",
    "\n",
    "# A label para o eixo Y\n",
    "plt.ylabel('Alunos')\n",
    "\n",
    "# A label para o eixo X\n",
    "plt.xlabel('Gênero')\n",
    "\n",
    "ax.annotate(\"Maior valor\", \n",
    "            xy=(10, 12),\n",
    "            xycoords='data',\n",
    "            xytext=(11, 10),\n",
    "            textcoords='data',\n",
    "            arrowprops=dict(arrowstyle=\"->\",connectionstyle=\"arc3\"))\n",
    "\n",
    "# O título do gráfico\n",
    "plt.title('Gráfico da representação masculina e feminina em valores absolutos, no enade na área de TI no ano de 2014')\n",
    " \n",
    "# Chamamos o método show() para mostrar o gráfico na tela\n",
    "plt.show()"
   ]
  },
  {
   "cell_type": "markdown",
   "metadata": {},
   "source": [
    "<font color=blue>**Imprimindo apenas cinco linhas com a função .head()<br>Ano 2017**</font>"
   ]
  },
  {
   "cell_type": "code",
   "execution_count": 30,
   "metadata": {},
   "outputs": [
    {
     "data": {
      "text/html": [
       "<div>\n",
       "<style scoped>\n",
       "    .dataframe tbody tr th:only-of-type {\n",
       "        vertical-align: middle;\n",
       "    }\n",
       "\n",
       "    .dataframe tbody tr th {\n",
       "        vertical-align: top;\n",
       "    }\n",
       "\n",
       "    .dataframe thead th {\n",
       "        text-align: right;\n",
       "    }\n",
       "</style>\n",
       "<table border=\"1\" class=\"dataframe\">\n",
       "  <thead>\n",
       "    <tr style=\"text-align: right;\">\n",
       "      <th></th>\n",
       "      <th>NU_ANO</th>\n",
       "      <th>CO_GRUPO</th>\n",
       "      <th>TP_SEXO</th>\n",
       "    </tr>\n",
       "  </thead>\n",
       "  <tbody>\n",
       "    <tr>\n",
       "      <td>0</td>\n",
       "      <td>2017</td>\n",
       "      <td>5710</td>\n",
       "      <td>F</td>\n",
       "    </tr>\n",
       "    <tr>\n",
       "      <td>1</td>\n",
       "      <td>2017</td>\n",
       "      <td>5710</td>\n",
       "      <td>F</td>\n",
       "    </tr>\n",
       "    <tr>\n",
       "      <td>2</td>\n",
       "      <td>2017</td>\n",
       "      <td>5710</td>\n",
       "      <td>M</td>\n",
       "    </tr>\n",
       "    <tr>\n",
       "      <td>3</td>\n",
       "      <td>2017</td>\n",
       "      <td>5710</td>\n",
       "      <td>M</td>\n",
       "    </tr>\n",
       "    <tr>\n",
       "      <td>4</td>\n",
       "      <td>2017</td>\n",
       "      <td>5710</td>\n",
       "      <td>M</td>\n",
       "    </tr>\n",
       "  </tbody>\n",
       "</table>\n",
       "</div>"
      ],
      "text/plain": [
       "   NU_ANO  CO_GRUPO TP_SEXO\n",
       "0    2017      5710       F\n",
       "1    2017      5710       F\n",
       "2    2017      5710       M\n",
       "3    2017      5710       M\n",
       "4    2017      5710       M"
      ]
     },
     "execution_count": 30,
     "metadata": {},
     "output_type": "execute_result"
    }
   ],
   "source": [
    "df5 = data = pd.read_csv(\"/home/mauro/Área de Trabalho/enade/microdados_Enade_2017_portal_2018.10.09/3.DADOS/MICRODADOS_ENADE_2017.txt\", delimiter=';', encoding='iso-8859-1',  usecols=['NU_ANO', 'CO_GRUPO', 'TP_SEXO'])\n",
    "df5.head()"
   ]
  },
  {
   "cell_type": "code",
   "execution_count": 31,
   "metadata": {},
   "outputs": [
    {
     "data": {
      "text/plain": [
       "NU_ANO      51012\n",
       "CO_GRUPO    51012\n",
       "TP_SEXO     51012\n",
       "dtype: int64"
      ]
     },
     "execution_count": 31,
     "metadata": {},
     "output_type": "execute_result"
    }
   ],
   "source": [
    "df5 = df5.loc[(df5['CO_GRUPO']==72) | (df5['CO_GRUPO']==79) | (df5['CO_GRUPO']==4003) | (df5['CO_GRUPO']==4004) | (df5['CO_GRUPO']==4005) | (df5['CO_GRUPO']==4006) | (df5['CO_GRUPO']==6409)]\n",
    "df5.count()"
   ]
  },
  {
   "cell_type": "code",
   "execution_count": 32,
   "metadata": {},
   "outputs": [
    {
     "data": {
      "text/html": [
       "<div>\n",
       "<style scoped>\n",
       "    .dataframe tbody tr th:only-of-type {\n",
       "        vertical-align: middle;\n",
       "    }\n",
       "\n",
       "    .dataframe tbody tr th {\n",
       "        vertical-align: top;\n",
       "    }\n",
       "\n",
       "    .dataframe thead th {\n",
       "        text-align: right;\n",
       "    }\n",
       "</style>\n",
       "<table border=\"1\" class=\"dataframe\">\n",
       "  <thead>\n",
       "    <tr style=\"text-align: right;\">\n",
       "      <th></th>\n",
       "      <th>NU_ANO</th>\n",
       "      <th>CO_GRUPO</th>\n",
       "      <th>TP_SEXO</th>\n",
       "      <th>curso</th>\n",
       "    </tr>\n",
       "  </thead>\n",
       "  <tbody>\n",
       "    <tr>\n",
       "      <td>383</td>\n",
       "      <td>2017</td>\n",
       "      <td>4004</td>\n",
       "      <td>M</td>\n",
       "      <td>4004</td>\n",
       "    </tr>\n",
       "    <tr>\n",
       "      <td>384</td>\n",
       "      <td>2017</td>\n",
       "      <td>4004</td>\n",
       "      <td>M</td>\n",
       "      <td>4004</td>\n",
       "    </tr>\n",
       "    <tr>\n",
       "      <td>385</td>\n",
       "      <td>2017</td>\n",
       "      <td>4004</td>\n",
       "      <td>M</td>\n",
       "      <td>4004</td>\n",
       "    </tr>\n",
       "    <tr>\n",
       "      <td>386</td>\n",
       "      <td>2017</td>\n",
       "      <td>4004</td>\n",
       "      <td>M</td>\n",
       "      <td>4004</td>\n",
       "    </tr>\n",
       "    <tr>\n",
       "      <td>387</td>\n",
       "      <td>2017</td>\n",
       "      <td>4004</td>\n",
       "      <td>M</td>\n",
       "      <td>4004</td>\n",
       "    </tr>\n",
       "  </tbody>\n",
       "</table>\n",
       "</div>"
      ],
      "text/plain": [
       "     NU_ANO  CO_GRUPO TP_SEXO  curso\n",
       "383    2017      4004       M   4004\n",
       "384    2017      4004       M   4004\n",
       "385    2017      4004       M   4004\n",
       "386    2017      4004       M   4004\n",
       "387    2017      4004       M   4004"
      ]
     },
     "execution_count": 32,
     "metadata": {},
     "output_type": "execute_result"
    }
   ],
   "source": [
    "df5 = df5.loc[(df5['CO_GRUPO']==72) | (df5['CO_GRUPO']==79) | (df5['CO_GRUPO']==4003) | (df5['CO_GRUPO']==4004) | (df5['CO_GRUPO']==4005) | (df5['CO_GRUPO']==4006) | (df5['CO_GRUPO']==6409)].assign(curso=df5.CO_GRUPO) \n",
    "df5.head()"
   ]
  },
  {
   "cell_type": "code",
   "execution_count": 33,
   "metadata": {},
   "outputs": [
    {
     "data": {
      "text/html": [
       "<div>\n",
       "<style scoped>\n",
       "    .dataframe tbody tr th:only-of-type {\n",
       "        vertical-align: middle;\n",
       "    }\n",
       "\n",
       "    .dataframe tbody tr th {\n",
       "        vertical-align: top;\n",
       "    }\n",
       "\n",
       "    .dataframe thead th {\n",
       "        text-align: right;\n",
       "    }\n",
       "</style>\n",
       "<table border=\"1\" class=\"dataframe\">\n",
       "  <thead>\n",
       "    <tr style=\"text-align: right;\">\n",
       "      <th></th>\n",
       "      <th>NU_ANO</th>\n",
       "      <th>CO_GRUPO</th>\n",
       "      <th>TP_SEXO</th>\n",
       "      <th>curso</th>\n",
       "    </tr>\n",
       "  </thead>\n",
       "  <tbody>\n",
       "    <tr>\n",
       "      <td>383</td>\n",
       "      <td>2017</td>\n",
       "      <td>4004</td>\n",
       "      <td>M</td>\n",
       "      <td>CIENCIA DA COMPUTAÇÃO (BACHARELADO)</td>\n",
       "    </tr>\n",
       "    <tr>\n",
       "      <td>384</td>\n",
       "      <td>2017</td>\n",
       "      <td>4004</td>\n",
       "      <td>M</td>\n",
       "      <td>CIENCIA DA COMPUTAÇÃO (BACHARELADO)</td>\n",
       "    </tr>\n",
       "    <tr>\n",
       "      <td>385</td>\n",
       "      <td>2017</td>\n",
       "      <td>4004</td>\n",
       "      <td>M</td>\n",
       "      <td>CIENCIA DA COMPUTAÇÃO (BACHARELADO)</td>\n",
       "    </tr>\n",
       "    <tr>\n",
       "      <td>386</td>\n",
       "      <td>2017</td>\n",
       "      <td>4004</td>\n",
       "      <td>M</td>\n",
       "      <td>CIENCIA DA COMPUTAÇÃO (BACHARELADO)</td>\n",
       "    </tr>\n",
       "    <tr>\n",
       "      <td>387</td>\n",
       "      <td>2017</td>\n",
       "      <td>4004</td>\n",
       "      <td>M</td>\n",
       "      <td>CIENCIA DA COMPUTAÇÃO (BACHARELADO)</td>\n",
       "    </tr>\n",
       "  </tbody>\n",
       "</table>\n",
       "</div>"
      ],
      "text/plain": [
       "     NU_ANO  CO_GRUPO TP_SEXO                                curso\n",
       "383    2017      4004       M  CIENCIA DA COMPUTAÇÃO (BACHARELADO)\n",
       "384    2017      4004       M  CIENCIA DA COMPUTAÇÃO (BACHARELADO)\n",
       "385    2017      4004       M  CIENCIA DA COMPUTAÇÃO (BACHARELADO)\n",
       "386    2017      4004       M  CIENCIA DA COMPUTAÇÃO (BACHARELADO)\n",
       "387    2017      4004       M  CIENCIA DA COMPUTAÇÃO (BACHARELADO)"
      ]
     },
     "execution_count": 33,
     "metadata": {},
     "output_type": "execute_result"
    }
   ],
   "source": [
    "def define_nome(num):\n",
    "    if num == 72:\n",
    "        return 'TECNOLOGIA EM ANALISE E DESENVOLVIMENTO DE SISTEMAS'\n",
    "    elif num == 79:\n",
    "        return 'TECNOLOGIA EM REDES DE COMPUTADORES'\n",
    "    elif num == 4003:\n",
    "        return 'ENGENHARIA DA COMPUTAÇÃO'\n",
    "    elif num == 4004:\n",
    "        return 'CIENCIA DA COMPUTAÇÃO (BACHARELADO)'\n",
    "    elif num == 4005:\n",
    "        return 'CIENCIA DA COMPUTAÇÃO (LICENCIATURA)'\n",
    "    elif num == 4006:\n",
    "        return 'SISTEMAS DE INFORMAÇÃO'\n",
    "    elif num == 6409:\n",
    "        return 'TECNOLOGIA EM GESTÃO DA TECNOLOGIA DA INFORMAÇÃO'   \n",
    "    \n",
    "df5['curso'] = df5['CO_GRUPO'].map(define_nome)\n",
    "df5.head()"
   ]
  },
  {
   "cell_type": "code",
   "execution_count": 34,
   "metadata": {},
   "outputs": [
    {
     "data": {
      "text/plain": [
       "4006    14990\n",
       "72      12538\n",
       "4004    10186\n",
       "6409     4566\n",
       "4003     3913\n",
       "79       3342\n",
       "4005     1477\n",
       "Name: CO_GRUPO, dtype: int64"
      ]
     },
     "execution_count": 34,
     "metadata": {},
     "output_type": "execute_result"
    }
   ],
   "source": [
    "df5Total = df5.loc[(df5['CO_GRUPO']==72) | (df5['CO_GRUPO']==79) | (df5['CO_GRUPO']==4003) | (df5['CO_GRUPO']==4004) | (df5['CO_GRUPO']==4005) | (df5['CO_GRUPO']==4006) | (df5['CO_GRUPO']==6409)]\n",
    "df5Total['CO_GRUPO'].value_counts()"
   ]
  },
  {
   "cell_type": "code",
   "execution_count": 35,
   "metadata": {},
   "outputs": [
    {
     "data": {
      "text/plain": [
       "M    43840\n",
       "F     7172\n",
       "Name: TP_SEXO, dtype: int64"
      ]
     },
     "execution_count": 35,
     "metadata": {},
     "output_type": "execute_result"
    }
   ],
   "source": [
    "df5Alunos = df5.loc[(df5['CO_GRUPO']==72) | (df5['CO_GRUPO']==79) | (df5['CO_GRUPO']==4003) | (df5['CO_GRUPO']==4004) | (df5['CO_GRUPO']==4005) | (df5['CO_GRUPO']==4006) | (df5['CO_GRUPO']==6409)] \n",
    "df5Alunos['TP_SEXO'].value_counts()"
   ]
  },
  {
   "cell_type": "code",
   "execution_count": 36,
   "metadata": {},
   "outputs": [
    {
     "data": {
      "image/png": "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\n",
      "text/plain": [
       "<Figure size 432x432 with 1 Axes>"
      ]
     },
     "metadata": {},
     "output_type": "display_data"
    }
   ],
   "source": [
    "# Aqui criamos a área que plotamos o gráfico e definimos seu tamanho\n",
    "fig, ax = plt.subplots(figsize=(6,6), subplot_kw=dict(aspect='equal'))\n",
    "# Criando nosso conjunto de dados\n",
    "sexo = ['Masculino', 'Feminino']\n",
    "quant = [43840, 7172] \n",
    "\n",
    "\n",
    "# Aqui serão colocados os alunos e as porcentagens no gráfico\n",
    "def func(pct, allvals):\n",
    "    # calc %\n",
    "    absolute = int(round(pct/100.*np.sum(allvals)))\n",
    "    # fazendo legenda do gráfico com % e nº de alunos\n",
    "    return \"{:.2f}%\\n({:d})\".format(pct, absolute)\n",
    "    \n",
    "# Criando o gráfico e colocando a função da legenda interna \n",
    "wedges, texts, autotexts = ax.pie(quant, autopct=lambda pct: func(pct, quant),\n",
    "                                  textprops=dict(color=\"w\"))\n",
    "\n",
    "# Definindo a caixa de legenda externa, título, localização e onde vai aparecer\n",
    "ax.legend(wedges, sexo,\n",
    "          title=\"Sexo\",\n",
    "          loc=\"center left\",\n",
    "          bbox_to_anchor=(1, 0, 0.5, 1))\n",
    "    \n",
    "# Aqui definimos o tamanho do texto de dentro do gráfico, e o peso da fonte como bold\n",
    "plt.setp(autotexts, size=12, weight=\"bold\")\n",
    "\n",
    "# Título do gráfico\n",
    "ax.set_title(\"Representação masculina e feminina em porcentagem e valores, no enade na área de TI no ano de 2017\")\n",
    "\n",
    "# Mostrando o gráfico\n",
    "plt.show()"
   ]
  },
  {
   "cell_type": "markdown",
   "metadata": {},
   "source": [
    "<font color=blue>**Gráficos comparativos entre os anos de 2005 e 2017.**</font>"
   ]
  },
  {
   "cell_type": "code",
   "execution_count": 37,
   "metadata": {},
   "outputs": [
    {
     "data": {
      "image/png": "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\n",
      "text/plain": [
       "<Figure size 720x360 with 1 Axes>"
      ]
     },
     "metadata": {
      "needs_background": "light"
     },
     "output_type": "display_data"
    }
   ],
   "source": [
    "# Gráfico comparativos Masculinos X Femininos\n",
    "\n",
    "Masculino = [32079, 59709, 36542, 43933, 43840]\n",
    "Feminino = [7295, 11060, 6532, 7840, 7172]\n",
    " \n",
    "\n",
    "# Definindo a largura das barras\n",
    "barWidth = 0.25\n",
    "\n",
    "# Aumentando o gráfico\n",
    "plt.figure(figsize=(10,5))\n",
    "\n",
    "# Definindo a posição das barras\n",
    "r1 = np.arange(len(Masculino))\n",
    "r2 = [x + barWidth for x in r1]\n",
    " \n",
    "# Criando as barras\n",
    "plt.bar(r1, Masculino, color='#6A5ACD', width=barWidth, label='Masculino')\n",
    "plt.bar(r2, Feminino, color='#6495ED', width=barWidth, label='Feminino')\n",
    "\n",
    "# Adiciando legendas as barras\n",
    "plt.xlabel('Anos')\n",
    "plt.xticks([r + barWidth for r in range(len(Masculino))], ['2005', '2008', '2011', '2014', '2017'])\n",
    "plt.ylabel('Nº de Alunos')\n",
    "plt.title('Gráfico da representação masculina e feminina em valores absolutos, no enade na área de TI de 2005 até 2017')\n",
    " \n",
    "# Criando a legenda e exibindo o gráfico\n",
    "plt.legend()\n",
    "plt.show()"
   ]
  },
  {
   "cell_type": "code",
   "execution_count": 38,
   "metadata": {},
   "outputs": [
    {
     "data": {
      "image/png": "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\n",
      "text/plain": [
       "<Figure size 720x360 with 1 Axes>"
      ]
     },
     "metadata": {
      "needs_background": "light"
     },
     "output_type": "display_data"
    }
   ],
   "source": [
    "# Gráfico comparativos Masculinos X Femininos\n",
    "\n",
    "Masculino = [81.47, 84.37, 84.84, 84.86, 85.94]\n",
    "Feminino = [18.53, 15.63, 15.16, 15.14, 14.06]\n",
    " \n",
    "\n",
    "# Definindo a largura das barras\n",
    "barWidth = 0.25\n",
    "\n",
    "# Aumentando o gráfico\n",
    "plt.figure(figsize=(10,5))\n",
    "\n",
    "# Definindo a posição das barras\n",
    "r1 = np.arange(len(Masculino))\n",
    "r2 = [x + barWidth for x in r1]\n",
    " \n",
    "# Criando as barras\n",
    "plt.bar(r1, Masculino, color='#6A5ACD', width=barWidth, label='Masculino')\n",
    "plt.bar(r2, Feminino, color='#6495ED', width=barWidth, label='Feminino')\n",
    "\n",
    "# Adiciando legendas as barras\n",
    "plt.xlabel('Anos')\n",
    "plt.xticks([r + barWidth for r in range(len(Masculino))], ['2005', '2008', '2011', '2014', '2017'])\n",
    "plt.ylabel('% de Alunos')\n",
    "plt.title('Gráfico da representação masculina e feminina em valores absolutos, no enade na área de TI de 2005 até 2017')\n",
    " \n",
    "# Criando a legenda e exibindo o gráfico\n",
    "plt.legend()\n",
    "plt.show()"
   ]
  },
  {
   "cell_type": "code",
   "execution_count": 39,
   "metadata": {},
   "outputs": [
    {
     "data": {
      "image/png": "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\n",
      "text/plain": [
       "<Figure size 432x288 with 1 Axes>"
      ]
     },
     "metadata": {
      "needs_background": "light"
     },
     "output_type": "display_data"
    }
   ],
   "source": [
    "ano = ['2005', '2008', '2011', '2014', '2017']\n",
    "Masculino = [81.47, 84.37, 84.84, 84.86, 85.94]\n",
    "Feminino = [18.53, 15.63, 15.16, 15.14, 14.06]\n",
    "\n",
    "plt.figure(figsize=(6, 4))\n",
    "\n",
    "plt.plot(ano, Masculino, color='blue', label='Masculino')\n",
    "plt.plot(ano, Feminino, color='red',  label='Feminino')\n",
    "\n",
    "plt.grid(True)\n",
    "# Adiciando legendas as barras\n",
    "\n",
    "plt.xlabel('Anos')\n",
    "plt.ylabel('% de participação')\n",
    "plt.title('Gráfico da representação masculina e feminina em porcentagem, no enade na área de TI de 2005 até 2017')\n",
    "plt.legend(loc=6)\n",
    "plt.show()"
   ]
  },
  {
   "cell_type": "markdown",
   "metadata": {},
   "source": [
    "# Conclusão\n",
    "Após levantar e cruzar os dados, percebeu-se que apesar das mulheres terem melhorado sua paridade com os homens nos estudos nos últimos anos, na área de TI a presença feminina apresenta leve declínio comleve tendência de queda nos anos entre 2005 e 2017 como demonstra o gráfico acima, como as diferenças são pequenas pode ser um indicador de que o quadro está estável."
   ]
  },
  {
   "cell_type": "markdown",
   "metadata": {},
   "source": [
    "# Autores:\n",
    "- Eduardo Boares\n",
    "- Mauro Toshiuki Sakugawa"
   ]
  }
 ],
 "metadata": {
  "kernelspec": {
   "display_name": "Python 3",
   "language": "python",
   "name": "python3"
  },
  "language_info": {
   "codemirror_mode": {
    "name": "ipython",
    "version": 3
   },
   "file_extension": ".py",
   "mimetype": "text/x-python",
   "name": "python",
   "nbconvert_exporter": "python",
   "pygments_lexer": "ipython3",
   "version": "3.7.3"
  }
 },
 "nbformat": 4,
 "nbformat_minor": 2
}
