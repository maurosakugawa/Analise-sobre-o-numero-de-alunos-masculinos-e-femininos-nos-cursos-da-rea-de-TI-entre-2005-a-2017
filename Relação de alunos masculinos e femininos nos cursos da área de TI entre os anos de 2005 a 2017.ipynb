{
 "cells": [
  {
   "cell_type": "markdown",
   "metadata": {},
   "source": [
    "**Importando bibliotecas, lendo apenas as colunas necessárias e imprimindo apenas cinco linhas com a função .head()**\n",
    "\n",
    "**Ano 2005**"
   ]
  },
  {
   "cell_type": "code",
   "execution_count": 1,
   "metadata": {},
   "outputs": [
    {
     "data": {
      "text/html": [
       "<div>\n",
       "<style scoped>\n",
       "    .dataframe tbody tr th:only-of-type {\n",
       "        vertical-align: middle;\n",
       "    }\n",
       "\n",
       "    .dataframe tbody tr th {\n",
       "        vertical-align: top;\n",
       "    }\n",
       "\n",
       "    .dataframe thead th {\n",
       "        text-align: right;\n",
       "    }\n",
       "</style>\n",
       "<table border=\"1\" class=\"dataframe\">\n",
       "  <thead>\n",
       "    <tr style=\"text-align: right;\">\n",
       "      <th></th>\n",
       "      <th>nu_ano</th>\n",
       "      <th>co_grupo</th>\n",
       "      <th>tp_sexo</th>\n",
       "    </tr>\n",
       "  </thead>\n",
       "  <tbody>\n",
       "    <tr>\n",
       "      <td>0</td>\n",
       "      <td>2005</td>\n",
       "      <td>7</td>\n",
       "      <td>1</td>\n",
       "    </tr>\n",
       "    <tr>\n",
       "      <td>1</td>\n",
       "      <td>2005</td>\n",
       "      <td>7</td>\n",
       "      <td>1</td>\n",
       "    </tr>\n",
       "    <tr>\n",
       "      <td>2</td>\n",
       "      <td>2005</td>\n",
       "      <td>7</td>\n",
       "      <td>2</td>\n",
       "    </tr>\n",
       "    <tr>\n",
       "      <td>3</td>\n",
       "      <td>2005</td>\n",
       "      <td>7</td>\n",
       "      <td>1</td>\n",
       "    </tr>\n",
       "    <tr>\n",
       "      <td>4</td>\n",
       "      <td>2005</td>\n",
       "      <td>7</td>\n",
       "      <td>2</td>\n",
       "    </tr>\n",
       "  </tbody>\n",
       "</table>\n",
       "</div>"
      ],
      "text/plain": [
       "   nu_ano  co_grupo  tp_sexo\n",
       "0    2005         7        1\n",
       "1    2005         7        1\n",
       "2    2005         7        2\n",
       "3    2005         7        1\n",
       "4    2005         7        2"
      ]
     },
     "execution_count": 1,
     "metadata": {},
     "output_type": "execute_result"
    }
   ],
   "source": [
    "import pandas as pd\n",
    "import matplotlib.pyplot as plt\n",
    "import numpy as np\n",
    "df1 = pd.read_csv(\"/home/mauro/Área de Trabalho/enade/microdados_enade_2005/2.DADOS/microdados_enade_2005.csv\", delimiter=';', encoding='iso-8859-1', usecols=['nu_ano', 'co_grupo', 'tp_sexo'])\n",
    "df1.head()"
   ]
  },
  {
   "cell_type": "markdown",
   "metadata": {},
   "source": [
    "<font color=black>**Usando a função loc para selecionar a coluna que contém os dados desejados e a função assign para criar uma nova coluna de nome curso.**</font>"
   ]
  },
  {
   "cell_type": "code",
   "execution_count": 2,
   "metadata": {},
   "outputs": [
    {
     "data": {
      "text/html": [
       "<div>\n",
       "<style scoped>\n",
       "    .dataframe tbody tr th:only-of-type {\n",
       "        vertical-align: middle;\n",
       "    }\n",
       "\n",
       "    .dataframe tbody tr th {\n",
       "        vertical-align: top;\n",
       "    }\n",
       "\n",
       "    .dataframe thead th {\n",
       "        text-align: right;\n",
       "    }\n",
       "</style>\n",
       "<table border=\"1\" class=\"dataframe\">\n",
       "  <thead>\n",
       "    <tr style=\"text-align: right;\">\n",
       "      <th></th>\n",
       "      <th>nu_ano</th>\n",
       "      <th>co_grupo</th>\n",
       "      <th>tp_sexo</th>\n",
       "      <th>curso</th>\n",
       "    </tr>\n",
       "  </thead>\n",
       "  <tbody>\n",
       "    <tr>\n",
       "      <td>220589</td>\n",
       "      <td>2005</td>\n",
       "      <td>40</td>\n",
       "      <td>1</td>\n",
       "      <td>40</td>\n",
       "    </tr>\n",
       "    <tr>\n",
       "      <td>220590</td>\n",
       "      <td>2005</td>\n",
       "      <td>40</td>\n",
       "      <td>1</td>\n",
       "      <td>40</td>\n",
       "    </tr>\n",
       "    <tr>\n",
       "      <td>220591</td>\n",
       "      <td>2005</td>\n",
       "      <td>40</td>\n",
       "      <td>1</td>\n",
       "      <td>40</td>\n",
       "    </tr>\n",
       "    <tr>\n",
       "      <td>220592</td>\n",
       "      <td>2005</td>\n",
       "      <td>40</td>\n",
       "      <td>1</td>\n",
       "      <td>40</td>\n",
       "    </tr>\n",
       "    <tr>\n",
       "      <td>220593</td>\n",
       "      <td>2005</td>\n",
       "      <td>40</td>\n",
       "      <td>1</td>\n",
       "      <td>40</td>\n",
       "    </tr>\n",
       "  </tbody>\n",
       "</table>\n",
       "</div>"
      ],
      "text/plain": [
       "        nu_ano  co_grupo  tp_sexo  curso\n",
       "220589    2005        40        1     40\n",
       "220590    2005        40        1     40\n",
       "220591    2005        40        1     40\n",
       "220592    2005        40        1     40\n",
       "220593    2005        40        1     40"
      ]
     },
     "execution_count": 2,
     "metadata": {},
     "output_type": "execute_result"
    }
   ],
   "source": [
    "df1 = pd.read_csv(\"/home/mauro/Área de Trabalho/enade/microdados_enade_2005/2.DADOS/microdados_enade_2005.csv\", delimiter=';', encoding='iso-8859-1', usecols=['nu_ano','co_grupo','tp_sexo'])\n",
    "df1 = df1.loc[(df1['co_grupo']==40)].assign(curso=df1.co_grupo)\n",
    "df1.head()"
   ]
  },
  {
   "cell_type": "markdown",
   "metadata": {},
   "source": [
    "<font color=black>**Criando a função define_nome para converter o código do curso em nome do curso.**</font>"
   ]
  },
  {
   "cell_type": "code",
   "execution_count": 3,
   "metadata": {},
   "outputs": [
    {
     "data": {
      "text/html": [
       "<div>\n",
       "<style scoped>\n",
       "    .dataframe tbody tr th:only-of-type {\n",
       "        vertical-align: middle;\n",
       "    }\n",
       "\n",
       "    .dataframe tbody tr th {\n",
       "        vertical-align: top;\n",
       "    }\n",
       "\n",
       "    .dataframe thead th {\n",
       "        text-align: right;\n",
       "    }\n",
       "</style>\n",
       "<table border=\"1\" class=\"dataframe\">\n",
       "  <thead>\n",
       "    <tr style=\"text-align: right;\">\n",
       "      <th></th>\n",
       "      <th>nu_ano</th>\n",
       "      <th>co_grupo</th>\n",
       "      <th>tp_sexo</th>\n",
       "      <th>curso</th>\n",
       "    </tr>\n",
       "  </thead>\n",
       "  <tbody>\n",
       "    <tr>\n",
       "      <td>220589</td>\n",
       "      <td>2005</td>\n",
       "      <td>40</td>\n",
       "      <td>1</td>\n",
       "      <td>Computação</td>\n",
       "    </tr>\n",
       "    <tr>\n",
       "      <td>220590</td>\n",
       "      <td>2005</td>\n",
       "      <td>40</td>\n",
       "      <td>1</td>\n",
       "      <td>Computação</td>\n",
       "    </tr>\n",
       "    <tr>\n",
       "      <td>220591</td>\n",
       "      <td>2005</td>\n",
       "      <td>40</td>\n",
       "      <td>1</td>\n",
       "      <td>Computação</td>\n",
       "    </tr>\n",
       "    <tr>\n",
       "      <td>220592</td>\n",
       "      <td>2005</td>\n",
       "      <td>40</td>\n",
       "      <td>1</td>\n",
       "      <td>Computação</td>\n",
       "    </tr>\n",
       "    <tr>\n",
       "      <td>220593</td>\n",
       "      <td>2005</td>\n",
       "      <td>40</td>\n",
       "      <td>1</td>\n",
       "      <td>Computação</td>\n",
       "    </tr>\n",
       "  </tbody>\n",
       "</table>\n",
       "</div>"
      ],
      "text/plain": [
       "        nu_ano  co_grupo  tp_sexo       curso\n",
       "220589    2005        40        1  Computação\n",
       "220590    2005        40        1  Computação\n",
       "220591    2005        40        1  Computação\n",
       "220592    2005        40        1  Computação\n",
       "220593    2005        40        1  Computação"
      ]
     },
     "execution_count": 3,
     "metadata": {},
     "output_type": "execute_result"
    }
   ],
   "source": [
    "def define_nome(num):\n",
    "    if num == 40:\n",
    "        return 'Computação'\n",
    "df1['curso'] = df1['co_grupo'].map(define_nome)\n",
    "df1.head()"
   ]
  },
  {
   "cell_type": "markdown",
   "metadata": {},
   "source": [
    "<font color=black>**Usando loc para selecionar as linhas de interesse dentro da coluna de códigos dos cursos e value_counts para contar o número total de alunos.**</font>"
   ]
  },
  {
   "cell_type": "code",
   "execution_count": 4,
   "metadata": {},
   "outputs": [
    {
     "data": {
      "text/plain": [
       "40    39374\n",
       "Name: co_grupo, dtype: int64"
      ]
     },
     "execution_count": 4,
     "metadata": {},
     "output_type": "execute_result"
    }
   ],
   "source": [
    "df1Total = df1.loc[(df1['co_grupo']==40)]\n",
    "df1Total['co_grupo'].value_counts()"
   ]
  },
  {
   "cell_type": "markdown",
   "metadata": {},
   "source": [
    "<font color=black>**Contando o número de alunos e alunas na coluna de gênero sexual, são 32.079 alunos e 7.295 alunas.**</font>"
   ]
  },
  {
   "cell_type": "code",
   "execution_count": 5,
   "metadata": {},
   "outputs": [
    {
     "data": {
      "text/plain": [
       "1    32079\n",
       "2     7295\n",
       "Name: tp_sexo, dtype: int64"
      ]
     },
     "execution_count": 5,
     "metadata": {},
     "output_type": "execute_result"
    }
   ],
   "source": [
    "df1Alunos = df1.loc[(df1['co_grupo']==40)]\n",
    "df1Alunos['tp_sexo'].value_counts()"
   ]
  },
  {
   "cell_type": "markdown",
   "metadata": {},
   "source": [
    "<font color=black>**Plotando o gráfico.**</font>"
   ]
  },
  {
   "cell_type": "code",
   "execution_count": 6,
   "metadata": {},
   "outputs": [
    {
     "data": {
      "image/png": "[encoded data removed]",
      "text/plain": [
       "<Figure size 432x432 with 1 Axes>"
      ]
     },
     "metadata": {},
     "output_type": "display_data"
    }
   ],
   "source": [
    "# Aqui criamos a área que plotamos o gráfico e definimos seu tamanho\n",
    "fig, ax = plt.subplots(figsize=(6,6), subplot_kw=dict(aspect='equal'))\n",
    "# Criando nosso conjunto de dados\n",
    "sexo = ['Masculino', 'Feminino']\n",
    "quant = [32079, 7295] \n",
    "\n",
    "\n",
    "# Aqui serão colocados os alunos e as porcentagens no gráfico\n",
    "def func(pct, allvals):\n",
    "    # calc %\n",
    "    absolute = int(round(pct/100.*np.sum(allvals)))\n",
    "    # fazendo legenda do gráfico com % e nº de alunos\n",
    "    return \"{:.2f}%\\n({:d})\".format(pct, absolute)\n",
    "    \n",
    "# Criando o gráfico e colocando a função da legenda interna \n",
    "wedges, texts, autotexts = ax.pie(quant, autopct=lambda pct: func(pct, quant),\n",
    "                                  textprops=dict(color=\"w\"))\n",
    "\n",
    "# Definindo a caixa de legenda externa, título, localização e onde vai aparecer\n",
    "ax.legend(wedges, sexo,\n",
    "          title=\"Sexo\",\n",
    "          loc=\"center left\",\n",
    "          bbox_to_anchor=(1, 0, 0.5, 1))\n",
    "    \n",
    "# Aqui definimos o tamanho do texto de dentro do gráfico, e o peso da fonte como bold\n",
    "plt.setp(autotexts, size=12, weight=\"bold\")\n",
    "\n",
    "# Título do gráfico\n",
    "ax.set_title(\"Representação masculina e feminina em porcentagem e valores, no enade na área de TI no ano de 2005\")\n",
    "\n",
    "# Mostrando o gráfico\n",
    "plt.show()"
   ]
  },
  {
   "cell_type": "markdown",
   "metadata": {},
   "source": [
    "**Ano 2008**"
   ]
  },
  {
   "cell_type": "code",
   "execution_count": 7,
   "metadata": {},
   "outputs": [
    {
     "data": {
      "text/html": [
       "<div>\n",
       "<style scoped>\n",
       "    .dataframe tbody tr th:only-of-type {\n",
       "        vertical-align: middle;\n",
       "    }\n",
       "\n",
       "    .dataframe tbody tr th {\n",
       "        vertical-align: top;\n",
       "    }\n",
       "\n",
       "    .dataframe thead th {\n",
       "        text-align: right;\n",
       "    }\n",
       "</style>\n",
       "<table border=\"1\" class=\"dataframe\">\n",
       "  <thead>\n",
       "    <tr style=\"text-align: right;\">\n",
       "      <th></th>\n",
       "      <th>nu_ano</th>\n",
       "      <th>co_grupo</th>\n",
       "      <th>tp_sexo</th>\n",
       "    </tr>\n",
       "  </thead>\n",
       "  <tbody>\n",
       "    <tr>\n",
       "      <td>0</td>\n",
       "      <td>2008</td>\n",
       "      <td>7</td>\n",
       "      <td>2</td>\n",
       "    </tr>\n",
       "    <tr>\n",
       "      <td>1</td>\n",
       "      <td>2008</td>\n",
       "      <td>7</td>\n",
       "      <td>1</td>\n",
       "    </tr>\n",
       "    <tr>\n",
       "      <td>2</td>\n",
       "      <td>2008</td>\n",
       "      <td>7</td>\n",
       "      <td>1</td>\n",
       "    </tr>\n",
       "    <tr>\n",
       "      <td>3</td>\n",
       "      <td>2008</td>\n",
       "      <td>7</td>\n",
       "      <td>1</td>\n",
       "    </tr>\n",
       "    <tr>\n",
       "      <td>4</td>\n",
       "      <td>2008</td>\n",
       "      <td>7</td>\n",
       "      <td>1</td>\n",
       "    </tr>\n",
       "  </tbody>\n",
       "</table>\n",
       "</div>"
      ],
      "text/plain": [
       "   nu_ano  co_grupo  tp_sexo\n",
       "0    2008         7        2\n",
       "1    2008         7        1\n",
       "2    2008         7        1\n",
       "3    2008         7        1\n",
       "4    2008         7        1"
      ]
     },
     "execution_count": 7,
     "metadata": {},
     "output_type": "execute_result"
    }
   ],
   "source": [
    "df2 = pd.read_csv(\"/home/mauro/Área de Trabalho/enade/microdados_enade_2008/2.DADOS/microdados_enade_2008.csv\", delimiter=';', encoding='iso-8859-1', usecols=['nu_ano', 'co_grupo', 'tp_sexo'])\n",
    "df2.head()"
   ]
  },
  {
   "cell_type": "code",
   "execution_count": 8,
   "metadata": {},
   "outputs": [
    {
     "data": {
      "text/plain": [
       "nu_ano      70769\n",
       "co_grupo    70769\n",
       "tp_sexo     70769\n",
       "dtype: int64"
      ]
     },
     "execution_count": 8,
     "metadata": {},
     "output_type": "execute_result"
    }
   ],
   "source": [
    "df2 = df2.loc[(df2['co_grupo']==40) | (df2['co_grupo']==72) | (df2['co_grupo']==79)]\n",
    "df2.count()"
   ]
  },
  {
   "cell_type": "code",
   "execution_count": 9,
   "metadata": {},
   "outputs": [
    {
     "data": {
      "text/html": [
       "<div>\n",
       "<style scoped>\n",
       "    .dataframe tbody tr th:only-of-type {\n",
       "        vertical-align: middle;\n",
       "    }\n",
       "\n",
       "    .dataframe tbody tr th {\n",
       "        vertical-align: top;\n",
       "    }\n",
       "\n",
       "    .dataframe thead th {\n",
       "        text-align: right;\n",
       "    }\n",
       "</style>\n",
       "<table border=\"1\" class=\"dataframe\">\n",
       "  <thead>\n",
       "    <tr style=\"text-align: right;\">\n",
       "      <th></th>\n",
       "      <th>nu_ano</th>\n",
       "      <th>co_grupo</th>\n",
       "      <th>tp_sexo</th>\n",
       "      <th>curso</th>\n",
       "    </tr>\n",
       "  </thead>\n",
       "  <tbody>\n",
       "    <tr>\n",
       "      <td>284307</td>\n",
       "      <td>2008</td>\n",
       "      <td>40</td>\n",
       "      <td>1</td>\n",
       "      <td>40</td>\n",
       "    </tr>\n",
       "    <tr>\n",
       "      <td>284308</td>\n",
       "      <td>2008</td>\n",
       "      <td>40</td>\n",
       "      <td>1</td>\n",
       "      <td>40</td>\n",
       "    </tr>\n",
       "    <tr>\n",
       "      <td>284309</td>\n",
       "      <td>2008</td>\n",
       "      <td>40</td>\n",
       "      <td>1</td>\n",
       "      <td>40</td>\n",
       "    </tr>\n",
       "    <tr>\n",
       "      <td>284310</td>\n",
       "      <td>2008</td>\n",
       "      <td>40</td>\n",
       "      <td>2</td>\n",
       "      <td>40</td>\n",
       "    </tr>\n",
       "    <tr>\n",
       "      <td>284311</td>\n",
       "      <td>2008</td>\n",
       "      <td>40</td>\n",
       "      <td>1</td>\n",
       "      <td>40</td>\n",
       "    </tr>\n",
       "  </tbody>\n",
       "</table>\n",
       "</div>"
      ],
      "text/plain": [
       "        nu_ano  co_grupo  tp_sexo  curso\n",
       "284307    2008        40        1     40\n",
       "284308    2008        40        1     40\n",
       "284309    2008        40        1     40\n",
       "284310    2008        40        2     40\n",
       "284311    2008        40        1     40"
      ]
     },
     "execution_count": 9,
     "metadata": {},
     "output_type": "execute_result"
    }
   ],
   "source": [
    "df2 = df2.loc[(df2['co_grupo']==40) | (df2['co_grupo']==72) | (df2['co_grupo']==79)].assign(curso=df2.co_grupo) \n",
    "df2.head()"
   ]
  },
  {
   "cell_type": "code",
   "execution_count": 10,
   "metadata": {},
   "outputs": [
    {
     "data": {
      "text/html": [
       "<div>\n",
       "<style scoped>\n",
       "    .dataframe tbody tr th:only-of-type {\n",
       "        vertical-align: middle;\n",
       "    }\n",
       "\n",
       "    .dataframe tbody tr th {\n",
       "        vertical-align: top;\n",
       "    }\n",
       "\n",
       "    .dataframe thead th {\n",
       "        text-align: right;\n",
       "    }\n",
       "</style>\n",
       "<table border=\"1\" class=\"dataframe\">\n",
       "  <thead>\n",
       "    <tr style=\"text-align: right;\">\n",
       "      <th></th>\n",
       "      <th>nu_ano</th>\n",
       "      <th>co_grupo</th>\n",
       "      <th>tp_sexo</th>\n",
       "      <th>curso</th>\n",
       "    </tr>\n",
       "  </thead>\n",
       "  <tbody>\n",
       "    <tr>\n",
       "      <td>284307</td>\n",
       "      <td>2008</td>\n",
       "      <td>40</td>\n",
       "      <td>1</td>\n",
       "      <td>COMPUTAÇÃO</td>\n",
       "    </tr>\n",
       "    <tr>\n",
       "      <td>284308</td>\n",
       "      <td>2008</td>\n",
       "      <td>40</td>\n",
       "      <td>1</td>\n",
       "      <td>COMPUTAÇÃO</td>\n",
       "    </tr>\n",
       "    <tr>\n",
       "      <td>284309</td>\n",
       "      <td>2008</td>\n",
       "      <td>40</td>\n",
       "      <td>1</td>\n",
       "      <td>COMPUTAÇÃO</td>\n",
       "    </tr>\n",
       "    <tr>\n",
       "      <td>284310</td>\n",
       "      <td>2008</td>\n",
       "      <td>40</td>\n",
       "      <td>2</td>\n",
       "      <td>COMPUTAÇÃO</td>\n",
       "    </tr>\n",
       "    <tr>\n",
       "      <td>284311</td>\n",
       "      <td>2008</td>\n",
       "      <td>40</td>\n",
       "      <td>1</td>\n",
       "      <td>COMPUTAÇÃO</td>\n",
       "    </tr>\n",
       "  </tbody>\n",
       "</table>\n",
       "</div>"
      ],
      "text/plain": [
       "        nu_ano  co_grupo  tp_sexo        curso\n",
       "284307    2008        40        1   COMPUTAÇÃO\n",
       "284308    2008        40        1   COMPUTAÇÃO\n",
       "284309    2008        40        1   COMPUTAÇÃO\n",
       "284310    2008        40        2   COMPUTAÇÃO\n",
       "284311    2008        40        1   COMPUTAÇÃO"
      ]
     },
     "execution_count": 10,
     "metadata": {},
     "output_type": "execute_result"
    }
   ],
   "source": [
    "def define_nome(num):\n",
    "    if num == 40:\n",
    "        return ' COMPUTAÇÃO'\n",
    "    elif num == 72:\n",
    "        return 'TECNOLOGIA EM ANALISE E DESENVOLVIMENTO DE SISTEMAS'\n",
    "    elif num == 79:\n",
    "        return 'TECNOLOGIA EM REDES DE COMPUTADORES'\n",
    "    \n",
    "df2['curso'] = df2['co_grupo'].map(define_nome)\n",
    "df2.head()"
   ]
  },
  {
   "cell_type": "code",
   "execution_count": 11,
   "metadata": {},
   "outputs": [
    {
     "data": {
      "text/plain": [
       "40    47459\n",
       "72    14730\n",
       "79     8580\n",
       "Name: co_grupo, dtype: int64"
      ]
     },
     "execution_count": 11,
     "metadata": {},
     "output_type": "execute_result"
    }
   ],
   "source": [
    "df2Total = df2.loc[(df2['co_grupo']==40) | (df2['co_grupo']==72) | (df2['co_grupo']==79)]\n",
    "df2Total['co_grupo'].value_counts()"
   ]
  },
  {
   "cell_type": "code",
   "execution_count": 12,
   "metadata": {},
   "outputs": [
    {
     "data": {
      "text/plain": [
       "1    59709\n",
       "2    11060\n",
       "Name: tp_sexo, dtype: int64"
      ]
     },
     "execution_count": 12,
     "metadata": {},
     "output_type": "execute_result"
    }
   ],
   "source": [
    "df2Alunos = df2.loc[(df2['co_grupo']==40) | (df2['co_grupo']==72) | (df2['co_grupo']==79)]\n",
    "df2Alunos['tp_sexo'].value_counts()"
   ]
  },
  {
   "cell_type": "code",
   "execution_count": 13,
   "metadata": {},
   "outputs": [
    {
     "data": {
      "image/png": "[encoded data removed]",
      "text/plain": [
       "<Figure size 432x432 with 1 Axes>"
      ]
     },
     "metadata": {},
     "output_type": "display_data"
    }
   ],
   "source": [
    "# Aqui criamos a área que plotamos o gráfico e definimos seu tamanho\n",
    "fig, ax = plt.subplots(figsize=(6,6), subplot_kw=dict(aspect='equal'))\n",
    "# Criando nosso conjunto de dados\n",
    "sexo = ['Masculino', 'Feminino']\n",
    "quant = [59709, 11060] \n",
    "\n",
    "\n",
    "# Aqui serão colocados os alunos e as porcentagens no gráfico\n",
    "def func(pct, allvals):\n",
    "    # calc %\n",
    "    absolute = int(round(pct/100.*np.sum(allvals)))\n",
    "    # fazendo legenda do gráfico com % e nº de alunos\n",
    "    return \"{:.2f}%\\n({:d})\".format(pct, absolute)\n",
    "    \n",
    "# Criando o gráfico e colocando a função da legenda interna \n",
    "wedges, texts, autotexts = ax.pie(quant, autopct=lambda pct: func(pct, quant),\n",
    "                                  textprops=dict(color=\"w\"))\n",
    "\n",
    "# Definindo a caixa de legenda externa, título, localização e onde vai aparecer\n",
    "ax.legend(wedges, sexo,\n",
    "          title=\"Sexo\",\n",
    "          loc=\"center left\",\n",
    "          bbox_to_anchor=(1, 0, 0.5, 1))\n",
    "    \n",
    "# Aqui definimos o tamanho do texto de dentro do gráfico, e o peso da fonte como bold\n",
    "plt.setp(autotexts, size=12, weight=\"bold\")\n",
    "\n",
    "# Título do gráfico\n",
    "ax.set_title(\"Representação masculina e feminina em porcentagem e valores, no enade na área de TI no ano de 2008\")\n",
    "\n",
    "# Mostrando o gráfico\n",
    "plt.show()"
   ]
  },
  {
   "cell_type": "markdown",
   "metadata": {},
   "source": [
    "**Ano 2011**"
   ]
  },
  {
   "cell_type": "code",
   "execution_count": 14,
   "metadata": {},
   "outputs": [
    {
     "data": {
      "text/html": [
       "<div>\n",
       "<style scoped>\n",
       "    .dataframe tbody tr th:only-of-type {\n",
       "        vertical-align: middle;\n",
       "    }\n",
       "\n",
       "    .dataframe tbody tr th {\n",
       "        vertical-align: top;\n",
       "    }\n",
       "\n",
       "    .dataframe thead th {\n",
       "        text-align: right;\n",
       "    }\n",
       "</style>\n",
       "<table border=\"1\" class=\"dataframe\">\n",
       "  <thead>\n",
       "    <tr style=\"text-align: right;\">\n",
       "      <th></th>\n",
       "      <th>NU_ANO</th>\n",
       "      <th>CO_GRUPO</th>\n",
       "      <th>TP_SEXO</th>\n",
       "    </tr>\n",
       "  </thead>\n",
       "  <tbody>\n",
       "    <tr>\n",
       "      <td>0</td>\n",
       "      <td>2011</td>\n",
       "      <td>5710</td>\n",
       "      <td>M</td>\n",
       "    </tr>\n",
       "    <tr>\n",
       "      <td>1</td>\n",
       "      <td>2011</td>\n",
       "      <td>5710</td>\n",
       "      <td>M</td>\n",
       "    </tr>\n",
       "    <tr>\n",
       "      <td>2</td>\n",
       "      <td>2011</td>\n",
       "      <td>5710</td>\n",
       "      <td>M</td>\n",
       "    </tr>\n",
       "    <tr>\n",
       "      <td>3</td>\n",
       "      <td>2011</td>\n",
       "      <td>5710</td>\n",
       "      <td>F</td>\n",
       "    </tr>\n",
       "    <tr>\n",
       "      <td>4</td>\n",
       "      <td>2011</td>\n",
       "      <td>5710</td>\n",
       "      <td>M</td>\n",
       "    </tr>\n",
       "  </tbody>\n",
       "</table>\n",
       "</div>"
      ],
      "text/plain": [
       "   NU_ANO  CO_GRUPO TP_SEXO\n",
       "0    2011      5710       M\n",
       "1    2011      5710       M\n",
       "2    2011      5710       M\n",
       "3    2011      5710       F\n",
       "4    2011      5710       M"
      ]
     },
     "execution_count": 14,
     "metadata": {},
     "output_type": "execute_result"
    }
   ],
   "source": [
    "df3 = pd.read_csv(\"/home/mauro/Área de Trabalho/enade/microdados_enade_2011/3.DADOS/MICRODADOS_ENADE_2011.txt\", delimiter=';', encoding='iso-8859-1', usecols=['NU_ANO', 'CO_GRUPO', 'TP_SEXO'])\n",
    "df3.head()"
   ]
  },
  {
   "cell_type": "code",
   "execution_count": 15,
   "metadata": {},
   "outputs": [
    {
     "data": {
      "text/plain": [
       "NU_ANO      43075\n",
       "CO_GRUPO    43075\n",
       "TP_SEXO     43075\n",
       "dtype: int64"
      ]
     },
     "execution_count": 15,
     "metadata": {},
     "output_type": "execute_result"
    }
   ],
   "source": [
    "df3 = df3.loc[(df3['CO_GRUPO']==72) | (df3['CO_GRUPO']==79) | (df3['CO_GRUPO']==4004) | (df3['CO_GRUPO']==4005) | (df3['CO_GRUPO']==4006) | (df3['CO_GRUPO']==4007) | (df3['CO_GRUPO']==5809) | (df3['CO_GRUPO']==5811)]\n",
    "df3.count()"
   ]
  },
  {
   "cell_type": "code",
   "execution_count": 16,
   "metadata": {},
   "outputs": [
    {
     "data": {
      "text/html": [
       "<div>\n",
       "<style scoped>\n",
       "    .dataframe tbody tr th:only-of-type {\n",
       "        vertical-align: middle;\n",
       "    }\n",
       "\n",
       "    .dataframe tbody tr th {\n",
       "        vertical-align: top;\n",
       "    }\n",
       "\n",
       "    .dataframe thead th {\n",
       "        text-align: right;\n",
       "    }\n",
       "</style>\n",
       "<table border=\"1\" class=\"dataframe\">\n",
       "  <thead>\n",
       "    <tr style=\"text-align: right;\">\n",
       "      <th></th>\n",
       "      <th>NU_ANO</th>\n",
       "      <th>CO_GRUPO</th>\n",
       "      <th>TP_SEXO</th>\n",
       "      <th>curso</th>\n",
       "    </tr>\n",
       "  </thead>\n",
       "  <tbody>\n",
       "    <tr>\n",
       "      <td>942</td>\n",
       "      <td>2011</td>\n",
       "      <td>4004</td>\n",
       "      <td>M</td>\n",
       "      <td>4004</td>\n",
       "    </tr>\n",
       "    <tr>\n",
       "      <td>943</td>\n",
       "      <td>2011</td>\n",
       "      <td>4004</td>\n",
       "      <td>M</td>\n",
       "      <td>4004</td>\n",
       "    </tr>\n",
       "    <tr>\n",
       "      <td>944</td>\n",
       "      <td>2011</td>\n",
       "      <td>4004</td>\n",
       "      <td>M</td>\n",
       "      <td>4004</td>\n",
       "    </tr>\n",
       "    <tr>\n",
       "      <td>945</td>\n",
       "      <td>2011</td>\n",
       "      <td>4004</td>\n",
       "      <td>M</td>\n",
       "      <td>4004</td>\n",
       "    </tr>\n",
       "    <tr>\n",
       "      <td>946</td>\n",
       "      <td>2011</td>\n",
       "      <td>4004</td>\n",
       "      <td>M</td>\n",
       "      <td>4004</td>\n",
       "    </tr>\n",
       "  </tbody>\n",
       "</table>\n",
       "</div>"
      ],
      "text/plain": [
       "     NU_ANO  CO_GRUPO TP_SEXO  curso\n",
       "942    2011      4004       M   4004\n",
       "943    2011      4004       M   4004\n",
       "944    2011      4004       M   4004\n",
       "945    2011      4004       M   4004\n",
       "946    2011      4004       M   4004"
      ]
     },
     "execution_count": 16,
     "metadata": {},
     "output_type": "execute_result"
    }
   ],
   "source": [
    "df3 = df3.loc[(df3['CO_GRUPO']==72) | (df3['CO_GRUPO']==79) | (df3['CO_GRUPO']==4004) | (df3['CO_GRUPO']==4005) | (df3['CO_GRUPO']==4006) | (df3['CO_GRUPO']==4007) | (df3['CO_GRUPO']==5809) | (df3['CO_GRUPO']==5811)].assign(curso=df3.CO_GRUPO) \n",
    "df3.head()"
   ]
  },
  {
   "cell_type": "code",
   "execution_count": 17,
   "metadata": {},
   "outputs": [
    {
     "data": {
      "text/html": [
       "<div>\n",
       "<style scoped>\n",
       "    .dataframe tbody tr th:only-of-type {\n",
       "        vertical-align: middle;\n",
       "    }\n",
       "\n",
       "    .dataframe tbody tr th {\n",
       "        vertical-align: top;\n",
       "    }\n",
       "\n",
       "    .dataframe thead th {\n",
       "        text-align: right;\n",
       "    }\n",
       "</style>\n",
       "<table border=\"1\" class=\"dataframe\">\n",
       "  <thead>\n",
       "    <tr style=\"text-align: right;\">\n",
       "      <th></th>\n",
       "      <th>NU_ANO</th>\n",
       "      <th>CO_GRUPO</th>\n",
       "      <th>TP_SEXO</th>\n",
       "      <th>curso</th>\n",
       "    </tr>\n",
       "  </thead>\n",
       "  <tbody>\n",
       "    <tr>\n",
       "      <td>942</td>\n",
       "      <td>2011</td>\n",
       "      <td>4004</td>\n",
       "      <td>M</td>\n",
       "      <td>COMPUTAÇÃO (BACHARELADO)</td>\n",
       "    </tr>\n",
       "    <tr>\n",
       "      <td>943</td>\n",
       "      <td>2011</td>\n",
       "      <td>4004</td>\n",
       "      <td>M</td>\n",
       "      <td>COMPUTAÇÃO (BACHARELADO)</td>\n",
       "    </tr>\n",
       "    <tr>\n",
       "      <td>944</td>\n",
       "      <td>2011</td>\n",
       "      <td>4004</td>\n",
       "      <td>M</td>\n",
       "      <td>COMPUTAÇÃO (BACHARELADO)</td>\n",
       "    </tr>\n",
       "    <tr>\n",
       "      <td>945</td>\n",
       "      <td>2011</td>\n",
       "      <td>4004</td>\n",
       "      <td>M</td>\n",
       "      <td>COMPUTAÇÃO (BACHARELADO)</td>\n",
       "    </tr>\n",
       "    <tr>\n",
       "      <td>946</td>\n",
       "      <td>2011</td>\n",
       "      <td>4004</td>\n",
       "      <td>M</td>\n",
       "      <td>COMPUTAÇÃO (BACHARELADO)</td>\n",
       "    </tr>\n",
       "  </tbody>\n",
       "</table>\n",
       "</div>"
      ],
      "text/plain": [
       "     NU_ANO  CO_GRUPO TP_SEXO                     curso\n",
       "942    2011      4004       M  COMPUTAÇÃO (BACHARELADO)\n",
       "943    2011      4004       M  COMPUTAÇÃO (BACHARELADO)\n",
       "944    2011      4004       M  COMPUTAÇÃO (BACHARELADO)\n",
       "945    2011      4004       M  COMPUTAÇÃO (BACHARELADO)\n",
       "946    2011      4004       M  COMPUTAÇÃO (BACHARELADO)"
      ]
     },
     "execution_count": 17,
     "metadata": {},
     "output_type": "execute_result"
    }
   ],
   "source": [
    "def define_nome(num):\n",
    "    if num == 72:\n",
    "        return 'TECNOLOGIA EM ANALISE E DESENVOLVIMENTO DE SISTEMAS'\n",
    "    elif num == 79:\n",
    "        return 'TECNOLOGIA EM REDES DE COMPUTADORES'\n",
    "    elif num == 4004:\n",
    "        return 'COMPUTAÇÃO (BACHARELADO)'\n",
    "    elif num == 4005:\n",
    "        return 'COMPUTAÇÃO (LICENCIATURA)'\n",
    "    elif num == 4006:\n",
    "        return 'COMPUTAÇÃO (SISTEMAS DE INFORMAÇÃO)'\n",
    "    elif num == 4007:\n",
    "        return 'COMPUTAÇÃO (BACHARELADO)'\n",
    "    elif num == 4005:\n",
    "        return 'COMPUTAÇÃO (ENGENHARIA DE COMPUTAÇÃO)'   \n",
    "    elif num == 5809:\n",
    "        return 'ENGENHARIA DA COMPUTAÇÃO'\n",
    "    elif num == 5811:\n",
    "        return 'ENGENHARIA DE REDES DE COMUNICAÇÃO' \n",
    "    \n",
    "df3['curso'] = df3['CO_GRUPO'].map(define_nome)\n",
    "df3.head()"
   ]
  },
  {
   "cell_type": "code",
   "execution_count": 18,
   "metadata": {},
   "outputs": [
    {
     "data": {
      "text/plain": [
       "4006    12604\n",
       "4004    11804\n",
       "72      10750\n",
       "79       4736\n",
       "4007     2012\n",
       "4005      833\n",
       "5809      296\n",
       "5811       40\n",
       "Name: CO_GRUPO, dtype: int64"
      ]
     },
     "execution_count": 18,
     "metadata": {},
     "output_type": "execute_result"
    }
   ],
   "source": [
    "df3Total = df3.loc[(df3['CO_GRUPO']==72) | (df3['CO_GRUPO']==79) | (df3['CO_GRUPO']==4004) | (df3['CO_GRUPO']==4005) | (df3['CO_GRUPO']==4006) | (df3['CO_GRUPO']==4007) | (df3['CO_GRUPO']==5809) | (df3['CO_GRUPO']==5811)]\n",
    "df3Total['CO_GRUPO'].value_counts()"
   ]
  },
  {
   "cell_type": "code",
   "execution_count": 19,
   "metadata": {},
   "outputs": [
    {
     "data": {
      "text/plain": [
       "M    36542\n",
       "F     6532\n",
       "N        1\n",
       "Name: TP_SEXO, dtype: int64"
      ]
     },
     "execution_count": 19,
     "metadata": {},
     "output_type": "execute_result"
    }
   ],
   "source": [
    "df3Alunos = df3.loc[(df3['CO_GRUPO']==72) | (df3['CO_GRUPO']==79) | (df3['CO_GRUPO']==4004) | (df3['CO_GRUPO']==4005) | (df3['CO_GRUPO']==4006) | (df3['CO_GRUPO']==4007) | (df3['CO_GRUPO']==5809) | (df3['CO_GRUPO']==5811)]\n",
    "df3Alunos['TP_SEXO'].value_counts()"
   ]
  },
  {
   "cell_type": "code",
   "execution_count": 20,
   "metadata": {},
   "outputs": [
    {
     "data": {
      "image/png": "[encoded data removed]",
      "text/plain": [
       "<Figure size 432x432 with 1 Axes>"
      ]
     },
     "metadata": {},
     "output_type": "display_data"
    }
   ],
   "source": [
    "# Aqui criamos a área que plotamos o gráfico e definimos seu tamanho\n",
    "fig, ax = plt.subplots(figsize=(6,6), subplot_kw=dict(aspect='equal'))\n",
    "# Criando nosso conjunto de dados\n",
    "sexo = ['Masculino', 'Feminino']\n",
    "quant = [36542, 6532] \n",
    "\n",
    "\n",
    "# Aqui serão colocados os alunos e as porcentagens no gráfico\n",
    "def func(pct, allvals):\n",
    "    # calc %\n",
    "    absolute = int(round(pct/100.*np.sum(allvals)))\n",
    "    # fazendo legenda do gráfico com % e nº de alunos\n",
    "    return \"{:.2f}%\\n({:d})\".format(pct, absolute)\n",
    "    \n",
    "# Criando o gráfico e colocando a função da legenda interna \n",
    "wedges, texts, autotexts = ax.pie(quant, autopct=lambda pct: func(pct, quant),\n",
    "                                  textprops=dict(color=\"w\"))\n",
    "\n",
    "# Definindo a caixa de legenda externa, título, localização e onde vai aparecer\n",
    "ax.legend(wedges, sexo,\n",
    "          title=\"Sexo\",\n",
    "          loc=\"center left\",\n",
    "          bbox_to_anchor=(1, 0, 0.5, 1))\n",
    "    \n",
    "# Aqui definimos o tamanho do texto de dentro do gráfico, e o peso da fonte como bold\n",
    "plt.setp(autotexts, size=12, weight=\"bold\")\n",
    "\n",
    "# Título do gráfico\n",
    "ax.set_title(\"Representação masculina e feminina em porcentagem e valores, no enade na área de TI no ano de 2011\")\n",
    "\n",
    "# Mostrando o gráfico\n",
    "plt.show()"
   ]
  },
  {
   "cell_type": "code",
   "execution_count": 21,
   "metadata": {},
   "outputs": [
    {
     "data": {
      "image/png": "[encoded data removed]",
      "text/plain": [
       "<Figure size 432x288 with 1 Axes>"
      ]
     },
     "metadata": {
      "needs_background": "light"
     },
     "output_type": "display_data"
    }
   ],
   "source": [
    "# Um gráfico com a relação entre alunos do sexo masculino e feminino\n",
    "sexo = ['Masculino', 'Feminino', 'Não Informado']\n",
    "quant = [36542, 6532, 1]\n",
    "\n",
    "\"\"\"\n",
    "    Chamamos o método bar que criará o gráfico de barra \n",
    "    passamos os argumentos que são: \n",
    "        - sexo como eixo x \n",
    "        - quant como eixo y\n",
    "        - color para as cores das barras como green ( verde )\n",
    "\"\"\"\n",
    "plt.bar(sexo, quant, color='green')\n",
    "\n",
    "# Aqui definimos as legendas de cada barra no eixo X\n",
    "plt.xticks(sexo)\n",
    "\n",
    "# A label para o eixo Y\n",
    "plt.ylabel('Alunos')\n",
    "\n",
    "# A label para o eixo X\n",
    "plt.xlabel('Gênero')\n",
    "\n",
    "\n",
    "# O título do gráfico\n",
    "plt.title('Representação masculina e feminina em valores absolutos, no enade na área de TI no ano de 2011')\n",
    " \n",
    "# Chamamos o método show() para mostrar o gráfico na tela\n",
    "plt.show()"
   ]
  },
  {
   "cell_type": "markdown",
   "metadata": {},
   "source": [
    "**Ano 2014**"
   ]
  },
  {
   "cell_type": "code",
   "execution_count": 22,
   "metadata": {},
   "outputs": [
    {
     "data": {
      "text/html": [
       "<div>\n",
       "<style scoped>\n",
       "    .dataframe tbody tr th:only-of-type {\n",
       "        vertical-align: middle;\n",
       "    }\n",
       "\n",
       "    .dataframe tbody tr th {\n",
       "        vertical-align: top;\n",
       "    }\n",
       "\n",
       "    .dataframe thead th {\n",
       "        text-align: right;\n",
       "    }\n",
       "</style>\n",
       "<table border=\"1\" class=\"dataframe\">\n",
       "  <thead>\n",
       "    <tr style=\"text-align: right;\">\n",
       "      <th></th>\n",
       "      <th>NU_ANO</th>\n",
       "      <th>CO_GRUPO</th>\n",
       "      <th>TP_SEXO</th>\n",
       "    </tr>\n",
       "  </thead>\n",
       "  <tbody>\n",
       "    <tr>\n",
       "      <td>0</td>\n",
       "      <td>2014</td>\n",
       "      <td>5710</td>\n",
       "      <td>M</td>\n",
       "    </tr>\n",
       "    <tr>\n",
       "      <td>1</td>\n",
       "      <td>2014</td>\n",
       "      <td>5710</td>\n",
       "      <td>F</td>\n",
       "    </tr>\n",
       "    <tr>\n",
       "      <td>2</td>\n",
       "      <td>2014</td>\n",
       "      <td>5710</td>\n",
       "      <td>F</td>\n",
       "    </tr>\n",
       "    <tr>\n",
       "      <td>3</td>\n",
       "      <td>2014</td>\n",
       "      <td>5710</td>\n",
       "      <td>M</td>\n",
       "    </tr>\n",
       "    <tr>\n",
       "      <td>4</td>\n",
       "      <td>2014</td>\n",
       "      <td>5710</td>\n",
       "      <td>M</td>\n",
       "    </tr>\n",
       "  </tbody>\n",
       "</table>\n",
       "</div>"
      ],
      "text/plain": [
       "   NU_ANO  CO_GRUPO TP_SEXO\n",
       "0    2014      5710       M\n",
       "1    2014      5710       F\n",
       "2    2014      5710       F\n",
       "3    2014      5710       M\n",
       "4    2014      5710       M"
      ]
     },
     "execution_count": 22,
     "metadata": {},
     "output_type": "execute_result"
    }
   ],
   "source": [
    "df4 = pd.read_csv(\"/home/mauro/Área de Trabalho/enade/microdados_enade_2014/3.DADOS/MICRODADOS_ENADE_2014.txt\", delimiter=';', encoding='iso-8859-1',  usecols=['NU_ANO', 'CO_GRUPO', 'TP_SEXO'])\n",
    "df4.head()"
   ]
  },
  {
   "cell_type": "code",
   "execution_count": 23,
   "metadata": {},
   "outputs": [
    {
     "data": {
      "text/plain": [
       "NU_ANO      51776\n",
       "CO_GRUPO    51776\n",
       "TP_SEXO     51776\n",
       "dtype: int64"
      ]
     },
     "execution_count": 23,
     "metadata": {},
     "output_type": "execute_result"
    }
   ],
   "source": [
    "df4 = df4.loc[(df4['CO_GRUPO']==72) | (df4['CO_GRUPO']==79) | (df4['CO_GRUPO']==4004) | (df4['CO_GRUPO']==4005) | (df4['CO_GRUPO']==4006) | (df4['CO_GRUPO']==5809) | (df4['CO_GRUPO']==5811)]\n",
    "df4.count()"
   ]
  },
  {
   "cell_type": "code",
   "execution_count": 24,
   "metadata": {},
   "outputs": [
    {
     "data": {
      "text/html": [
       "<div>\n",
       "<style scoped>\n",
       "    .dataframe tbody tr th:only-of-type {\n",
       "        vertical-align: middle;\n",
       "    }\n",
       "\n",
       "    .dataframe tbody tr th {\n",
       "        vertical-align: top;\n",
       "    }\n",
       "\n",
       "    .dataframe thead th {\n",
       "        text-align: right;\n",
       "    }\n",
       "</style>\n",
       "<table border=\"1\" class=\"dataframe\">\n",
       "  <thead>\n",
       "    <tr style=\"text-align: right;\">\n",
       "      <th></th>\n",
       "      <th>NU_ANO</th>\n",
       "      <th>CO_GRUPO</th>\n",
       "      <th>TP_SEXO</th>\n",
       "      <th>curso</th>\n",
       "    </tr>\n",
       "  </thead>\n",
       "  <tbody>\n",
       "    <tr>\n",
       "      <td>595</td>\n",
       "      <td>2014</td>\n",
       "      <td>4004</td>\n",
       "      <td>M</td>\n",
       "      <td>4004</td>\n",
       "    </tr>\n",
       "    <tr>\n",
       "      <td>596</td>\n",
       "      <td>2014</td>\n",
       "      <td>4004</td>\n",
       "      <td>M</td>\n",
       "      <td>4004</td>\n",
       "    </tr>\n",
       "    <tr>\n",
       "      <td>597</td>\n",
       "      <td>2014</td>\n",
       "      <td>4004</td>\n",
       "      <td>M</td>\n",
       "      <td>4004</td>\n",
       "    </tr>\n",
       "    <tr>\n",
       "      <td>598</td>\n",
       "      <td>2014</td>\n",
       "      <td>4004</td>\n",
       "      <td>M</td>\n",
       "      <td>4004</td>\n",
       "    </tr>\n",
       "    <tr>\n",
       "      <td>599</td>\n",
       "      <td>2014</td>\n",
       "      <td>4004</td>\n",
       "      <td>M</td>\n",
       "      <td>4004</td>\n",
       "    </tr>\n",
       "  </tbody>\n",
       "</table>\n",
       "</div>"
      ],
      "text/plain": [
       "     NU_ANO  CO_GRUPO TP_SEXO  curso\n",
       "595    2014      4004       M   4004\n",
       "596    2014      4004       M   4004\n",
       "597    2014      4004       M   4004\n",
       "598    2014      4004       M   4004\n",
       "599    2014      4004       M   4004"
      ]
     },
     "execution_count": 24,
     "metadata": {},
     "output_type": "execute_result"
    }
   ],
   "source": [
    "df4 = df4.loc[(df4['CO_GRUPO']==72) | (df4['CO_GRUPO']==79) | (df4['CO_GRUPO']==4004) | (df4['CO_GRUPO']==4005) | (df4['CO_GRUPO']==4006) | (df4['CO_GRUPO']==5809) | (df4['CO_GRUPO']==5811)].assign(curso=df4.CO_GRUPO) \n",
    "df4.head()"
   ]
  },
  {
   "cell_type": "code",
   "execution_count": 25,
   "metadata": {},
   "outputs": [
    {
     "data": {
      "text/html": [
       "<div>\n",
       "<style scoped>\n",
       "    .dataframe tbody tr th:only-of-type {\n",
       "        vertical-align: middle;\n",
       "    }\n",
       "\n",
       "    .dataframe tbody tr th {\n",
       "        vertical-align: top;\n",
       "    }\n",
       "\n",
       "    .dataframe thead th {\n",
       "        text-align: right;\n",
       "    }\n",
       "</style>\n",
       "<table border=\"1\" class=\"dataframe\">\n",
       "  <thead>\n",
       "    <tr style=\"text-align: right;\">\n",
       "      <th></th>\n",
       "      <th>NU_ANO</th>\n",
       "      <th>CO_GRUPO</th>\n",
       "      <th>TP_SEXO</th>\n",
       "      <th>curso</th>\n",
       "    </tr>\n",
       "  </thead>\n",
       "  <tbody>\n",
       "    <tr>\n",
       "      <td>595</td>\n",
       "      <td>2014</td>\n",
       "      <td>4004</td>\n",
       "      <td>M</td>\n",
       "      <td>COMPUTAÇÃO (BACHARELADO)</td>\n",
       "    </tr>\n",
       "    <tr>\n",
       "      <td>596</td>\n",
       "      <td>2014</td>\n",
       "      <td>4004</td>\n",
       "      <td>M</td>\n",
       "      <td>COMPUTAÇÃO (BACHARELADO)</td>\n",
       "    </tr>\n",
       "    <tr>\n",
       "      <td>597</td>\n",
       "      <td>2014</td>\n",
       "      <td>4004</td>\n",
       "      <td>M</td>\n",
       "      <td>COMPUTAÇÃO (BACHARELADO)</td>\n",
       "    </tr>\n",
       "    <tr>\n",
       "      <td>598</td>\n",
       "      <td>2014</td>\n",
       "      <td>4004</td>\n",
       "      <td>M</td>\n",
       "      <td>COMPUTAÇÃO (BACHARELADO)</td>\n",
       "    </tr>\n",
       "    <tr>\n",
       "      <td>599</td>\n",
       "      <td>2014</td>\n",
       "      <td>4004</td>\n",
       "      <td>M</td>\n",
       "      <td>COMPUTAÇÃO (BACHARELADO)</td>\n",
       "    </tr>\n",
       "  </tbody>\n",
       "</table>\n",
       "</div>"
      ],
      "text/plain": [
       "     NU_ANO  CO_GRUPO TP_SEXO                     curso\n",
       "595    2014      4004       M  COMPUTAÇÃO (BACHARELADO)\n",
       "596    2014      4004       M  COMPUTAÇÃO (BACHARELADO)\n",
       "597    2014      4004       M  COMPUTAÇÃO (BACHARELADO)\n",
       "598    2014      4004       M  COMPUTAÇÃO (BACHARELADO)\n",
       "599    2014      4004       M  COMPUTAÇÃO (BACHARELADO)"
      ]
     },
     "execution_count": 25,
     "metadata": {},
     "output_type": "execute_result"
    }
   ],
   "source": [
    "def define_nome(num):\n",
    "    if num == 72:\n",
    "        return 'TECNOLOGIA EM ANALISE E DESENVOLVIMENTO DE SISTEMAS'\n",
    "    elif num == 79:\n",
    "        return 'TECNOLOGIA EM REDES DE COMPUTADORES'\n",
    "    elif num == 4004:\n",
    "        return 'COMPUTAÇÃO (BACHARELADO)'\n",
    "    elif num == 4005:\n",
    "        return 'COMPUTAÇÃO (LICENCIATURA)'\n",
    "    elif num == 4006:\n",
    "        return 'COMPUTAÇÃO (SISTEMAS DE INFORMAÇÃO)'\n",
    "    elif num == 4007:\n",
    "        return 'COMPUTAÇÃO (BACHARELADO)'\n",
    "    elif num == 4005:\n",
    "        return 'COMPUTAÇÃO (ENGENHARIA DE COMPUTAÇÃO)'   \n",
    "    elif num == 5809:\n",
    "        return 'ENGENHARIA DA COMPUTAÇÃO'\n",
    "    elif num == 5811:\n",
    "        return 'ENGENHARIA DE REDES DE COMUNICAÇÃO' \n",
    "    \n",
    "df4['curso'] = df4['CO_GRUPO'].map(define_nome)\n",
    "df4.head()"
   ]
  },
  {
   "cell_type": "code",
   "execution_count": 26,
   "metadata": {},
   "outputs": [
    {
     "data": {
      "text/plain": [
       "4006    16288\n",
       "72      15208\n",
       "4004     9822\n",
       "79       5260\n",
       "5809     2972\n",
       "4005     2226\n",
       "Name: CO_GRUPO, dtype: int64"
      ]
     },
     "execution_count": 26,
     "metadata": {},
     "output_type": "execute_result"
    }
   ],
   "source": [
    "df4Total = df4 = df4.loc[(df4['CO_GRUPO']==72) | (df4['CO_GRUPO']==79) | (df4['CO_GRUPO']==4004) | (df4['CO_GRUPO']==4005) | (df4['CO_GRUPO']==4006) | (df4['CO_GRUPO']==5809) | (df4['CO_GRUPO']==5811)]\n",
    "df4Total['CO_GRUPO'].value_counts()"
   ]
  },
  {
   "cell_type": "code",
   "execution_count": 27,
   "metadata": {},
   "outputs": [
    {
     "data": {
      "text/plain": [
       "M    43933\n",
       "F     7840\n",
       "N        3\n",
       "Name: TP_SEXO, dtype: int64"
      ]
     },
     "execution_count": 27,
     "metadata": {},
     "output_type": "execute_result"
    }
   ],
   "source": [
    "df4Alunos = df4 = df4.loc[(df4['CO_GRUPO']==72) | (df4['CO_GRUPO']==79) | (df4['CO_GRUPO']==4004) | (df4['CO_GRUPO']==4005) | (df4['CO_GRUPO']==4006) | (df4['CO_GRUPO']==5809) | (df4['CO_GRUPO']==5811)]\n",
    "df4Alunos['TP_SEXO'].value_counts()"
   ]
  },
  {
   "cell_type": "code",
   "execution_count": 28,
   "metadata": {},
   "outputs": [
    {
     "data": {
      "image/png": "[encoded data removed]",
      "text/plain": [
       "<Figure size 432x432 with 1 Axes>"
      ]
     },
     "metadata": {},
     "output_type": "display_data"
    }
   ],
   "source": [
    "# Aqui criamos a área que plotamos o gráfico e definimos seu tamanho\n",
    "fig, ax = plt.subplots(figsize=(6,6), subplot_kw=dict(aspect='equal'))\n",
    "# Criando nosso conjunto de dados\n",
    "sexo = ['Masculino', 'Feminino']\n",
    "quant = [43933, 7840] \n",
    "\n",
    "\n",
    "# Aqui serão colocados os alunos e as porcentagens no gráfico\n",
    "def func(pct, allvals):\n",
    "    # calc %\n",
    "    absolute = int(round(pct/100.*np.sum(allvals)))\n",
    "    # fazendo legenda do gráfico com % e nº de alunos\n",
    "    return \"{:.2f}%\\n({:d})\".format(pct, absolute)\n",
    "    \n",
    "# Criando o gráfico e colocando a função da legenda interna \n",
    "wedges, texts, autotexts = ax.pie(quant, autopct=lambda pct: func(pct, quant),\n",
    "                                  textprops=dict(color=\"w\"))\n",
    "\n",
    "# Definindo a caixa de legenda externa, título, localização e onde vai aparecer\n",
    "ax.legend(wedges, sexo,\n",
    "          title=\"Sexo\",\n",
    "          loc=\"center left\",\n",
    "          bbox_to_anchor=(1, 0, 0.5, 1))\n",
    "    \n",
    "# Aqui definimos o tamanho do texto de dentro do gráfico, e o peso da fonte como bold\n",
    "plt.setp(autotexts, size=12, weight=\"bold\")\n",
    "\n",
    "# Título do gráfico\n",
    "ax.set_title(\"Representação masculina e feminina em porcentagem e valores, no enade na área de TI no ano de 2014\")\n",
    "\n",
    "# Mostrando o gráfico\n",
    "plt.show()"
   ]
  },
  {
   "cell_type": "code",
   "execution_count": 29,
   "metadata": {},
   "outputs": [
    {
     "data": {
      "image/png": "[encoded data removed]",
      "text/plain": [
       "<Figure size 432x288 with 1 Axes>"
      ]
     },
     "metadata": {
      "needs_background": "light"
     },
     "output_type": "display_data"
    }
   ],
   "source": [
    "# Um gráfico com a relação entre alunos do sexo masculino e feminino\n",
    "sexo = ['Masculino', 'Feminino', 'Não Informado']\n",
    "quant = [43933, 7840, 3] \n",
    "\n",
    "\"\"\"\n",
    "    Chamamos o método bar que criará o gráfico de barra \n",
    "    passamos os argumentos que são: \n",
    "        - sexo como eixo x \n",
    "        - quant como eixo y\n",
    "        - color para as cores das barras como green ( verde )\n",
    "\"\"\"\n",
    "plt.bar(sexo, quant, color='green')\n",
    "\n",
    "# Aqui definimos as legendas de cada barra no eixo X\n",
    "plt.xticks(sexo)\n",
    "\n",
    "# A label para o eixo Y\n",
    "plt.ylabel('Alunos')\n",
    "\n",
    "# A label para o eixo X\n",
    "plt.xlabel('Gênero')\n",
    "\n",
    "\n",
    "# O título do gráfico\n",
    "plt.title('Gráfico da representação masculina e feminina em valores absolutos, no enade na área de TI no ano de 2014')\n",
    " \n",
    "# Chamamos o método show() para mostrar o gráfico na tela\n",
    "plt.show()"
   ]
  },
  {
   "cell_type": "markdown",
   "metadata": {},
   "source": [
    "**Ano 2017**"
   ]
  },
  {
   "cell_type": "code",
   "execution_count": 30,
   "metadata": {},
   "outputs": [
    {
     "data": {
      "text/html": [
       "<div>\n",
       "<style scoped>\n",
       "    .dataframe tbody tr th:only-of-type {\n",
       "        vertical-align: middle;\n",
       "    }\n",
       "\n",
       "    .dataframe tbody tr th {\n",
       "        vertical-align: top;\n",
       "    }\n",
       "\n",
       "    .dataframe thead th {\n",
       "        text-align: right;\n",
       "    }\n",
       "</style>\n",
       "<table border=\"1\" class=\"dataframe\">\n",
       "  <thead>\n",
       "    <tr style=\"text-align: right;\">\n",
       "      <th></th>\n",
       "      <th>NU_ANO</th>\n",
       "      <th>CO_GRUPO</th>\n",
       "      <th>TP_SEXO</th>\n",
       "    </tr>\n",
       "  </thead>\n",
       "  <tbody>\n",
       "    <tr>\n",
       "      <td>0</td>\n",
       "      <td>2017</td>\n",
       "      <td>5710</td>\n",
       "      <td>F</td>\n",
       "    </tr>\n",
       "    <tr>\n",
       "      <td>1</td>\n",
       "      <td>2017</td>\n",
       "      <td>5710</td>\n",
       "      <td>F</td>\n",
       "    </tr>\n",
       "    <tr>\n",
       "      <td>2</td>\n",
       "      <td>2017</td>\n",
       "      <td>5710</td>\n",
       "      <td>M</td>\n",
       "    </tr>\n",
       "    <tr>\n",
       "      <td>3</td>\n",
       "      <td>2017</td>\n",
       "      <td>5710</td>\n",
       "      <td>M</td>\n",
       "    </tr>\n",
       "    <tr>\n",
       "      <td>4</td>\n",
       "      <td>2017</td>\n",
       "      <td>5710</td>\n",
       "      <td>M</td>\n",
       "    </tr>\n",
       "  </tbody>\n",
       "</table>\n",
       "</div>"
      ],
      "text/plain": [
       "   NU_ANO  CO_GRUPO TP_SEXO\n",
       "0    2017      5710       F\n",
       "1    2017      5710       F\n",
       "2    2017      5710       M\n",
       "3    2017      5710       M\n",
       "4    2017      5710       M"
      ]
     },
     "execution_count": 30,
     "metadata": {},
     "output_type": "execute_result"
    }
   ],
   "source": [
    "df5 = data = pd.read_csv(\"/home/mauro/Área de Trabalho/enade/microdados_Enade_2017_portal_2018.10.09/3.DADOS/MICRODADOS_ENADE_2017.txt\", delimiter=';', encoding='iso-8859-1',  usecols=['NU_ANO', 'CO_GRUPO', 'TP_SEXO'])\n",
    "df5.head()"
   ]
  },
  {
   "cell_type": "code",
   "execution_count": 31,
   "metadata": {},
   "outputs": [
    {
     "data": {
      "text/plain": [
       "NU_ANO      51012\n",
       "CO_GRUPO    51012\n",
       "TP_SEXO     51012\n",
       "dtype: int64"
      ]
     },
     "execution_count": 31,
     "metadata": {},
     "output_type": "execute_result"
    }
   ],
   "source": [
    "df5 = df5.loc[(df5['CO_GRUPO']==72) | (df5['CO_GRUPO']==79) | (df5['CO_GRUPO']==4003) | (df5['CO_GRUPO']==4004) | (df5['CO_GRUPO']==4005) | (df5['CO_GRUPO']==4006) | (df5['CO_GRUPO']==6409)]\n",
    "df5.count()"
   ]
  },
  {
   "cell_type": "code",
   "execution_count": 32,
   "metadata": {},
   "outputs": [
    {
     "data": {
      "text/html": [
       "<div>\n",
       "<style scoped>\n",
       "    .dataframe tbody tr th:only-of-type {\n",
       "        vertical-align: middle;\n",
       "    }\n",
       "\n",
       "    .dataframe tbody tr th {\n",
       "        vertical-align: top;\n",
       "    }\n",
       "\n",
       "    .dataframe thead th {\n",
       "        text-align: right;\n",
       "    }\n",
       "</style>\n",
       "<table border=\"1\" class=\"dataframe\">\n",
       "  <thead>\n",
       "    <tr style=\"text-align: right;\">\n",
       "      <th></th>\n",
       "      <th>NU_ANO</th>\n",
       "      <th>CO_GRUPO</th>\n",
       "      <th>TP_SEXO</th>\n",
       "      <th>curso</th>\n",
       "    </tr>\n",
       "  </thead>\n",
       "  <tbody>\n",
       "    <tr>\n",
       "      <td>383</td>\n",
       "      <td>2017</td>\n",
       "      <td>4004</td>\n",
       "      <td>M</td>\n",
       "      <td>4004</td>\n",
       "    </tr>\n",
       "    <tr>\n",
       "      <td>384</td>\n",
       "      <td>2017</td>\n",
       "      <td>4004</td>\n",
       "      <td>M</td>\n",
       "      <td>4004</td>\n",
       "    </tr>\n",
       "    <tr>\n",
       "      <td>385</td>\n",
       "      <td>2017</td>\n",
       "      <td>4004</td>\n",
       "      <td>M</td>\n",
       "      <td>4004</td>\n",
       "    </tr>\n",
       "    <tr>\n",
       "      <td>386</td>\n",
       "      <td>2017</td>\n",
       "      <td>4004</td>\n",
       "      <td>M</td>\n",
       "      <td>4004</td>\n",
       "    </tr>\n",
       "    <tr>\n",
       "      <td>387</td>\n",
       "      <td>2017</td>\n",
       "      <td>4004</td>\n",
       "      <td>M</td>\n",
       "      <td>4004</td>\n",
       "    </tr>\n",
       "  </tbody>\n",
       "</table>\n",
       "</div>"
      ],
      "text/plain": [
       "     NU_ANO  CO_GRUPO TP_SEXO  curso\n",
       "383    2017      4004       M   4004\n",
       "384    2017      4004       M   4004\n",
       "385    2017      4004       M   4004\n",
       "386    2017      4004       M   4004\n",
       "387    2017      4004       M   4004"
      ]
     },
     "execution_count": 32,
     "metadata": {},
     "output_type": "execute_result"
    }
   ],
   "source": [
    "df5 = df5.loc[(df5['CO_GRUPO']==72) | (df5['CO_GRUPO']==79) | (df5['CO_GRUPO']==4003) | (df5['CO_GRUPO']==4004) | (df5['CO_GRUPO']==4005) | (df5['CO_GRUPO']==4006) | (df5['CO_GRUPO']==6409)].assign(curso=df5.CO_GRUPO) \n",
    "df5.head()"
   ]
  },
  {
   "cell_type": "code",
   "execution_count": 33,
   "metadata": {},
   "outputs": [
    {
     "data": {
      "text/html": [
       "<div>\n",
       "<style scoped>\n",
       "    .dataframe tbody tr th:only-of-type {\n",
       "        vertical-align: middle;\n",
       "    }\n",
       "\n",
       "    .dataframe tbody tr th {\n",
       "        vertical-align: top;\n",
       "    }\n",
       "\n",
       "    .dataframe thead th {\n",
       "        text-align: right;\n",
       "    }\n",
       "</style>\n",
       "<table border=\"1\" class=\"dataframe\">\n",
       "  <thead>\n",
       "    <tr style=\"text-align: right;\">\n",
       "      <th></th>\n",
       "      <th>NU_ANO</th>\n",
       "      <th>CO_GRUPO</th>\n",
       "      <th>TP_SEXO</th>\n",
       "      <th>curso</th>\n",
       "    </tr>\n",
       "  </thead>\n",
       "  <tbody>\n",
       "    <tr>\n",
       "      <td>383</td>\n",
       "      <td>2017</td>\n",
       "      <td>4004</td>\n",
       "      <td>M</td>\n",
       "      <td>CIENCIA DA COMPUTAÇÃO (BACHARELADO)</td>\n",
       "    </tr>\n",
       "    <tr>\n",
       "      <td>384</td>\n",
       "      <td>2017</td>\n",
       "      <td>4004</td>\n",
       "      <td>M</td>\n",
       "      <td>CIENCIA DA COMPUTAÇÃO (BACHARELADO)</td>\n",
       "    </tr>\n",
       "    <tr>\n",
       "      <td>385</td>\n",
       "      <td>2017</td>\n",
       "      <td>4004</td>\n",
       "      <td>M</td>\n",
       "      <td>CIENCIA DA COMPUTAÇÃO (BACHARELADO)</td>\n",
       "    </tr>\n",
       "    <tr>\n",
       "      <td>386</td>\n",
       "      <td>2017</td>\n",
       "      <td>4004</td>\n",
       "      <td>M</td>\n",
       "      <td>CIENCIA DA COMPUTAÇÃO (BACHARELADO)</td>\n",
       "    </tr>\n",
       "    <tr>\n",
       "      <td>387</td>\n",
       "      <td>2017</td>\n",
       "      <td>4004</td>\n",
       "      <td>M</td>\n",
       "      <td>CIENCIA DA COMPUTAÇÃO (BACHARELADO)</td>\n",
       "    </tr>\n",
       "  </tbody>\n",
       "</table>\n",
       "</div>"
      ],
      "text/plain": [
       "     NU_ANO  CO_GRUPO TP_SEXO                                curso\n",
       "383    2017      4004       M  CIENCIA DA COMPUTAÇÃO (BACHARELADO)\n",
       "384    2017      4004       M  CIENCIA DA COMPUTAÇÃO (BACHARELADO)\n",
       "385    2017      4004       M  CIENCIA DA COMPUTAÇÃO (BACHARELADO)\n",
       "386    2017      4004       M  CIENCIA DA COMPUTAÇÃO (BACHARELADO)\n",
       "387    2017      4004       M  CIENCIA DA COMPUTAÇÃO (BACHARELADO)"
      ]
     },
     "execution_count": 33,
     "metadata": {},
     "output_type": "execute_result"
    }
   ],
   "source": [
    "def define_nome(num):\n",
    "    if num == 72:\n",
    "        return 'TECNOLOGIA EM ANALISE E DESENVOLVIMENTO DE SISTEMAS'\n",
    "    elif num == 79:\n",
    "        return 'TECNOLOGIA EM REDES DE COMPUTADORES'\n",
    "    elif num == 4003:\n",
    "        return 'ENGENHARIA DA COMPUTAÇÃO'\n",
    "    elif num == 4004:\n",
    "        return 'CIENCIA DA COMPUTAÇÃO (BACHARELADO)'\n",
    "    elif num == 4005:\n",
    "        return 'CIENCIA DA COMPUTAÇÃO (LICENCIATURA)'\n",
    "    elif num == 4006:\n",
    "        return 'SISTEMAS DE INFORMAÇÃO'\n",
    "    elif num == 6409:\n",
    "        return 'TECNOLOGIA EM GESTÃO DA TECNOLOGIA DA INFORMAÇÃO'   \n",
    "    \n",
    "df5['curso'] = df5['CO_GRUPO'].map(define_nome)\n",
    "df5.head()"
   ]
  },
  {
   "cell_type": "code",
   "execution_count": 34,
   "metadata": {},
   "outputs": [
    {
     "data": {
      "text/plain": [
       "4006    14990\n",
       "72      12538\n",
       "4004    10186\n",
       "6409     4566\n",
       "4003     3913\n",
       "79       3342\n",
       "4005     1477\n",
       "Name: CO_GRUPO, dtype: int64"
      ]
     },
     "execution_count": 34,
     "metadata": {},
     "output_type": "execute_result"
    }
   ],
   "source": [
    "df5Total = df5.loc[(df5['CO_GRUPO']==72) | (df5['CO_GRUPO']==79) | (df5['CO_GRUPO']==4003) | (df5['CO_GRUPO']==4004) | (df5['CO_GRUPO']==4005) | (df5['CO_GRUPO']==4006) | (df5['CO_GRUPO']==6409)]\n",
    "df5Total['CO_GRUPO'].value_counts()"
   ]
  },
  {
   "cell_type": "code",
   "execution_count": 35,
   "metadata": {},
   "outputs": [
    {
     "data": {
      "text/plain": [
       "M    43840\n",
       "F     7172\n",
       "Name: TP_SEXO, dtype: int64"
      ]
     },
     "execution_count": 35,
     "metadata": {},
     "output_type": "execute_result"
    }
   ],
   "source": [
    "df5Alunos = df5.loc[(df5['CO_GRUPO']==72) | (df5['CO_GRUPO']==79) | (df5['CO_GRUPO']==4003) | (df5['CO_GRUPO']==4004) | (df5['CO_GRUPO']==4005) | (df5['CO_GRUPO']==4006) | (df5['CO_GRUPO']==6409)] \n",
    "df5Alunos['TP_SEXO'].value_counts()"
   ]
  },
  {
   "cell_type": "code",
   "execution_count": 36,
   "metadata": {},
   "outputs": [
    {
     "data": {
      "image/png": "[encoded data removed]",
      "text/plain": [
       "<Figure size 432x432 with 1 Axes>"
      ]
     },
     "metadata": {},
     "output_type": "display_data"
    }
   ],
   "source": [
    "# Aqui criamos a área que plotamos o gráfico e definimos seu tamanho\n",
    "fig, ax = plt.subplots(figsize=(6,6), subplot_kw=dict(aspect='equal'))\n",
    "# Criando nosso conjunto de dados\n",
    "sexo = ['Masculino', 'Feminino']\n",
    "quant = [43840, 7172] \n",
    "\n",
    "\n",
    "# Aqui serão colocados os alunos e as porcentagens no gráfico\n",
    "def func(pct, allvals):\n",
    "    # calc %\n",
    "    absolute = int(round(pct/100.*np.sum(allvals)))\n",
    "    # fazendo legenda do gráfico com % e nº de alunos\n",
    "    return \"{:.2f}%\\n({:d})\".format(pct, absolute)\n",
    "    \n",
    "# Criando o gráfico e colocando a função da legenda interna \n",
    "wedges, texts, autotexts = ax.pie(quant, autopct=lambda pct: func(pct, quant),\n",
    "                                  textprops=dict(color=\"w\"))\n",
    "\n",
    "# Definindo a caixa de legenda externa, título, localização e onde vai aparecer\n",
    "ax.legend(wedges, sexo,\n",
    "          title=\"Sexo\",\n",
    "          loc=\"center left\",\n",
    "          bbox_to_anchor=(1, 0, 0.5, 1))\n",
    "    \n",
    "# Aqui definimos o tamanho do texto de dentro do gráfico, e o peso da fonte como bold\n",
    "plt.setp(autotexts, size=12, weight=\"bold\")\n",
    "\n",
    "# Título do gráfico\n",
    "ax.set_title(\"Representação masculina e feminina em porcentagem e valores, no enade na área de TI no ano de 2017\")\n",
    "\n",
    "# Mostrando o gráfico\n",
    "plt.show()"
   ]
  },
  {
   "cell_type": "markdown",
   "metadata": {},
   "source": [
    "**Gráficos comparativos entre os anos de 2005 e 2017.**"
   ]
  },
  {
   "cell_type": "code",
   "execution_count": 37,
   "metadata": {},
   "outputs": [
    {
     "data": {
      "image/png": "[encoded data removed]",
      "text/plain": [
       "<Figure size 720x360 with 1 Axes>"
      ]
     },
     "metadata": {
      "needs_background": "light"
     },
     "output_type": "display_data"
    }
   ],
   "source": [
    "# Gráfico comparativos Masculinos X Femininos\n",
    "\n",
    "Masculino = [81.47, 84.37, 84.84, 84.86, 85.94]\n",
    "Feminino = [18.53, 15.63, 15.16, 15.14, 14.06]\n",
    " \n",
    "\n",
    "# Definindo a largura das barras\n",
    "barWidth = 0.25\n",
    "\n",
    "# Aumentando o gráfico\n",
    "plt.figure(figsize=(10,5))\n",
    "\n",
    "# Definindo a posição das barras\n",
    "r1 = np.arange(len(Masculino))\n",
    "r2 = [x + barWidth for x in r1]\n",
    " \n",
    "# Criando as barras\n",
    "plt.bar(r1, Masculino, color='#6A5ACD', width=barWidth, label='Masculino', edgecolor='b')\n",
    "plt.bar(r2, Feminino, color='#6495ED', width=barWidth, label='Feminino', edgecolor='b')\n",
    "\n",
    "# Adicionando legendas as barras\n",
    "plt.xlabel('Anos')\n",
    "plt.xticks([r + barWidth for r in range(len(Masculino))], ['2005', '2008', '2011', '2014', '2017'])\n",
    "plt.ylabel('% de Alunos')\n",
    "plt.title('Gráfico da representação masculina e feminina em valores absolutos, no enade na área de TI de 2005 até 2017')\n",
    " \n",
    "# Criando a legenda e exibindo o gráfico\n",
    "plt.legend()\n",
    "plt.show()"
   ]
  },
  {
   "cell_type": "code",
   "execution_count": 38,
   "metadata": {},
   "outputs": [
    {
     "data": {
      "image/png": "[encoded data removed]",
      "text/plain": [
       "<Figure size 2160x360 with 2 Axes>"
      ]
     },
     "metadata": {
      "needs_background": "light"
     },
     "output_type": "display_data"
    },
    {
     "data": {
      "image/png": "[encoded data removed]",
      "text/plain": [
       "<Figure size 720x432 with 1 Axes>"
      ]
     },
     "metadata": {
      "needs_background": "light"
     },
     "output_type": "display_data"
    }
   ],
   "source": [
    "\n",
    "Masculino = [81.47, 84.37, 84.84, 84.86, 85.94]\n",
    "Feminino = [18.53, 15.63, 15.16, 15.14, 14.06]\n",
    "anos =  ['2005', '2008', '2011', '2014', '2017']\n",
    "\n",
    "plt.figure(figsize=(30, 5))\n",
    "\n",
    "plt.subplot(131).bar(anos, Masculino, color='#6A5ACD',label='Masculino', edgecolor='black')\n",
    "plt.xlabel('Anos',  fontsize=14)\n",
    "plt.ylabel('% Masculina',  fontsize=14)\n",
    "plt.title('Gráficos da participação masculina',  fontsize=16)\n",
    "plt.grid(True) \n",
    "\n",
    "plt.subplot(132).bar(anos, Feminino, color='#006400', label='Feminino', edgecolor='black')\n",
    "plt.xlabel('Anos',  fontsize=14)\n",
    "plt.ylabel('% Feminina',  fontsize=14)\n",
    "plt.title('Gráficos da participação feminina',  fontsize=16)\n",
    "plt.grid(True) \n",
    "\n",
    "\n",
    "plt.show()\n",
    "\n",
    "\n",
    "\n",
    "plt.figure(figsize=(10, 6))\n",
    "\n",
    "plt.plot(anos, Masculino, color='blue', label='Masculino')\n",
    "plt.plot(anos, Feminino, color='red',  label='Feminino')\n",
    "\n",
    "plt.grid(True)\n",
    "\n",
    "\n",
    "plt.xlabel('Anos', fontsize=14)\n",
    "plt.ylabel('% de participação', fontsize=14)\n",
    "plt.title('Gráfico da representação masculina e feminina em porcentagem, no enade na área de TI de 2005 até 2017', fontsize=16)\n",
    "plt.legend(loc=6)\n",
    "plt.show()"
   ]
  },
  {
   "cell_type": "markdown",
   "metadata": {},
   "source": [
    "# Conclusão\n",
    "Após levantar e cruzar os dados, percebeu-se que apesar das mulheres terem melhorado sua paridade com os homens nos estudos nos últimos anos, no setor de TI a presença feminina apresenta leve declínio com leve tendência de queda nos anos entre 2005 e 2017 como demonstra o gráfico acima."
   ]
  },
  {
   "cell_type": "markdown",
   "metadata": {},
   "source": [
    "# Autores:\n",
    "- Eduardo Boares\n",
    "- Mauro Toshiuki Sakugawa"
   ]
  }
 ],
 "metadata": {
  "kernelspec": {
   "display_name": "Python 3",
   "language": "python",
   "name": "python3"
  },
  "language_info": {
   "codemirror_mode": {
    "name": "ipython",
    "version": 3
   },
   "file_extension": ".py",
   "mimetype": "text/x-python",
   "name": "python",
   "nbconvert_exporter": "python",
   "pygments_lexer": "ipython3",
   "version": "3.7.3"
  }
 },
 "nbformat": 4,
 "nbformat_minor": 2
}
