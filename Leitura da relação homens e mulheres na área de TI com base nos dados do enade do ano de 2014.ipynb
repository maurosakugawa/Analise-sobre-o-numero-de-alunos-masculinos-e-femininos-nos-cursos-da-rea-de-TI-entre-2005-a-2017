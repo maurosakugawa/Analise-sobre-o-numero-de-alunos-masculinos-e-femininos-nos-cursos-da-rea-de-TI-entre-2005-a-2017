{
 "cells": [
  {
   "cell_type": "markdown",
   "metadata": {},
   "source": [
    "# Importando bibliotecas, lendo apenas as colunas necessárias e imprimindo apenas cinco linhas com a função .head()"
   ]
  },
  {
   "cell_type": "code",
   "execution_count": 1,
   "metadata": {},
   "outputs": [
    {
     "data": {
      "text/html": [
       "<div>\n",
       "<style scoped>\n",
       "    .dataframe tbody tr th:only-of-type {\n",
       "        vertical-align: middle;\n",
       "    }\n",
       "\n",
       "    .dataframe tbody tr th {\n",
       "        vertical-align: top;\n",
       "    }\n",
       "\n",
       "    .dataframe thead th {\n",
       "        text-align: right;\n",
       "    }\n",
       "</style>\n",
       "<table border=\"1\" class=\"dataframe\">\n",
       "  <thead>\n",
       "    <tr style=\"text-align: right;\">\n",
       "      <th></th>\n",
       "      <th>NU_ANO</th>\n",
       "      <th>CO_GRUPO</th>\n",
       "      <th>TP_SEXO</th>\n",
       "    </tr>\n",
       "  </thead>\n",
       "  <tbody>\n",
       "    <tr>\n",
       "      <td>0</td>\n",
       "      <td>2014</td>\n",
       "      <td>5710</td>\n",
       "      <td>M</td>\n",
       "    </tr>\n",
       "    <tr>\n",
       "      <td>1</td>\n",
       "      <td>2014</td>\n",
       "      <td>5710</td>\n",
       "      <td>F</td>\n",
       "    </tr>\n",
       "    <tr>\n",
       "      <td>2</td>\n",
       "      <td>2014</td>\n",
       "      <td>5710</td>\n",
       "      <td>F</td>\n",
       "    </tr>\n",
       "    <tr>\n",
       "      <td>3</td>\n",
       "      <td>2014</td>\n",
       "      <td>5710</td>\n",
       "      <td>M</td>\n",
       "    </tr>\n",
       "    <tr>\n",
       "      <td>4</td>\n",
       "      <td>2014</td>\n",
       "      <td>5710</td>\n",
       "      <td>M</td>\n",
       "    </tr>\n",
       "  </tbody>\n",
       "</table>\n",
       "</div>"
      ],
      "text/plain": [
       "   NU_ANO  CO_GRUPO TP_SEXO\n",
       "0    2014      5710       M\n",
       "1    2014      5710       F\n",
       "2    2014      5710       F\n",
       "3    2014      5710       M\n",
       "4    2014      5710       M"
      ]
     },
     "execution_count": 1,
     "metadata": {},
     "output_type": "execute_result"
    }
   ],
   "source": [
    "import pandas as pd\n",
    "import matplotlib.pyplot as plt\n",
    "import numpy as np\n",
    "df = pd.read_csv(\"/home/mauro/Área de Trabalho/enade/microdados_enade_2014/3.DADOS/MICRODADOS_ENADE_2014.txt\", delimiter=';', encoding='iso-8859-1',  usecols=['NU_ANO', 'CO_GRUPO', 'TP_SEXO'])\n",
    "df.head()"
   ]
  },
  {
   "cell_type": "markdown",
   "metadata": {},
   "source": [
    "**Distribuição dos alunos por curso no enem em um universo de todos os cursos**"
   ]
  },
  {
   "cell_type": "code",
   "execution_count": 2,
   "metadata": {},
   "outputs": [
    {
     "data": {
      "text/plain": [
       "Text(0, 0.5, 'Alunos')"
      ]
     },
     "execution_count": 2,
     "metadata": {},
     "output_type": "execute_result"
    },
    {
     "data": {
      "image/png": "[encoded data removed]",
      "text/plain": [
       "<Figure size 1440x864 with 1 Axes>"
      ]
     },
     "metadata": {},
     "output_type": "display_data"
    }
   ],
   "source": [
    "plt.style.use(\"ggplot\")\n",
    "plt.figure(figsize = (20, 12))\n",
    "df[\"CO_GRUPO\"].hist(bins = 100, ec = \"k\", alpha = .6, color = \"royalblue\")\n",
    "plt.title(\"Distribuição dos alunos por cursos\")\n",
    "plt.xlabel(\"Código dos cursos\")\n",
    "plt.ylabel(\"Alunos\")"
   ]
  },
  {
   "cell_type": "markdown",
   "metadata": {},
   "source": [
    "**Usando a função loc para selecionar a coluna que contém os dados desejados e a função count para saber a quantidade de alunos nos cursos.**"
   ]
  },
  {
   "cell_type": "code",
   "execution_count": 3,
   "metadata": {},
   "outputs": [
    {
     "data": {
      "text/plain": [
       "NU_ANO      51776\n",
       "CO_GRUPO    51776\n",
       "TP_SEXO     51776\n",
       "dtype: int64"
      ]
     },
     "execution_count": 3,
     "metadata": {},
     "output_type": "execute_result"
    }
   ],
   "source": [
    "df = df.loc[(df['CO_GRUPO']==72) | (df['CO_GRUPO']==79) | (df['CO_GRUPO']==4004) | (df['CO_GRUPO']==4005) | (df['CO_GRUPO']==4006) | (df['CO_GRUPO']==5809) | (df['CO_GRUPO']==5811)]\n",
    "df.count()"
   ]
  },
  {
   "cell_type": "markdown",
   "metadata": {},
   "source": [
    "**Usando a função loc para selecionar a coluna que contém os dados desejados e a função assign para criar uma nova coluna de nome curso.**"
   ]
  },
  {
   "cell_type": "code",
   "execution_count": 4,
   "metadata": {},
   "outputs": [
    {
     "data": {
      "text/html": [
       "<div>\n",
       "<style scoped>\n",
       "    .dataframe tbody tr th:only-of-type {\n",
       "        vertical-align: middle;\n",
       "    }\n",
       "\n",
       "    .dataframe tbody tr th {\n",
       "        vertical-align: top;\n",
       "    }\n",
       "\n",
       "    .dataframe thead th {\n",
       "        text-align: right;\n",
       "    }\n",
       "</style>\n",
       "<table border=\"1\" class=\"dataframe\">\n",
       "  <thead>\n",
       "    <tr style=\"text-align: right;\">\n",
       "      <th></th>\n",
       "      <th>NU_ANO</th>\n",
       "      <th>CO_GRUPO</th>\n",
       "      <th>TP_SEXO</th>\n",
       "      <th>curso</th>\n",
       "    </tr>\n",
       "  </thead>\n",
       "  <tbody>\n",
       "    <tr>\n",
       "      <td>595</td>\n",
       "      <td>2014</td>\n",
       "      <td>4004</td>\n",
       "      <td>M</td>\n",
       "      <td>4004</td>\n",
       "    </tr>\n",
       "    <tr>\n",
       "      <td>596</td>\n",
       "      <td>2014</td>\n",
       "      <td>4004</td>\n",
       "      <td>M</td>\n",
       "      <td>4004</td>\n",
       "    </tr>\n",
       "    <tr>\n",
       "      <td>597</td>\n",
       "      <td>2014</td>\n",
       "      <td>4004</td>\n",
       "      <td>M</td>\n",
       "      <td>4004</td>\n",
       "    </tr>\n",
       "    <tr>\n",
       "      <td>598</td>\n",
       "      <td>2014</td>\n",
       "      <td>4004</td>\n",
       "      <td>M</td>\n",
       "      <td>4004</td>\n",
       "    </tr>\n",
       "    <tr>\n",
       "      <td>599</td>\n",
       "      <td>2014</td>\n",
       "      <td>4004</td>\n",
       "      <td>M</td>\n",
       "      <td>4004</td>\n",
       "    </tr>\n",
       "  </tbody>\n",
       "</table>\n",
       "</div>"
      ],
      "text/plain": [
       "     NU_ANO  CO_GRUPO TP_SEXO  curso\n",
       "595    2014      4004       M   4004\n",
       "596    2014      4004       M   4004\n",
       "597    2014      4004       M   4004\n",
       "598    2014      4004       M   4004\n",
       "599    2014      4004       M   4004"
      ]
     },
     "execution_count": 4,
     "metadata": {},
     "output_type": "execute_result"
    }
   ],
   "source": [
    "df = df.loc[(df['CO_GRUPO']==72) | (df['CO_GRUPO']==79) | (df['CO_GRUPO']==4004) | (df['CO_GRUPO']==4005) | (df['CO_GRUPO']==4006) | (df['CO_GRUPO']==4007) | (df['CO_GRUPO']==5809) | (df['CO_GRUPO']==5811)].assign(curso=df.CO_GRUPO) \n",
    "df.head()"
   ]
  },
  {
   "cell_type": "markdown",
   "metadata": {},
   "source": [
    "**Criando a função define_nome para converter o código do curso em nome do curso.**"
   ]
  },
  {
   "cell_type": "code",
   "execution_count": 5,
   "metadata": {},
   "outputs": [
    {
     "data": {
      "text/html": [
       "<div>\n",
       "<style scoped>\n",
       "    .dataframe tbody tr th:only-of-type {\n",
       "        vertical-align: middle;\n",
       "    }\n",
       "\n",
       "    .dataframe tbody tr th {\n",
       "        vertical-align: top;\n",
       "    }\n",
       "\n",
       "    .dataframe thead th {\n",
       "        text-align: right;\n",
       "    }\n",
       "</style>\n",
       "<table border=\"1\" class=\"dataframe\">\n",
       "  <thead>\n",
       "    <tr style=\"text-align: right;\">\n",
       "      <th></th>\n",
       "      <th>NU_ANO</th>\n",
       "      <th>CO_GRUPO</th>\n",
       "      <th>TP_SEXO</th>\n",
       "      <th>curso</th>\n",
       "    </tr>\n",
       "  </thead>\n",
       "  <tbody>\n",
       "    <tr>\n",
       "      <td>595</td>\n",
       "      <td>2014</td>\n",
       "      <td>4004</td>\n",
       "      <td>M</td>\n",
       "      <td>COMPUTAÇÃO (BACHARELADO)</td>\n",
       "    </tr>\n",
       "    <tr>\n",
       "      <td>596</td>\n",
       "      <td>2014</td>\n",
       "      <td>4004</td>\n",
       "      <td>M</td>\n",
       "      <td>COMPUTAÇÃO (BACHARELADO)</td>\n",
       "    </tr>\n",
       "    <tr>\n",
       "      <td>597</td>\n",
       "      <td>2014</td>\n",
       "      <td>4004</td>\n",
       "      <td>M</td>\n",
       "      <td>COMPUTAÇÃO (BACHARELADO)</td>\n",
       "    </tr>\n",
       "    <tr>\n",
       "      <td>598</td>\n",
       "      <td>2014</td>\n",
       "      <td>4004</td>\n",
       "      <td>M</td>\n",
       "      <td>COMPUTAÇÃO (BACHARELADO)</td>\n",
       "    </tr>\n",
       "    <tr>\n",
       "      <td>599</td>\n",
       "      <td>2014</td>\n",
       "      <td>4004</td>\n",
       "      <td>M</td>\n",
       "      <td>COMPUTAÇÃO (BACHARELADO)</td>\n",
       "    </tr>\n",
       "  </tbody>\n",
       "</table>\n",
       "</div>"
      ],
      "text/plain": [
       "     NU_ANO  CO_GRUPO TP_SEXO                     curso\n",
       "595    2014      4004       M  COMPUTAÇÃO (BACHARELADO)\n",
       "596    2014      4004       M  COMPUTAÇÃO (BACHARELADO)\n",
       "597    2014      4004       M  COMPUTAÇÃO (BACHARELADO)\n",
       "598    2014      4004       M  COMPUTAÇÃO (BACHARELADO)\n",
       "599    2014      4004       M  COMPUTAÇÃO (BACHARELADO)"
      ]
     },
     "execution_count": 5,
     "metadata": {},
     "output_type": "execute_result"
    }
   ],
   "source": [
    "def define_nome(num):\n",
    "    if num == 72:\n",
    "        return 'TECNOLOGIA EM ANALISE E DESENVOLVIMENTO DE SISTEMAS'\n",
    "    elif num == 79:\n",
    "        return 'TECNOLOGIA EM REDES DE COMPUTADORES'\n",
    "    elif num == 4004:\n",
    "        return 'COMPUTAÇÃO (BACHARELADO)'\n",
    "    elif num == 4005:\n",
    "        return 'COMPUTAÇÃO (LICENCIATURA)'\n",
    "    elif num == 4006:\n",
    "        return 'COMPUTAÇÃO (SISTEMAS DE INFORMAÇÃO)'\n",
    "    elif num == 4007:\n",
    "        return 'COMPUTAÇÃO (BACHARELADO)'\n",
    "    elif num == 4005:\n",
    "        return 'COMPUTAÇÃO (ENGENHARIA DE COMPUTAÇÃO)'   \n",
    "    elif num == 5809:\n",
    "        return 'ENGENHARIA DA COMPUTAÇÃO'\n",
    "    elif num == 5811:\n",
    "        return 'ENGENHARIA DE REDES DE COMUNICAÇÃO' \n",
    "    \n",
    "df['curso'] = df['CO_GRUPO'].map(define_nome)\n",
    "df.head()"
   ]
  },
  {
   "cell_type": "markdown",
   "metadata": {},
   "source": [
    "**Imprimindo o número de alunos por curso da área de TI, a legenda dos códigos dos cursos está no rodapé.**"
   ]
  },
  {
   "cell_type": "code",
   "execution_count": 6,
   "metadata": {},
   "outputs": [
    {
     "data": {
      "text/plain": [
       "4006    16288\n",
       "72      15208\n",
       "4004     9822\n",
       "79       5260\n",
       "5809     2972\n",
       "4005     2226\n",
       "Name: CO_GRUPO, dtype: int64"
      ]
     },
     "execution_count": 6,
     "metadata": {},
     "output_type": "execute_result"
    }
   ],
   "source": [
    "dfTotal = df.loc[(df['CO_GRUPO']==72) | (df['CO_GRUPO']==79) | (df['CO_GRUPO']==4004) | (df['CO_GRUPO']==4005) | (df['CO_GRUPO']==4006) | (df['CO_GRUPO']==5809) | (df['CO_GRUPO']==5811)].assign(curso=df.CO_GRUPO) \n",
    "dfTotal['CO_GRUPO'].value_counts()"
   ]
  },
  {
   "cell_type": "markdown",
   "metadata": {},
   "source": [
    "**Contando o número total de alunos por gênero de sexo na área de TI.<br> São 43.933 alunos do sexo masculino, 7.840 do sexo feminino e 3 com gênero não informado.**"
   ]
  },
  {
   "cell_type": "code",
   "execution_count": 7,
   "metadata": {},
   "outputs": [
    {
     "data": {
      "text/plain": [
       "M    43933\n",
       "F     7840\n",
       "N        3\n",
       "Name: TP_SEXO, dtype: int64"
      ]
     },
     "execution_count": 7,
     "metadata": {},
     "output_type": "execute_result"
    }
   ],
   "source": [
    "dfAlunos = df.loc[(df['CO_GRUPO']==72) | (df['CO_GRUPO']==79) | (df['CO_GRUPO']==4004) | (df['CO_GRUPO']==4005) | (df['CO_GRUPO']==4006) | (df['CO_GRUPO']==4007) | (df['CO_GRUPO']==5809) | (df['CO_GRUPO']==5811) & df['TP_SEXO']==1]\n",
    "dfAlunos['TP_SEXO'].value_counts()"
   ]
  },
  {
   "cell_type": "markdown",
   "metadata": {},
   "source": [
    "**Gráfico pizza com os gêneros informados, como teve apenas três aluno que preferiram não informar seu gênero sexual não foram incluídos no gráfico pois geraria um percentual muito próximo de zero.**"
   ]
  },
  {
   "cell_type": "code",
   "execution_count": 8,
   "metadata": {},
   "outputs": [
    {
     "data": {
      "image/png": "[encoded data removed]",
      "text/plain": [
       "<Figure size 432x432 with 1 Axes>"
      ]
     },
     "metadata": {},
     "output_type": "display_data"
    }
   ],
   "source": [
    "# Aqui criamos a área que plotamos o gráfico e definimos seu tamanho\n",
    "fig, ax = plt.subplots(figsize=(6,6), subplot_kw=dict(aspect='equal'))\n",
    "# Criando nosso conjunto de dados\n",
    "sexo = ['Masculino', 'Feminino']\n",
    "quant = [43933, 7840] \n",
    "\n",
    "\n",
    "# Aqui serão colocados os alunos e as porcentagens no gráfico\n",
    "def func(pct, allvals):\n",
    "    # calc %\n",
    "    absolute = int(round(pct/100.*np.sum(allvals)))\n",
    "    # fazendo legenda do gráfico com % e Nº de Alunos\n",
    "    return \"{:.2f}%\\n({:d})\".format(pct, absolute)\n",
    "    \n",
    "# Criando o gráfico e colocando a função da legenda interna \n",
    "wedges, texts, autotexts = ax.pie(quant, autopct=lambda pct: func(pct, quant),\n",
    "                                  textprops=dict(color=\"w\"))\n",
    "\n",
    "# Definindo a caixa de legenda externa, título, localização e onde vai aparecer\n",
    "ax.legend(wedges, sexo,\n",
    "          title=\"Sexo\",\n",
    "          loc=\"center left\",\n",
    "          bbox_to_anchor=(1, 0, 0.5, 1))\n",
    "    \n",
    "# Aqui definimos o tamanho do texto de dentro do gráfico, e o peso da fonte como bold\n",
    "plt.setp(autotexts, size=12, weight=\"bold\")\n",
    "\n",
    "# Título do gráfico\n",
    "ax.set_title(\"Quantidade de alunos nos cursos da área de TI no ano de 2014\")\n",
    "\n",
    "# Mostrando o gráfico\n",
    "plt.show()"
   ]
  },
  {
   "cell_type": "markdown",
   "metadata": {},
   "source": [
    "**Gráfico de barras com os gêneros sexauis dos alunos, nesse gráfico foi incluído o alunno que preferiu não informar seu gênero e como esperado gerou um percentual próximo de zero.**"
   ]
  },
  {
   "cell_type": "code",
   "execution_count": 9,
   "metadata": {},
   "outputs": [
    {
     "data": {
      "image/png": "[encoded data removed]",
      "text/plain": [
       "<Figure size 432x288 with 1 Axes>"
      ]
     },
     "metadata": {},
     "output_type": "display_data"
    }
   ],
   "source": [
    "# Um gráfico com a relação Homes x Mulheres no enade\n",
    "sexo = ['Masculino', 'Feminino', 'Não Informado']\n",
    "quant = [43933, 7840, 3]\n",
    "\n",
    "\"\"\"\n",
    "    Chamamos o método bar que criará o gráfico de barra \n",
    "    passamos os argumentos que são: \n",
    "        - sexo como eixo x \n",
    "        - quant como eixo y\n",
    "        - color para as cores das barras como green ( verde )\n",
    "\"\"\"\n",
    "plt.bar(sexo, quant, color='green')\n",
    "\n",
    "# Aqui definimos as legendas de cada barra no eixo X\n",
    "plt.xticks(sexo)\n",
    "\n",
    "# A label para o eixo Y\n",
    "plt.ylabel('Nº Alunos')\n",
    "\n",
    "# A label para o eixo X\n",
    "plt.xlabel('Gênero')\n",
    "\n",
    "# O título do gráfico\n",
    "plt.title('Quantidade de alunos nos cursos da área de TI no ano de 2014')\n",
    " \n",
    "# Chamamos o método show() para mostrar o gráfico na tela\n",
    "plt.show()"
   ]
  },
  {
   "cell_type": "markdown",
   "metadata": {},
   "source": [
    "# Legendas:\n",
    "### Coluna sexo\n",
    "**F** : Feminino<br>\n",
    "**M** : Masculino<br>\n",
    "**N** : Não Informado\n",
    "### Coluna Curso\n",
    "\n",
    "**72 -** TECNOLOGIA EM ANÁLISE E DESENVOLVIMENTO DE SISTEMAS <br>\n",
    "**79 -** TECNOLOGIA EM REDES DE COMPUTADORES <br>\n",
    "**4004 -** CIÊNCIA DA COMPUTAÇÃO (BACHARELADO) <br>\n",
    "**4005 -** CIÊNCIA DA COMPUTAÇÃO (LICENCIATURA) <br>\n",
    "**4006 -** SISTEMAS DE INFORMAÇÃO <br>\n",
    "**5809 -** ENGENHARIA DE COMPUTAÇÃO \n",
    "\n",
    "## Observação \n",
    "#### O enade mudou o formato de seus dados, como mudanças eles trouxeram:\n",
    "**Formato do arquivo:** Mudou de csv para txt<br>\n",
    "**Nome das colunas:** Agora as colunas são nomeadas em CAIXA ALTA<br>\n",
    "**Sexo dos alunos:** Mudou-se do formato numérico (1, 2) para o formato alfabético (M, F, N). Foi incluído a possibilidade de não informar seu gênero sexual.\n"
   ]
  }
 ],
 "metadata": {
  "kernelspec": {
   "display_name": "Python 3",
   "language": "python",
   "name": "python3"
  },
  "language_info": {
   "codemirror_mode": {
    "name": "ipython",
    "version": 3
   },
   "file_extension": ".py",
   "mimetype": "text/x-python",
   "name": "python",
   "nbconvert_exporter": "python",
   "pygments_lexer": "ipython3",
   "version": "3.7.3"
  }
 },
 "nbformat": 4,
 "nbformat_minor": 2
}
